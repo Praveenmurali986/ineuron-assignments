{
 "cells": [
  {
   "cell_type": "markdown",
   "id": "3238c2d9",
   "metadata": {},
   "source": [
    "# question no -1"
   ]
  },
  {
   "cell_type": "markdown",
   "id": "b8d279e5",
   "metadata": {},
   "source": [
    "What is the relationship between classes and modules?\n",
    "\n",
    "---\n",
    "\n",
    "answers:\n",
    "\n",
    " In python classes are like a mold/template for creating objects which can be saved to a variable and alter .we can create as many as objects from a class .\n",
    " whereas modules are simply a file of .py formate which contains all the code.it is like libraries which we can import as we want and can use the classes and methods in the modules."
   ]
  },
  {
   "cell_type": "code",
   "execution_count": null,
   "id": "1aee31ce",
   "metadata": {},
   "outputs": [],
   "source": []
  },
  {
   "cell_type": "markdown",
   "id": "c5a7a6ce",
   "metadata": {},
   "source": [
    "# question no -2"
   ]
  },
  {
   "cell_type": "markdown",
   "id": "dda8fcea",
   "metadata": {},
   "source": [
    "How do you make instances and classes?\n",
    "\n",
    "---\n",
    "\n",
    "answers:\n",
    "\n",
    " For creating a class instance. we call a class by its name and pass the arguments which its `__init__` method accepts.\n",
    " eg:\n",
    " for the following class,\n",
    " \n",
    " `class vehicle:\n",
    "     __init__(self,wheels,fuel):\n",
    "         self.wheels=wheels\n",
    "         self.fuel=fuel`\n",
    "         \n",
    " we can create a instace as :\n",
    " `petrol_car=vehicle(4,\"petrol\")`"
   ]
  },
  {
   "cell_type": "code",
   "execution_count": 9,
   "id": "ce2382ad",
   "metadata": {},
   "outputs": [
    {
     "data": {
      "text/plain": [
       "__main__.vehicle"
      ]
     },
     "execution_count": 9,
     "metadata": {},
     "output_type": "execute_result"
    }
   ],
   "source": [
    "class vehicle:\n",
    "     def __init__(self,wheels,fuel):\n",
    "        self.wheels=wheels\n",
    "        self.fuel=fuel\n",
    "        \n",
    "petrol_car=vehicle(4,\"petrol\")\n",
    "type(petrol_car)"
   ]
  },
  {
   "cell_type": "markdown",
   "id": "d0c85c4f",
   "metadata": {},
   "source": [
    "# question no -3"
   ]
  },
  {
   "cell_type": "markdown",
   "id": "933ac3ee",
   "metadata": {},
   "source": [
    "Where and how should be class attributes created?\n",
    "\n",
    "---\n",
    "\n",
    "answers:\n",
    "\n",
    " Class attributes or Class level Attributes belong to the class itself. these attributes will be shared by all the instances of the class. Hence these attributes are usually created/defined in the top of class definiation outside all methods.\n",
    "\n",
    "Example: In the below code we are defining a class attribute called no_of_wheels which will be shared by all the instances of the class Car\n",
    "\n",
    "`class Car:\n",
    "    no_of_wheels = 4; \n",
    "    def __init__(self,color,price,engine):\n",
    "        self.color = color \n",
    "        self.price = price\n",
    "        self.engine = engine`"
   ]
  },
  {
   "cell_type": "code",
   "execution_count": null,
   "id": "15939c12",
   "metadata": {},
   "outputs": [],
   "source": []
  },
  {
   "cell_type": "markdown",
   "id": "e2acfa64",
   "metadata": {},
   "source": [
    "# question no -4"
   ]
  },
  {
   "cell_type": "markdown",
   "id": "4fc78339",
   "metadata": {},
   "source": [
    "Where and how are instance attributes created?\n",
    "\n",
    "---\n",
    "\n",
    "answers:\n",
    "\n",
    "  Instances attributes are passed to the class when an object of the class is created. Unlike class attributes, instance attributes are not shared by all objects of the classs. instead each object maintains its own copy of instance attributes at object level. whereas incase of class attributes all instances of class refer to a single copy. Usually instance attributes are defined within the __init__ method of class\n",
    "  \n",
    "  eg: \n",
    "  \n",
    "  In the below sample code we are creating a class Car with instance varaibles color, price, engine, which will be provided when an instance of class Car is created.\n",
    "\n",
    "`class Car:\n",
    "    def __init__(self,color,price,engine):\n",
    "        self.color = color \n",
    "        self.price = price\n",
    "        self.engine = engine`\n",
    "\n",
    "`tesla = Car('Indigo Blue', 1400000, 'electric')`\n",
    "\n",
    "`swift = Car('Pearl White',2100000, 'petrol')`\n",
    "\n",
    "tesla, swift are both the instances of class Car with different instance variables."
   ]
  },
  {
   "cell_type": "code",
   "execution_count": null,
   "id": "d81e6e67",
   "metadata": {},
   "outputs": [],
   "source": []
  },
  {
   "cell_type": "markdown",
   "id": "6e13c697",
   "metadata": {},
   "source": [
    "# question no -5"
   ]
  },
  {
   "cell_type": "markdown",
   "id": "f408a554",
   "metadata": {},
   "source": [
    "What does the term \"self\" in a Python class mean?\n",
    "\n",
    "---\n",
    "\n",
    "answers:\n",
    "\n",
    "`self` represents the instance of the class. By using the `self` keyword we can access the attributes and methods of the class with in the class in python. It binds the attributes with the given arguments.\n",
    "\n",
    "eg:\n"
   ]
  },
  {
   "cell_type": "code",
   "execution_count": 11,
   "id": "833d456c",
   "metadata": {},
   "outputs": [
    {
     "name": "stdout",
     "output_type": "stream",
     "text": [
      "{'wheel': 4, 'fuel': 'petrol', 'seats': 5}\n",
      "{'wheel': 2, 'fuel': 'petrol', 'seats': 2}\n"
     ]
    }
   ],
   "source": [
    "class vehicle:\n",
    "    def __init__(self,wheel,fuel,seats):\n",
    "        self.wheel=wheel\n",
    "        self.fuel=fuel\n",
    "        self.seats=seats\n",
    "car=vehicle(4,'petrol',5)\n",
    "bike=vehicle(2,'petrol',2)\n",
    "print(car.__dict__)\n",
    "print(bike.__dict__)"
   ]
  },
  {
   "cell_type": "markdown",
   "id": "3e4ed537",
   "metadata": {},
   "source": [
    "# question no -6"
   ]
  },
  {
   "cell_type": "markdown",
   "id": "5ad85700",
   "metadata": {},
   "source": [
    "How does a Python class handle operator overloading?\n",
    "\n",
    "---\n",
    "\n",
    "answers:\n",
    "\n",
    " Python Classes handle operator overloading by using special methods called Magic methods. these special methods usually begin and end with __ (double underscore)\n",
    "\n",
    "Eg:\n",
    "\n",
    "`+ -> __add__()`\n",
    "\n",
    "`- -> __sub__()`\n",
    "\n",
    "`* -> __mul__()`\n",
    "\n",
    "`/ -> __div__()`"
   ]
  },
  {
   "cell_type": "code",
   "execution_count": 17,
   "id": "99cd4102",
   "metadata": {},
   "outputs": [
    {
     "name": "stdout",
     "output_type": "stream",
     "text": [
      "total income is  60000\n"
     ]
    }
   ],
   "source": [
    "class family:\n",
    "    def __init__(self,name,sex,age,income):\n",
    "        self.name=name\n",
    "        self.sex=sex\n",
    "        self.age=age\n",
    "        self.income=income\n",
    "    def __add__(self,arg):\n",
    "        return self.income+arg.income\n",
    "    \n",
    "father=family('jonas','M',45,30000)\n",
    "mother=family('martha','F',42,30000)\n",
    "\n",
    "print('total income is ',father+mother)\n",
    "        "
   ]
  },
  {
   "cell_type": "markdown",
   "id": "69f8a870",
   "metadata": {},
   "source": [
    "# question no -7"
   ]
  },
  {
   "cell_type": "markdown",
   "id": "f746d4c9",
   "metadata": {},
   "source": [
    "When do you consider allowing operator overloading of your classes?\n",
    "\n",
    "---\n",
    "\n",
    "answers:\n",
    "\n",
    "  When we want to have different meaning for the same operator accroding to the context we use operator overloading"
   ]
  },
  {
   "cell_type": "code",
   "execution_count": null,
   "id": "2e40cfff",
   "metadata": {},
   "outputs": [],
   "source": []
  },
  {
   "cell_type": "markdown",
   "id": "08103a65",
   "metadata": {},
   "source": [
    "# question no -8"
   ]
  },
  {
   "cell_type": "markdown",
   "id": "acff1334",
   "metadata": {},
   "source": [
    "What is the most popular form of operator overloading?\n",
    "\n",
    "---\n",
    "\n",
    "answers:\n",
    "\n",
    " The most popular form of operator overloading in python is by special methods called Magic methods. Which usually beign and end with double underscore `__<method name>__.`"
   ]
  },
  {
   "cell_type": "code",
   "execution_count": null,
   "id": "e7c0dfa0",
   "metadata": {},
   "outputs": [],
   "source": []
  },
  {
   "cell_type": "markdown",
   "id": "3224ef8c",
   "metadata": {},
   "source": [
    "# question no -9"
   ]
  },
  {
   "cell_type": "markdown",
   "id": "c4c43ca4",
   "metadata": {},
   "source": [
    "What are the two most important concepts to grasp in order to comprehend Python OOP code?\n",
    "\n",
    "---\n",
    "\n",
    "answers:\n",
    "\n",
    " classes and objects are the two concepts to comprehend python OOP code as more formally objects are entities that represent instances of general abstract concept called class\n",
    "\n",
    "Along with classes and objects the important concepts to grasp are:\n",
    "\n",
    "* Inheritence\n",
    "* Abstraction\n",
    "* Polymorphism\n",
    "* Encapsulation"
   ]
  },
  {
   "cell_type": "code",
   "execution_count": null,
   "id": "28673946",
   "metadata": {},
   "outputs": [],
   "source": []
  }
 ],
 "metadata": {
  "kernelspec": {
   "display_name": "Python 3",
   "language": "python",
   "name": "python3"
  },
  "language_info": {
   "codemirror_mode": {
    "name": "ipython",
    "version": 3
   },
   "file_extension": ".py",
   "mimetype": "text/x-python",
   "name": "python",
   "nbconvert_exporter": "python",
   "pygments_lexer": "ipython3",
   "version": "3.8.8"
  }
 },
 "nbformat": 4,
 "nbformat_minor": 5
}
