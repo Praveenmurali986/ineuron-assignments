{
 "cells": [
  {
   "cell_type": "markdown",
   "id": "3238c2d9",
   "metadata": {},
   "source": [
    "# question no -1"
   ]
  },
  {
   "cell_type": "markdown",
   "id": "b8d279e5",
   "metadata": {},
   "source": [
    " What is the purpose of Python's OOP?\n",
    "\n",
    "---\n",
    "\n",
    "answers:\n",
    "\n",
    "the purpose of OOP (object oriented programing) consept is the following:\n",
    "\n",
    "* in python oop consept we use classes and objects in programming\n",
    "* It helps to divide our over all program into different small segments and thus making it solving easy with the use of objects\n",
    "* Helps in easy maintenance and modification of existing program\n",
    "* Multiple instances of an object can be made\n",
    "* It aims to implement real-world entities like inheritance, polymorphisms, encapsulation, etc. in the programming.\n",
    "*  the data and the functions that work on that together as a single unit so that no other part of the code can access this data."
   ]
  },
  {
   "cell_type": "code",
   "execution_count": null,
   "id": "1aee31ce",
   "metadata": {},
   "outputs": [],
   "source": []
  },
  {
   "cell_type": "markdown",
   "id": "c5a7a6ce",
   "metadata": {},
   "source": [
    "# question no -2"
   ]
  },
  {
   "cell_type": "markdown",
   "id": "dda8fcea",
   "metadata": {},
   "source": [
    "Where does an inheritance search look for an attribute?\n",
    "\n",
    "---\n",
    "\n",
    "answers:\n",
    "\n",
    " Python searches for an attribute in an upward tree of attributes. it first searches for the attribute in its instance and then looks in the class it is generated from, to all super classes listed in its class header"
   ]
  },
  {
   "cell_type": "code",
   "execution_count": null,
   "id": "ce2382ad",
   "metadata": {},
   "outputs": [],
   "source": []
  },
  {
   "cell_type": "markdown",
   "id": "d0c85c4f",
   "metadata": {},
   "source": [
    "# question no -3"
   ]
  },
  {
   "cell_type": "markdown",
   "id": "933ac3ee",
   "metadata": {},
   "source": [
    "How do you distinguish between a class object and an instance object?\n",
    "\n",
    "---\n",
    "\n",
    "answers:\n",
    "\n",
    " the difference between class object and instace objects are the following:\n",
    " \n",
    " * class is a template for a  object where object is a instance of class\n",
    " * Seperate memory is allocated for each object whenever an object is created. but for a class this doesnot happens.\n",
    " * A Class is created once. Many instaces may created using the class.\n",
    " * As Classes have no allocated memory. they can't be manipulated. but objects can be manipulated.\n",
    " "
   ]
  },
  {
   "cell_type": "code",
   "execution_count": null,
   "id": "15939c12",
   "metadata": {},
   "outputs": [],
   "source": []
  },
  {
   "cell_type": "markdown",
   "id": "e2acfa64",
   "metadata": {},
   "source": [
    "# question no -4"
   ]
  },
  {
   "cell_type": "markdown",
   "id": "4fc78339",
   "metadata": {},
   "source": [
    "What makes the first argument in a class’s method function special?\n",
    "\n",
    "---\n",
    "\n",
    "answers:\n",
    "\n",
    "The first argument of every class method, including init, is always a reference to the current instance of the class. By convention, this argument is always named self. In the init method, self refers to the newly created object; in other class methods, it refers to the instance whose method was called."
   ]
  },
  {
   "cell_type": "code",
   "execution_count": null,
   "id": "d81e6e67",
   "metadata": {},
   "outputs": [],
   "source": []
  },
  {
   "cell_type": "markdown",
   "id": "6e13c697",
   "metadata": {},
   "source": [
    "# question no -5"
   ]
  },
  {
   "cell_type": "markdown",
   "id": "f408a554",
   "metadata": {},
   "source": [
    "What is the purpose of the init method?\n",
    "\n",
    "---\n",
    "\n",
    "answers:\n",
    "\n",
    " `__init__` is a reseved method in python classes. It serves the role of a constructor in object oriented terminology. This method is called when an object is created from a class and it allows the class to initialize the attributes of the class"
   ]
  },
  {
   "cell_type": "code",
   "execution_count": null,
   "id": "833d456c",
   "metadata": {},
   "outputs": [],
   "source": []
  },
  {
   "cell_type": "markdown",
   "id": "3e4ed537",
   "metadata": {},
   "source": [
    "# question no -6"
   ]
  },
  {
   "cell_type": "markdown",
   "id": "5ad85700",
   "metadata": {},
   "source": [
    "What is the process for creating a class instance?\n",
    "\n",
    "---\n",
    "\n",
    "answers:\n",
    "\n",
    " To create a class instance, we need to call the class by its name and pass the arguments to the class, which its init method accepts.\n",
    " \n",
    " eg:  \n",
    " if `vehicle` is a class then in the expression `car=vehicle(wheels=4)`,  `vehicle` is the class and `car` is a instace of class vehicle .`4` is the value of the argument` wheels` that class vehicle takes"
   ]
  },
  {
   "cell_type": "code",
   "execution_count": null,
   "id": "99cd4102",
   "metadata": {},
   "outputs": [],
   "source": []
  },
  {
   "cell_type": "markdown",
   "id": "69f8a870",
   "metadata": {},
   "source": [
    "# question no -7"
   ]
  },
  {
   "cell_type": "markdown",
   "id": "f746d4c9",
   "metadata": {},
   "source": [
    "What is the process for creating a class?\n",
    "\n",
    "---\n",
    "\n",
    "answers:\n",
    "\n",
    " `class` keyword is used to created a class in python. The syntax to create a class in python is `class <classname>:`\n",
    "\n",
    "eg:    `class Car:`   #this will create a class named Car"
   ]
  },
  {
   "cell_type": "code",
   "execution_count": null,
   "id": "2e40cfff",
   "metadata": {},
   "outputs": [],
   "source": []
  },
  {
   "cell_type": "markdown",
   "id": "08103a65",
   "metadata": {},
   "source": [
    "# question no -8"
   ]
  },
  {
   "cell_type": "markdown",
   "id": "acff1334",
   "metadata": {},
   "source": [
    "How would you define the superclasses of a class?\n",
    "\n",
    "---\n",
    "\n",
    "answers:\n",
    "\n",
    " The class from which a class inherits is called the parent or superclass. A class which inherits from a superclass is called a subclass, also called child class.\n",
    " \n",
    " eg:  \n",
    "      `class petrol(vehicle):`       here child class `petrol`  inherits atributes and methods  from parent/superclass `vehicle`"
   ]
  },
  {
   "cell_type": "code",
   "execution_count": null,
   "id": "e7c0dfa0",
   "metadata": {},
   "outputs": [],
   "source": []
  }
 ],
 "metadata": {
  "kernelspec": {
   "display_name": "Python 3",
   "language": "python",
   "name": "python3"
  },
  "language_info": {
   "codemirror_mode": {
    "name": "ipython",
    "version": 3
   },
   "file_extension": ".py",
   "mimetype": "text/x-python",
   "name": "python",
   "nbconvert_exporter": "python",
   "pygments_lexer": "ipython3",
   "version": "3.8.8"
  }
 },
 "nbformat": 4,
 "nbformat_minor": 5
}
