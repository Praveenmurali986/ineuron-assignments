{
 "cells": [
  {
   "cell_type": "markdown",
   "id": "3238c2d9",
   "metadata": {},
   "source": [
    "# question no -1"
   ]
  },
  {
   "cell_type": "markdown",
   "id": "b8d279e5",
   "metadata": {},
   "source": [
    " Is an assignment operator like += only for show? Is it possible that it would lead to faster results at the runtime ?\n",
    "\n",
    "---\n",
    "\n",
    "answers:\n",
    "\n",
    " `A=A+1` evaluates to finding A, adding 1 to it. Then storing the value again in variable A. This expression makes Python to look for memory holder of a twice. But `A+=1` simply means value of A is to incremented by 1. As memory address has to be identified once, `+=` leads to faster operation."
   ]
  },
  {
   "cell_type": "code",
   "execution_count": null,
   "id": "1aee31ce",
   "metadata": {},
   "outputs": [],
   "source": []
  },
  {
   "cell_type": "markdown",
   "id": "c5a7a6ce",
   "metadata": {},
   "source": [
    "# question no -2"
   ]
  },
  {
   "cell_type": "markdown",
   "id": "dda8fcea",
   "metadata": {},
   "source": [
    "What is the smallest no of statements you'd have to write in most programming languages to replace the Python expr a, b = a + b, a ?\n",
    "\n",
    "---\n",
    "\n",
    "answers:\n",
    "\n",
    "  Minimum number of lines required to write above code in languages other Python will be 4, two for assigning initial values for variables a and b, and two for reassignment i.e. `a=a+b` and `b=a`."
   ]
  },
  {
   "cell_type": "code",
   "execution_count": null,
   "id": "ce2382ad",
   "metadata": {},
   "outputs": [],
   "source": []
  },
  {
   "cell_type": "markdown",
   "id": "d0c85c4f",
   "metadata": {},
   "source": [
    "# question no -3"
   ]
  },
  {
   "cell_type": "markdown",
   "id": "933ac3ee",
   "metadata": {},
   "source": [
    "In Python, what is the most effective way to set a list of 100 integers to 0?\n",
    "\n",
    "---\n",
    "\n",
    "answers:\n",
    "\n",
    " The Most effective way to set a list of 100 integers to 0 in python is by using repition operator`* `or by using list comprehension."
   ]
  },
  {
   "cell_type": "code",
   "execution_count": 4,
   "id": "15939c12",
   "metadata": {},
   "outputs": [
    {
     "name": "stdout",
     "output_type": "stream",
     "text": [
      "[0, 0, 0, 0, 0, 0, 0, 0, 0, 0, 0, 0, 0, 0, 0, 0, 0, 0, 0, 0, 0, 0, 0, 0, 0, 0, 0, 0, 0, 0, 0, 0, 0, 0, 0, 0, 0, 0, 0, 0, 0, 0, 0, 0, 0, 0, 0, 0, 0, 0, 0, 0, 0, 0, 0, 0, 0, 0, 0, 0, 0, 0, 0, 0, 0, 0, 0, 0, 0, 0, 0, 0, 0, 0, 0, 0, 0, 0, 0, 0, 0, 0, 0, 0, 0, 0, 0, 0, 0, 0, 0, 0, 0, 0, 0, 0, 0, 0, 0, 0]\n",
      "[0, 0, 0, 0, 0, 0, 0, 0, 0, 0, 0, 0, 0, 0, 0, 0, 0, 0, 0, 0, 0, 0, 0, 0, 0, 0, 0, 0, 0, 0, 0, 0, 0, 0, 0, 0, 0, 0, 0, 0, 0, 0, 0, 0, 0, 0, 0, 0, 0, 0, 0, 0, 0, 0, 0, 0, 0, 0, 0, 0, 0, 0, 0, 0, 0, 0, 0, 0, 0, 0, 0, 0, 0, 0, 0, 0, 0, 0, 0, 0, 0, 0, 0, 0, 0, 0, 0, 0, 0, 0, 0, 0, 0, 0, 0, 0, 0, 0, 0, 0]\n"
     ]
    }
   ],
   "source": [
    "zerolist=[0]*100   #using *\n",
    "print(zerolist)\n",
    "listzero=[0 for i in range(100)]  #using list comprehention\n",
    "print(listzero)"
   ]
  },
  {
   "cell_type": "markdown",
   "id": "e2acfa64",
   "metadata": {},
   "source": [
    "# question no -4"
   ]
  },
  {
   "cell_type": "markdown",
   "id": "4fc78339",
   "metadata": {},
   "source": [
    "What is the most effective way to initialise a list of 99 integers that repeats the sequence 1, 2, 3? S If necessary, show step-by-step instructions on how to accomplish this.\n",
    "\n",
    "---\n",
    "\n",
    "answers:\n",
    "\n",
    " "
   ]
  },
  {
   "cell_type": "code",
   "execution_count": 9,
   "id": "d81e6e67",
   "metadata": {},
   "outputs": [
    {
     "name": "stdout",
     "output_type": "stream",
     "text": [
      "[1, 2, 3, 1, 2, 3, 1, 2, 3, 1, 2, 3, 1, 2, 3, 1, 2, 3, 1, 2, 3, 1, 2, 3, 1, 2, 3, 1, 2, 3, 1, 2, 3, 1, 2, 3, 1, 2, 3, 1, 2, 3, 1, 2, 3, 1, 2, 3, 1, 2, 3, 1, 2, 3, 1, 2, 3, 1, 2, 3, 1, 2, 3, 1, 2, 3, 1, 2, 3, 1, 2, 3, 1, 2, 3, 1, 2, 3, 1, 2, 3, 1, 2, 3, 1, 2, 3, 1, 2, 3, 1, 2, 3, 1, 2, 3, 1, 2, 3]\n"
     ]
    }
   ],
   "source": [
    "a_list=[1,2,3]*33\n",
    "print(a_list)"
   ]
  },
  {
   "cell_type": "markdown",
   "id": "6e13c697",
   "metadata": {},
   "source": [
    "# question no -5"
   ]
  },
  {
   "cell_type": "markdown",
   "id": "f408a554",
   "metadata": {},
   "source": [
    " If you're using IDLE to run a Python application, explain how to print a multidimensional list as efficiently?\n",
    "\n",
    "---\n",
    "\n",
    "answers:\n",
    "\n",
    " "
   ]
  },
  {
   "cell_type": "code",
   "execution_count": 10,
   "id": "833d456c",
   "metadata": {
    "scrolled": true
   },
   "outputs": [
    {
     "name": "stdout",
     "output_type": "stream",
     "text": [
      "2 4 6 8 \n",
      "1 3 5 7 \n",
      "8 6 4 2 \n",
      "7 5 3 1 \n"
     ]
    }
   ],
   "source": [
    "a = [ [2, 4, 6, 8 ], [ 1, 3, 5, 7 ], [ 8, 6, 4, 2 ], [ 7, 5, 3, 1 ] ] \n",
    "          \n",
    "for i in range(len(a)) : \n",
    "    for j in range(len(a[i])) : \n",
    "        print(a[i][j], end=\" \")\n",
    "    print()"
   ]
  },
  {
   "cell_type": "code",
   "execution_count": 11,
   "id": "5ea1d911",
   "metadata": {},
   "outputs": [
    {
     "name": "stdout",
     "output_type": "stream",
     "text": [
      "[2, 4, 6, 8, 10]\n",
      "[3, 6, 9, 12, 15]\n",
      "[4, 8, 12, 16, 20]\n"
     ]
    }
   ],
   "source": [
    "a = [[2, 4, 6, 8, 10], [3, 6, 9, 12, 15], [4, 8, 12, 16, 20]]\n",
    "for i in a:\n",
    "    print(i)"
   ]
  },
  {
   "cell_type": "markdown",
   "id": "3e4ed537",
   "metadata": {},
   "source": [
    "# question no -6"
   ]
  },
  {
   "cell_type": "markdown",
   "id": "5ad85700",
   "metadata": {},
   "source": [
    "Is it possible to use list comprehension with a string? If so, how can you go about doing it?\n",
    "\n",
    "---\n",
    "\n",
    "answers:\n",
    "\n",
    " yes"
   ]
  },
  {
   "cell_type": "code",
   "execution_count": 12,
   "id": "99cd4102",
   "metadata": {},
   "outputs": [
    {
     "name": "stdout",
     "output_type": "stream",
     "text": [
      "['i', 'N', 'e', 'u', 'r', 'o', 'n']\n"
     ]
    }
   ],
   "source": [
    "a_list = [i for i in 'iNeuron']\n",
    "print(a_list)"
   ]
  },
  {
   "cell_type": "markdown",
   "id": "69f8a870",
   "metadata": {},
   "source": [
    "# question no -7"
   ]
  },
  {
   "cell_type": "markdown",
   "id": "f746d4c9",
   "metadata": {},
   "source": [
    "From the command line, how do you get support with a user-written Python programme? Is this possible from inside IDLE?\n",
    "\n",
    "---\n",
    "\n",
    "answers:\n",
    "\n",
    " Get support with a user-written Python Programme: Start a command prompt (Windows) or terminal window (Linux/Mac). If the current working directory is the same as the location in which you saved the file, you can simply specify the filename as a command-line argument to the Python interpreter.\n",
    "\n",
    "Get support with a User-written Python Program from IDLE: You can also create script files and run them in IDLE. From the Shell window menu, select `File → New File`. That should open an additional editing window. Type in the code to be executed. From the menu in that window, select `File → Save` or `File → Save As…` and save the file to disk. Then select `Run → Run Module`. The output should appear back in the interpreter"
   ]
  },
  {
   "cell_type": "code",
   "execution_count": null,
   "id": "2e40cfff",
   "metadata": {},
   "outputs": [],
   "source": []
  },
  {
   "cell_type": "markdown",
   "id": "08103a65",
   "metadata": {},
   "source": [
    "# question no -8"
   ]
  },
  {
   "cell_type": "markdown",
   "id": "acff1334",
   "metadata": {},
   "source": [
    " Functions are said to be “first-class objects” in Python but not in most other languages, such as C++ or Java. What can you do in Python with a function (callable object) that you can't do in C or C++?\n",
    "\n",
    "---\n",
    "\n",
    "answers:\n",
    "\n",
    "- A function is an instance of the Object type.\n",
    "- You can store the function in a variable. \n",
    "- You can pass the function as a parameter to another function.\n",
    "- You can return the function from a function.\n",
    "- You can store them in data structures such as hash tables, lists, "
   ]
  },
  {
   "cell_type": "code",
   "execution_count": null,
   "id": "e7c0dfa0",
   "metadata": {},
   "outputs": [],
   "source": []
  },
  {
   "cell_type": "markdown",
   "id": "3224ef8c",
   "metadata": {},
   "source": [
    "# question no -9"
   ]
  },
  {
   "cell_type": "markdown",
   "id": "c4c43ca4",
   "metadata": {},
   "source": [
    " How do you distinguish between a wrapper, a wrapped feature, and a decorator?¶\n",
    "\n",
    "---\n",
    "\n",
    "answers:\n",
    "\n",
    " Wrappers Around the functions are known as Decrators."
   ]
  },
  {
   "cell_type": "code",
   "execution_count": null,
   "id": "28673946",
   "metadata": {},
   "outputs": [],
   "source": []
  },
  {
   "cell_type": "markdown",
   "id": "4d95c606",
   "metadata": {},
   "source": [
    "# question no -10"
   ]
  },
  {
   "cell_type": "markdown",
   "id": "ceef86ff",
   "metadata": {},
   "source": [
    "If a function is a generator function, what does it return?\n",
    "\n",
    "---\n",
    "\n",
    "answers:\n",
    "\n",
    " Generator functions are a special kind of function that return a lazy iterator. These are objects that you can loop over like a list. However, unlike lists, lazy iterators do not store their contents in memory."
   ]
  },
  {
   "cell_type": "code",
   "execution_count": null,
   "id": "8045c449",
   "metadata": {},
   "outputs": [],
   "source": []
  },
  {
   "cell_type": "markdown",
   "id": "1c1b4d73",
   "metadata": {},
   "source": [
    "# question no -11"
   ]
  },
  {
   "cell_type": "markdown",
   "id": "6a6e321f",
   "metadata": {},
   "source": [
    "What is the one improvement that must be made to a function in order for it to become a generator function in the Python language?\n",
    "\n",
    "---\n",
    "\n",
    "answers:\n",
    "\n",
    " Generator is a written as normal function but uses `yield` keyword to return values instead of `return` keyword."
   ]
  },
  {
   "cell_type": "code",
   "execution_count": null,
   "id": "2de896c8",
   "metadata": {},
   "outputs": [],
   "source": []
  },
  {
   "cell_type": "markdown",
   "id": "16d90d7e",
   "metadata": {},
   "source": [
    "# question no -12"
   ]
  },
  {
   "cell_type": "markdown",
   "id": "27928c87",
   "metadata": {},
   "source": [
    "Identify at least one benefit of generators.\n",
    "\n",
    "---\n",
    "\n",
    "answers:\n",
    "\n",
    " return statement sends a specified value back to its caller whereas yield statment can produce a sequence of values. We should use generator when we want to iterate over a sequence, but don’t want to store the entire sequence in memory."
   ]
  },
  {
   "cell_type": "code",
   "execution_count": null,
   "id": "7dae42b4",
   "metadata": {},
   "outputs": [],
   "source": []
  }
 ],
 "metadata": {
  "kernelspec": {
   "display_name": "Python 3",
   "language": "python",
   "name": "python3"
  },
  "language_info": {
   "codemirror_mode": {
    "name": "ipython",
    "version": 3
   },
   "file_extension": ".py",
   "mimetype": "text/x-python",
   "name": "python",
   "nbconvert_exporter": "python",
   "pygments_lexer": "ipython3",
   "version": "3.8.8"
  }
 },
 "nbformat": 4,
 "nbformat_minor": 5
}
