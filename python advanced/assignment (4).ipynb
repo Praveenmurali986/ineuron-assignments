{
 "cells": [
  {
   "cell_type": "markdown",
   "id": "3238c2d9",
   "metadata": {},
   "source": [
    "# question no -1"
   ]
  },
  {
   "cell_type": "markdown",
   "id": "b8d279e5",
   "metadata": {},
   "source": [
    "Which two operator overloading methods can you use in your classes to support iteration?\n",
    "\n",
    "---\n",
    "\n",
    "answers:\n",
    "\n",
    "  `__iter__` and `__next__` are the operator overloading methods in python that support iteration and are collectively called iterator protocol.\n",
    "\n",
    "* `__iter__` returns the iterator object and is called at the start of loop in our respective class.\n",
    "* `__next__` is called at each loop increment, it returns the incremented value. Also Stopiteration is raised when there is no value to return."
   ]
  },
  {
   "cell_type": "code",
   "execution_count": 1,
   "id": "1aee31ce",
   "metadata": {},
   "outputs": [
    {
     "name": "stdout",
     "output_type": "stream",
     "text": [
      "10\n",
      "11\n",
      "12\n",
      "13\n"
     ]
    }
   ],
   "source": [
    "class Counter:\n",
    "    def __init__(self,start,stop):\n",
    "        self.start = start\n",
    "        self.stop = stop\n",
    "    def __iter__(self):\n",
    "        return self\n",
    "    def __next__(self):\n",
    "        if self.start > self.stop:\n",
    "            raise StopIteration\n",
    "        else:\n",
    "            self.start += 1\n",
    "            return self.start - 1\n",
    "for i in Counter(10,13):\n",
    "    print(i)"
   ]
  },
  {
   "cell_type": "code",
   "execution_count": 2,
   "id": "720df841",
   "metadata": {},
   "outputs": [
    {
     "name": "stdout",
     "output_type": "stream",
     "text": [
      "10\n",
      "11\n",
      "12\n",
      "13\n"
     ]
    },
    {
     "ename": "StopIteration",
     "evalue": "",
     "output_type": "error",
     "traceback": [
      "\u001b[1;31m---------------------------------------------------------------------------\u001b[0m",
      "\u001b[1;31mStopIteration\u001b[0m                             Traceback (most recent call last)",
      "\u001b[1;32m<ipython-input-2-1e07cce6f0e7>\u001b[0m in \u001b[0;36m<module>\u001b[1;34m\u001b[0m\n\u001b[0;32m      4\u001b[0m \u001b[0mprint\u001b[0m\u001b[1;33m(\u001b[0m\u001b[0mnext\u001b[0m\u001b[1;33m(\u001b[0m\u001b[0ma\u001b[0m\u001b[1;33m)\u001b[0m\u001b[1;33m)\u001b[0m\u001b[1;33m\u001b[0m\u001b[1;33m\u001b[0m\u001b[0m\n\u001b[0;32m      5\u001b[0m \u001b[0mprint\u001b[0m\u001b[1;33m(\u001b[0m\u001b[0mnext\u001b[0m\u001b[1;33m(\u001b[0m\u001b[0ma\u001b[0m\u001b[1;33m)\u001b[0m\u001b[1;33m)\u001b[0m\u001b[1;33m\u001b[0m\u001b[1;33m\u001b[0m\u001b[0m\n\u001b[1;32m----> 6\u001b[1;33m \u001b[0mprint\u001b[0m\u001b[1;33m(\u001b[0m\u001b[0mnext\u001b[0m\u001b[1;33m(\u001b[0m\u001b[0ma\u001b[0m\u001b[1;33m)\u001b[0m\u001b[1;33m)\u001b[0m\u001b[1;33m\u001b[0m\u001b[1;33m\u001b[0m\u001b[0m\n\u001b[0m",
      "\u001b[1;32m<ipython-input-1-0f04ad3f2547>\u001b[0m in \u001b[0;36m__next__\u001b[1;34m(self)\u001b[0m\n\u001b[0;32m      7\u001b[0m     \u001b[1;32mdef\u001b[0m \u001b[0m__next__\u001b[0m\u001b[1;33m(\u001b[0m\u001b[0mself\u001b[0m\u001b[1;33m)\u001b[0m\u001b[1;33m:\u001b[0m\u001b[1;33m\u001b[0m\u001b[1;33m\u001b[0m\u001b[0m\n\u001b[0;32m      8\u001b[0m         \u001b[1;32mif\u001b[0m \u001b[0mself\u001b[0m\u001b[1;33m.\u001b[0m\u001b[0mstart\u001b[0m \u001b[1;33m>\u001b[0m \u001b[0mself\u001b[0m\u001b[1;33m.\u001b[0m\u001b[0mstop\u001b[0m\u001b[1;33m:\u001b[0m\u001b[1;33m\u001b[0m\u001b[1;33m\u001b[0m\u001b[0m\n\u001b[1;32m----> 9\u001b[1;33m             \u001b[1;32mraise\u001b[0m \u001b[0mStopIteration\u001b[0m\u001b[1;33m\u001b[0m\u001b[1;33m\u001b[0m\u001b[0m\n\u001b[0m\u001b[0;32m     10\u001b[0m         \u001b[1;32melse\u001b[0m\u001b[1;33m:\u001b[0m\u001b[1;33m\u001b[0m\u001b[1;33m\u001b[0m\u001b[0m\n\u001b[0;32m     11\u001b[0m             \u001b[0mself\u001b[0m\u001b[1;33m.\u001b[0m\u001b[0mstart\u001b[0m \u001b[1;33m+=\u001b[0m \u001b[1;36m1\u001b[0m\u001b[1;33m\u001b[0m\u001b[1;33m\u001b[0m\u001b[0m\n",
      "\u001b[1;31mStopIteration\u001b[0m: "
     ]
    }
   ],
   "source": [
    "a=iter(Counter(10,13))\n",
    "print(next(a))\n",
    "print(next(a))\n",
    "print(next(a))\n",
    "print(next(a))\n",
    "print(next(a))"
   ]
  },
  {
   "cell_type": "markdown",
   "id": "c5a7a6ce",
   "metadata": {},
   "source": [
    "# question no -2"
   ]
  },
  {
   "cell_type": "markdown",
   "id": "dda8fcea",
   "metadata": {},
   "source": [
    "In what contexts do the two operator overloading methods manage printing?\n",
    "\n",
    "---\n",
    "\n",
    "answers:\n",
    "\n",
    "` __str__` and `__repr__ `are two operator overloading methods that manage printing.\n",
    "\n",
    "In Short, the difference between both these operators is the goal of `__repr__` is to be unambiguous and `__str__` is to be readable.\n",
    "Whenever we are printing any object reference internally `__str__` method will be called by default.\n",
    "The main purpose of `__str__` is for readability. it prints the informal string representation of an object, one that is useful for printing the object. it may not be possible to convert result string to original object.\n",
    "`__repr__` is used to print official string representation of an object, so it includes all information and development."
   ]
  },
  {
   "cell_type": "code",
   "execution_count": 3,
   "id": "ce2382ad",
   "metadata": {},
   "outputs": [
    {
     "name": "stdout",
     "output_type": "stream",
     "text": [
      "<__main__.vehicle object at 0x000002334AB25340>\n",
      "your vehicle have 4 wheels and run on petrol\n",
      "2022-04-16 12:33:09.395384\n",
      "Unable to convert\n",
      "datetime.datetime(2022, 4, 16, 12, 33, 9, 395384)\n",
      "2022-04-16 12:33:09.395384\n"
     ]
    }
   ],
   "source": [
    "class vehicle:\n",
    "    def __init__(self,wheel,fuel):\n",
    "        self.wheel=wheel\n",
    "        self.fuel=fuel\n",
    "myveh=vehicle(4,'petrol')\n",
    "print(myveh)\n",
    "\n",
    "class vehicle:\n",
    "    def __init__(self,wheel,fuel):\n",
    "        self.wheel=wheel\n",
    "        self.fuel=fuel\n",
    "    def __str__(self):\n",
    "        return f'your vehicle have {self.wheel} wheels and run on {self.fuel}'\n",
    "\n",
    "myveh=vehicle(4,'petrol')\n",
    "print(myveh)\n",
    "\n",
    "\n",
    "import datetime\n",
    "today = datetime.datetime.now()\n",
    "\n",
    "s = str(today) \n",
    "print(s)\n",
    "try:\n",
    "    d = eval(s) # <-- converting str back to datetime object\n",
    "except:\n",
    "    print(\"Unable to convert\")\n",
    "    \n",
    "u = repr(today) \n",
    "print(u)\n",
    "e = eval(u) # <-- converting  back to datetime object\n",
    "print(e)"
   ]
  },
  {
   "cell_type": "markdown",
   "id": "d0c85c4f",
   "metadata": {},
   "source": [
    "# question no -3"
   ]
  },
  {
   "cell_type": "markdown",
   "id": "933ac3ee",
   "metadata": {},
   "source": [
    "In a class, how do you intercept slice operations?\n",
    "\n",
    "---\n",
    "\n",
    "answers:\n",
    "\n",
    " In a class use of `slice()` in `__getitem__` method is used for intercept slice operation. This slice method is provided with start integer number, stop integer number and step integer number.\n",
    "\n",
    "Example: `__getitem__(slice(start,stop,step))`"
   ]
  },
  {
   "cell_type": "code",
   "execution_count": null,
   "id": "15939c12",
   "metadata": {},
   "outputs": [],
   "source": []
  },
  {
   "cell_type": "markdown",
   "id": "e2acfa64",
   "metadata": {},
   "source": [
    "# question no -4"
   ]
  },
  {
   "cell_type": "markdown",
   "id": "4fc78339",
   "metadata": {},
   "source": [
    "In a class, how do you capture in-place addition?\n",
    "\n",
    "---\n",
    "\n",
    "answers:\n",
    "\n",
    " `a+b` is normal addition. Whereas `a+=b` is inplace addition operation. In this in-place addition a itself will store the value of addition. In a class `__iadd__` method is used for this in-place operation"
   ]
  },
  {
   "cell_type": "code",
   "execution_count": 4,
   "id": "d81e6e67",
   "metadata": {},
   "outputs": [
    {
     "name": "stdout",
     "output_type": "stream",
     "text": [
      "300\n"
     ]
    }
   ],
   "source": [
    "class Book:\n",
    "    def __init__(self,pages):\n",
    "        self.pages = pages\n",
    "    def __iadd__(self,other):\n",
    "        self.pages += other.pages\n",
    "        return self.pages\n",
    "        \n",
    "b1 = Book(100)\n",
    "b2 = Book(200)\n",
    "b1+=b2\n",
    "print(b1)"
   ]
  },
  {
   "cell_type": "markdown",
   "id": "6e13c697",
   "metadata": {},
   "source": [
    "# question no -5"
   ]
  },
  {
   "cell_type": "markdown",
   "id": "f408a554",
   "metadata": {},
   "source": [
    " When is it appropriate to use operator overloading?\n",
    "\n",
    "---\n",
    "\n",
    "answers:\n",
    "\n",
    " Operator overloading is used when we want to use an operator other than its normal operation to have different meaning according to the context required in user defined function."
   ]
  },
  {
   "cell_type": "code",
   "execution_count": 5,
   "id": "833d456c",
   "metadata": {
    "scrolled": true
   },
   "outputs": [
    {
     "ename": "TypeError",
     "evalue": "unsupported operand type(s) for +: 'Book' and 'Book'",
     "output_type": "error",
     "traceback": [
      "\u001b[1;31m---------------------------------------------------------------------------\u001b[0m",
      "\u001b[1;31mTypeError\u001b[0m                                 Traceback (most recent call last)",
      "\u001b[1;32m<ipython-input-5-6f2a70e993ef>\u001b[0m in \u001b[0;36m<module>\u001b[1;34m\u001b[0m\n\u001b[0;32m      4\u001b[0m \u001b[0mb1\u001b[0m \u001b[1;33m=\u001b[0m \u001b[0mBook\u001b[0m\u001b[1;33m(\u001b[0m\u001b[1;36m100\u001b[0m\u001b[1;33m)\u001b[0m\u001b[1;33m\u001b[0m\u001b[1;33m\u001b[0m\u001b[0m\n\u001b[0;32m      5\u001b[0m \u001b[0mb2\u001b[0m \u001b[1;33m=\u001b[0m \u001b[0mBook\u001b[0m\u001b[1;33m(\u001b[0m\u001b[1;36m200\u001b[0m\u001b[1;33m)\u001b[0m\u001b[1;33m\u001b[0m\u001b[1;33m\u001b[0m\u001b[0m\n\u001b[1;32m----> 6\u001b[1;33m \u001b[0mb1\u001b[0m\u001b[1;33m+\u001b[0m\u001b[0mb2\u001b[0m\u001b[1;33m\u001b[0m\u001b[1;33m\u001b[0m\u001b[0m\n\u001b[0m",
      "\u001b[1;31mTypeError\u001b[0m: unsupported operand type(s) for +: 'Book' and 'Book'"
     ]
    }
   ],
   "source": [
    "#here the normal add funtion doesnot makes any sence so it raise an error\n",
    "\n",
    "class Book:\n",
    "    def __init__(self,pages):\n",
    "        self.pages = pages\n",
    "b1 = Book(100)\n",
    "b2 = Book(200)\n",
    "b1+b2"
   ]
  },
  {
   "cell_type": "code",
   "execution_count": 6,
   "id": "82c89730",
   "metadata": {},
   "outputs": [
    {
     "name": "stdout",
     "output_type": "stream",
     "text": [
      "total no of page is 300\n"
     ]
    }
   ],
   "source": [
    "#here inoder to make sence of add funtion we alter its funtion and now it gives us a meaningful result\n",
    "\n",
    "class Book:\n",
    "    def __init__(self,pages):\n",
    "        self.pages = pages\n",
    "    def __add__(self,other):\n",
    "        return self.pages+other.pages\n",
    "b1 = Book(100)\n",
    "b2 = Book(200)\n",
    "print('total no of page is',b1+b2)"
   ]
  }
 ],
 "metadata": {
  "kernelspec": {
   "display_name": "Python 3",
   "language": "python",
   "name": "python3"
  },
  "language_info": {
   "codemirror_mode": {
    "name": "ipython",
    "version": 3
   },
   "file_extension": ".py",
   "mimetype": "text/x-python",
   "name": "python",
   "nbconvert_exporter": "python",
   "pygments_lexer": "ipython3",
   "version": "3.8.8"
  }
 },
 "nbformat": 4,
 "nbformat_minor": 5
}
