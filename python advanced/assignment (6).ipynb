{
 "cells": [
  {
   "cell_type": "markdown",
   "id": "3238c2d9",
   "metadata": {},
   "source": [
    "# question no -1"
   ]
  },
  {
   "cell_type": "markdown",
   "id": "b8d279e5",
   "metadata": {},
   "source": [
    "Describe three applications for exception processing.\n",
    "\n",
    "---\n",
    "\n",
    "answers:\n",
    "\n",
    "  Exception Processing is important to find exceptions that causes the runtime error. As runtime errors Halt the program execution when exception occurs.\n",
    "\n",
    "Exception Processing is used in Various Applications of which few examples are:\n",
    "\n",
    "* Checking Appropriate use of input in an application\n",
    "* Checking for Arithmetic exceptions in mathematical executions\n",
    "* Checking File I/O exceptions during File handling"
   ]
  },
  {
   "cell_type": "code",
   "execution_count": null,
   "id": "1aee31ce",
   "metadata": {},
   "outputs": [],
   "source": []
  },
  {
   "cell_type": "markdown",
   "id": "c5a7a6ce",
   "metadata": {},
   "source": [
    "# question no -2"
   ]
  },
  {
   "cell_type": "markdown",
   "id": "dda8fcea",
   "metadata": {},
   "source": [
    "What happens if you don't do something extra to treat an exception?\n",
    "\n",
    "---\n",
    "\n",
    "answers:\n",
    "\n",
    " If we not handled the exception in a code then if there is an runtime error that will happend to terminate the code .simply it will crash the code if we didnt handled the exception. "
   ]
  },
  {
   "cell_type": "code",
   "execution_count": null,
   "id": "ce2382ad",
   "metadata": {},
   "outputs": [],
   "source": []
  },
  {
   "cell_type": "markdown",
   "id": "d0c85c4f",
   "metadata": {},
   "source": [
    "# question no -3"
   ]
  },
  {
   "cell_type": "markdown",
   "id": "933ac3ee",
   "metadata": {},
   "source": [
    "What are your options for recovering from an exception in your script?\n",
    "\n",
    "---\n",
    "\n",
    "answers:\n",
    "\n",
    " By writing the script inside a `try:` `except:` statements we can recover the script from exception."
   ]
  },
  {
   "cell_type": "code",
   "execution_count": null,
   "id": "15939c12",
   "metadata": {},
   "outputs": [],
   "source": []
  },
  {
   "cell_type": "markdown",
   "id": "e2acfa64",
   "metadata": {},
   "source": [
    "# question no -4"
   ]
  },
  {
   "cell_type": "markdown",
   "id": "4fc78339",
   "metadata": {},
   "source": [
    "Describe two methods for triggering exceptions in your script ?\n",
    "\n",
    "---\n",
    "\n",
    "answers:\n",
    "\n",
    " raise and assert are two methods that can be used to trigger manual exceptions in your script.\n",
    "\n",
    "raise method triggers an exception if condition provided to it turns out to be True.\n",
    "assert will let the program to continue execution if condition provided to it turns out to be True else exception will be raised"
   ]
  },
  {
   "cell_type": "code",
   "execution_count": 1,
   "id": "d81e6e67",
   "metadata": {},
   "outputs": [
    {
     "ename": "Exception",
     "evalue": "X Value Should not exceed 5 The Provided Value of X is 10",
     "output_type": "error",
     "traceback": [
      "\u001b[1;31m---------------------------------------------------------------------------\u001b[0m",
      "\u001b[1;31mException\u001b[0m                                 Traceback (most recent call last)",
      "\u001b[1;32m<ipython-input-1-4b2fe57f6986>\u001b[0m in \u001b[0;36m<module>\u001b[1;34m\u001b[0m\n\u001b[0;32m      1\u001b[0m \u001b[1;31m#Exception by raise\u001b[0m\u001b[1;33m\u001b[0m\u001b[1;33m\u001b[0m\u001b[1;33m\u001b[0m\u001b[0m\n\u001b[0;32m      2\u001b[0m \u001b[0mx\u001b[0m \u001b[1;33m=\u001b[0m \u001b[1;36m10\u001b[0m\u001b[1;33m\u001b[0m\u001b[1;33m\u001b[0m\u001b[0m\n\u001b[1;32m----> 3\u001b[1;33m \u001b[1;32mraise\u001b[0m \u001b[0mException\u001b[0m\u001b[1;33m(\u001b[0m\u001b[1;34mf'X Value Should not exceed 5 The Provided Value of X is {x}'\u001b[0m\u001b[1;33m)\u001b[0m\u001b[1;33m\u001b[0m\u001b[1;33m\u001b[0m\u001b[0m\n\u001b[0m",
      "\u001b[1;31mException\u001b[0m: X Value Should not exceed 5 The Provided Value of X is 10"
     ]
    }
   ],
   "source": [
    "#Exception by raise\n",
    "x = 10\n",
    "raise Exception(f'X Value Should not exceed 5 The Provided Value of X is {x}')"
   ]
  },
  {
   "cell_type": "code",
   "execution_count": 2,
   "id": "12c416da",
   "metadata": {},
   "outputs": [
    {
     "ename": "AssertionError",
     "evalue": "2 is not equal to 4",
     "output_type": "error",
     "traceback": [
      "\u001b[1;31m---------------------------------------------------------------------------\u001b[0m",
      "\u001b[1;31mAssertionError\u001b[0m                            Traceback (most recent call last)",
      "\u001b[1;32m<ipython-input-2-4bae8b6bc771>\u001b[0m in \u001b[0;36m<module>\u001b[1;34m\u001b[0m\n\u001b[0;32m      1\u001b[0m \u001b[1;31m#Exception by assert\u001b[0m\u001b[1;33m\u001b[0m\u001b[1;33m\u001b[0m\u001b[1;33m\u001b[0m\u001b[0m\n\u001b[1;32m----> 2\u001b[1;33m \u001b[1;32massert\u001b[0m\u001b[1;33m(\u001b[0m\u001b[1;36m2\u001b[0m\u001b[1;33m==\u001b[0m\u001b[1;36m4\u001b[0m\u001b[1;33m)\u001b[0m\u001b[1;33m,\u001b[0m \u001b[1;34m\"2 is not equal to 4\"\u001b[0m\u001b[1;33m\u001b[0m\u001b[1;33m\u001b[0m\u001b[0m\n\u001b[0m",
      "\u001b[1;31mAssertionError\u001b[0m: 2 is not equal to 4"
     ]
    }
   ],
   "source": [
    "#Exception by assert\n",
    "assert(2==4), \"2 is not equal to 4\""
   ]
  },
  {
   "cell_type": "markdown",
   "id": "6e13c697",
   "metadata": {},
   "source": [
    "# question no -5"
   ]
  },
  {
   "cell_type": "markdown",
   "id": "f408a554",
   "metadata": {},
   "source": [
    "Identify two methods for specifying actions to be executed at termination time, regardless of whether or not an exception exists.\n",
    "\n",
    "---\n",
    "\n",
    "answers:\n",
    "\n",
    " Python Provides `else` and `finally` blocks for specifying actions to be executed at termination time, regardless of whether an exceptions exists or not."
   ]
  },
  {
   "cell_type": "code",
   "execution_count": null,
   "id": "833d456c",
   "metadata": {},
   "outputs": [],
   "source": []
  }
 ],
 "metadata": {
  "kernelspec": {
   "display_name": "Python 3",
   "language": "python",
   "name": "python3"
  },
  "language_info": {
   "codemirror_mode": {
    "name": "ipython",
    "version": 3
   },
   "file_extension": ".py",
   "mimetype": "text/x-python",
   "name": "python",
   "nbconvert_exporter": "python",
   "pygments_lexer": "ipython3",
   "version": "3.8.8"
  }
 },
 "nbformat": 4,
 "nbformat_minor": 5
}
