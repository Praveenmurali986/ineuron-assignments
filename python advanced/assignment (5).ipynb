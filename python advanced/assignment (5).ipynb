{
 "cells": [
  {
   "cell_type": "markdown",
   "id": "3238c2d9",
   "metadata": {},
   "source": [
    "# question no -1"
   ]
  },
  {
   "cell_type": "markdown",
   "id": "b8d279e5",
   "metadata": {},
   "source": [
    "What is the meaning of multiple inheritance?\n",
    "\n",
    "---\n",
    "\n",
    "answers:\n",
    "\n",
    " Inheritence is nothing but reusing the code of Parent class by the child class. Similary when a child class inherits its properties from multiple Parent classes this scenario is called Multiple Inheritence"
   ]
  },
  {
   "cell_type": "code",
   "execution_count": 1,
   "id": "1aee31ce",
   "metadata": {},
   "outputs": [],
   "source": [
    "class Parent_1:\n",
    "    pass\n",
    "class Parent_2:\n",
    "    pass\n",
    "class child(Parent_1,Parent_2):\n",
    "    pass"
   ]
  },
  {
   "cell_type": "markdown",
   "id": "c5a7a6ce",
   "metadata": {},
   "source": [
    "# question no -2"
   ]
  },
  {
   "cell_type": "markdown",
   "id": "dda8fcea",
   "metadata": {},
   "source": [
    "What is the concept of delegation?\n",
    "\n",
    "---\n",
    "\n",
    "answers:\n",
    "\n",
    " Delegation provides a proxy object for any class thay you want on top of the main class. its like a wrapper to your class so that you can access limited resources of the main class.\n",
    "\n",
    "it Wraps the object of main class into a smaller object with limited access\n",
    "\n",
    "Simply Delegation means that you can include a instance of another class as an instance variable, and forward messages to the instance."
   ]
  },
  {
   "cell_type": "code",
   "execution_count": 7,
   "id": "ce2382ad",
   "metadata": {},
   "outputs": [
    {
     "name": "stdout",
     "output_type": "stream",
     "text": [
      "my name is praveen\n",
      "my age is 22\n",
      "my name is praveen\n",
      "my name is praveen\n",
      "my age is 22\n"
     ]
    }
   ],
   "source": [
    "class FirstClass:\n",
    "    def saymyname(self):\n",
    "        print('my name is praveen')\n",
    "    def saymyage(self):\n",
    "        print('my age is 22')\n",
    "class SecondClass():\n",
    "    def __init__(self,obj):\n",
    "        self.main=obj\n",
    "    def sayanything(self):\n",
    "        self.main.saymyname()\n",
    "        \n",
    "a=FirstClass()\n",
    "b=SecondClass(a)\n",
    "a.saymyname()\n",
    "a.saymyage()\n",
    "b.sayanything()\n",
    "b.main.saymyname()\n",
    "b.main.saymyage()"
   ]
  },
  {
   "cell_type": "markdown",
   "id": "d0c85c4f",
   "metadata": {},
   "source": [
    "# question no -3"
   ]
  },
  {
   "cell_type": "markdown",
   "id": "933ac3ee",
   "metadata": {},
   "source": [
    "What is the concept of composition?\n",
    "\n",
    "---\n",
    "\n",
    "answers:\n",
    "\n",
    " In the concept of Composition, a class refers to one or more other classes by using instances of those classes as a instance variable. irrespective of inheritence in this approach all the parent class members are not inherited into child class, but only required methods from a class are used by using class instances."
   ]
  },
  {
   "cell_type": "code",
   "execution_count": 14,
   "id": "15939c12",
   "metadata": {},
   "outputs": [],
   "source": [
    "class vehicle:\n",
    "    def __init__(self,km,total_fuel):\n",
    "        self.km=km\n",
    "        self.total_fuel=total_fuel\n",
    "    def milage(self):\n",
    "        return self.km/self.total_fuel\n",
    "class drive50km:\n",
    "    def __init__(self,km,total_fuel):\n",
    "        self.km=km\n",
    "        self.total_fuel=total_fuel\n",
    "        self.milage_obj=vehicle(self.km,self.total_fuel)\n",
    "    def fuel_for_50km(self):\n",
    "        return f'you need {50/self.milage_obj.milage()} l of fuel.'\n",
    "        "
   ]
  },
  {
   "cell_type": "code",
   "execution_count": 15,
   "id": "6f8fa789",
   "metadata": {},
   "outputs": [
    {
     "data": {
      "text/plain": [
       "'you need 1.1111111111111112 l of fuel.'"
      ]
     },
     "execution_count": 15,
     "metadata": {},
     "output_type": "execute_result"
    }
   ],
   "source": [
    "a=vehicle(90,2)\n",
    "a.milage()\n",
    "b=drive50km(45,1)\n",
    "b.fuel_for_50km()"
   ]
  },
  {
   "cell_type": "markdown",
   "id": "e2acfa64",
   "metadata": {},
   "source": [
    "# question no -4"
   ]
  },
  {
   "cell_type": "markdown",
   "id": "4fc78339",
   "metadata": {},
   "source": [
    "What are bound methods and how do we use them?\n",
    "\n",
    "---\n",
    "\n",
    "answers:\n",
    "\n",
    " If a function is an attribute of class and it is accessed via the instances, they are called bound methods. A bound method is one that has `self` as its first argument. Since these are dependent on the instance of classes, these are also known as instance methods."
   ]
  },
  {
   "cell_type": "code",
   "execution_count": 1,
   "id": "d81e6e67",
   "metadata": {},
   "outputs": [
    {
     "name": "stdout",
     "output_type": "stream",
     "text": [
      "<bound method A.func of <__main__.A object at 0x0000028401BEC5B0>>\n"
     ]
    }
   ],
   "source": [
    "class A:\n",
    "    def func(self, arg):\n",
    "        self.arg = arg\n",
    "        print(\"Value of arg = \", arg)\n",
    "obj = A()  \n",
    "print(obj.func)"
   ]
  },
  {
   "cell_type": "markdown",
   "id": "6e13c697",
   "metadata": {},
   "source": [
    "# question no -5"
   ]
  },
  {
   "cell_type": "markdown",
   "id": "f408a554",
   "metadata": {},
   "source": [
    "What is the purpose of pseudoprivate attributes?\n",
    "\n",
    "---\n",
    "\n",
    "answers:\n",
    "\n",
    "  Pseudoprivate attributes are also useful in larger frameworks or tools, both to avoid introducing new method names that might accidentally hide definitions elsewhere in the class tree and to reduce the chance of internal methods being replaced by names defined lower in the tree. If a method is intended for use only within a class that may be mixed into other classes, the double underscore prefix ensures that the method won't interfere with other names in the tree, especially in multiple-inheritance scenarios\n",
    "\n",
    "Pseudoprivate names also prevent subclasses from accidentally redefining the internal method's names,"
   ]
  },
  {
   "cell_type": "code",
   "execution_count": 13,
   "id": "833d456c",
   "metadata": {},
   "outputs": [],
   "source": [
    "class Super:\n",
    "    def method(self): # A real application method\n",
    "        print('Super method')\n",
    "class Tool:\n",
    "    def _method(self): # becomes _Tool_method\n",
    "        print('Tool method')\n",
    "    def other(self): # uses internal method\n",
    "        self._method()\n",
    "class Subl(Tool,Super):\n",
    "    def actions(self):\n",
    "        self.method()\n",
    "class Sub2(Tool):\n",
    "    def __init__(self):\n",
    "        self.method = 99"
   ]
  },
  {
   "cell_type": "code",
   "execution_count": 14,
   "id": "4159d9ea",
   "metadata": {},
   "outputs": [
    {
     "name": "stdout",
     "output_type": "stream",
     "text": [
      "Super method\n",
      "Tool method\n",
      "Tool method\n",
      "Super method\n"
     ]
    },
    {
     "data": {
      "text/plain": [
       "99"
      ]
     },
     "execution_count": 14,
     "metadata": {},
     "output_type": "execute_result"
    }
   ],
   "source": [
    "a=Super()\n",
    "a.method()\n",
    "b=Tool()\n",
    "b.other()\n",
    "b._method()\n",
    "c=Subl()\n",
    "c.actions()\n",
    "d=Sub2()\n",
    "d.method\n"
   ]
  }
 ],
 "metadata": {
  "kernelspec": {
   "display_name": "Python 3",
   "language": "python",
   "name": "python3"
  },
  "language_info": {
   "codemirror_mode": {
    "name": "ipython",
    "version": 3
   },
   "file_extension": ".py",
   "mimetype": "text/x-python",
   "name": "python",
   "nbconvert_exporter": "python",
   "pygments_lexer": "ipython3",
   "version": "3.8.8"
  }
 },
 "nbformat": 4,
 "nbformat_minor": 5
}
