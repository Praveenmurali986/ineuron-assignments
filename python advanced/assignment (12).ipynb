{
 "cells": [
  {
   "cell_type": "markdown",
   "id": "3238c2d9",
   "metadata": {},
   "source": [
    "# question no -1"
   ]
  },
  {
   "cell_type": "markdown",
   "id": "b8d279e5",
   "metadata": {},
   "source": [
    "Does assigning a value to a string's indexed character violate Python's string immutability ?\n",
    "\n",
    "---\n",
    "\n",
    "answers:\n",
    "\n",
    " String’s indexed character cannot to be assigned a New value , as Strings are immutable."
   ]
  },
  {
   "cell_type": "code",
   "execution_count": 3,
   "id": "1aee31ce",
   "metadata": {},
   "outputs": [
    {
     "name": "stdout",
     "output_type": "stream",
     "text": [
      "2042719430064\n"
     ]
    },
    {
     "ename": "TypeError",
     "evalue": "'str' object does not support item assignment",
     "output_type": "error",
     "traceback": [
      "\u001b[1;31m---------------------------------------------------------------------------\u001b[0m",
      "\u001b[1;31mTypeError\u001b[0m                                 Traceback (most recent call last)",
      "\u001b[1;32m<ipython-input-3-139d2f0ba900>\u001b[0m in \u001b[0;36m<module>\u001b[1;34m\u001b[0m\n\u001b[0;32m      1\u001b[0m \u001b[0mname\u001b[0m \u001b[1;33m=\u001b[0m \u001b[1;34m\"Ineuron\"\u001b[0m\u001b[1;33m\u001b[0m\u001b[1;33m\u001b[0m\u001b[0m\n\u001b[0;32m      2\u001b[0m \u001b[0mprint\u001b[0m\u001b[1;33m(\u001b[0m\u001b[0mid\u001b[0m\u001b[1;33m(\u001b[0m\u001b[0mname\u001b[0m\u001b[1;33m)\u001b[0m\u001b[1;33m)\u001b[0m\u001b[1;33m\u001b[0m\u001b[1;33m\u001b[0m\u001b[0m\n\u001b[1;32m----> 3\u001b[1;33m \u001b[0mname\u001b[0m\u001b[1;33m[\u001b[0m\u001b[1;36m0\u001b[0m\u001b[1;33m]\u001b[0m \u001b[1;33m=\u001b[0m \u001b[1;34m\"1\"\u001b[0m\u001b[1;33m\u001b[0m\u001b[1;33m\u001b[0m\u001b[0m\n\u001b[0m",
      "\u001b[1;31mTypeError\u001b[0m: 'str' object does not support item assignment"
     ]
    }
   ],
   "source": [
    "name = \"Ineuron\"\n",
    "print(id(name)) \n",
    "name[0] = \"1\""
   ]
  },
  {
   "cell_type": "markdown",
   "id": "c5a7a6ce",
   "metadata": {},
   "source": [
    "# question no -2"
   ]
  },
  {
   "cell_type": "markdown",
   "id": "dda8fcea",
   "metadata": {},
   "source": [
    "Does using the += operator to concatenate strings violate Python's string immutability? Why or why not ?\n",
    "\n",
    "---\n",
    "\n",
    "answers:\n",
    "\n",
    "  `+=` operator is used to concatenate strings, it does not violate Python’s string immutability Property. Because doing so new creates a new association with data and variable."
   ]
  },
  {
   "cell_type": "code",
   "execution_count": 4,
   "id": "ce2382ad",
   "metadata": {},
   "outputs": [
    {
     "name": "stdout",
     "output_type": "stream",
     "text": [
      "2042647428464\n",
      "2042719463856\n"
     ]
    }
   ],
   "source": [
    "str1 = 'I'\n",
    "print(id(str1))\n",
    "str1 += 'n'\n",
    "print(id(str1))"
   ]
  },
  {
   "cell_type": "markdown",
   "id": "d0c85c4f",
   "metadata": {},
   "source": [
    "# question no -3"
   ]
  },
  {
   "cell_type": "markdown",
   "id": "933ac3ee",
   "metadata": {},
   "source": [
    "In Python, how many different ways are there to index a character?\n",
    "\n",
    "---\n",
    "\n",
    "answers:\n",
    "\n",
    " A Character in string can be indexed using string name followed by index number of character in square bracket. Positive Indexing i.e. first index is 0 an so on, or Negative Indexing i.e. last letter is -1 and so on can be used to index a character"
   ]
  },
  {
   "cell_type": "code",
   "execution_count": 6,
   "id": "15939c12",
   "metadata": {},
   "outputs": [
    {
     "name": "stdout",
     "output_type": "stream",
     "text": [
      "I\n",
      "o\n"
     ]
    }
   ],
   "source": [
    "string='Ineuron'\n",
    "print(string[0])\n",
    "print(string[-2])"
   ]
  },
  {
   "cell_type": "markdown",
   "id": "e2acfa64",
   "metadata": {},
   "source": [
    "# question no -4"
   ]
  },
  {
   "cell_type": "markdown",
   "id": "4fc78339",
   "metadata": {},
   "source": [
    " What is the relationship between indexing and slicing?\n",
    "\n",
    "---\n",
    "\n",
    "answers:\n",
    "\n",
    " We can access elements of sequence datatypes by using slicing and indexing. Indexing is used to obtaining individual element while slicing for sequence of elements."
   ]
  },
  {
   "cell_type": "code",
   "execution_count": 7,
   "id": "d81e6e67",
   "metadata": {},
   "outputs": [
    {
     "name": "stdout",
     "output_type": "stream",
     "text": [
      "I\n",
      "Ine\n"
     ]
    }
   ],
   "source": [
    "string='Ineuron'\n",
    "print(string[0])  #indexing\n",
    "print(string[0:3]) #slicing"
   ]
  },
  {
   "cell_type": "markdown",
   "id": "6e13c697",
   "metadata": {},
   "source": [
    "# question no -5"
   ]
  },
  {
   "cell_type": "markdown",
   "id": "f408a554",
   "metadata": {},
   "source": [
    "What is an indexed character's exact data type? What is the data form of a slicing-generated substring?\n",
    "\n",
    "---\n",
    "\n",
    "answers:\n",
    "\n",
    " Indexed characters and sliced substrings have datatype String"
   ]
  },
  {
   "cell_type": "code",
   "execution_count": 8,
   "id": "833d456c",
   "metadata": {},
   "outputs": [
    {
     "name": "stdout",
     "output_type": "stream",
     "text": [
      "data type of indexing is  <class 'str'>\n",
      "data type of slicing is <class 'str'>\n"
     ]
    }
   ],
   "source": [
    "print('data type of indexing is ' ,type(string[0]))\n",
    "print('data type of slicing is', type(string[0:3])) "
   ]
  },
  {
   "cell_type": "markdown",
   "id": "3e4ed537",
   "metadata": {},
   "source": [
    "# question no -6"
   ]
  },
  {
   "cell_type": "markdown",
   "id": "5ad85700",
   "metadata": {},
   "source": [
    "What is the relationship between string and character \"types\" in Python?\n",
    "\n",
    "---\n",
    "\n",
    "answers:\n",
    "\n",
    " Object that contains sequence of character datatypes are called String."
   ]
  },
  {
   "cell_type": "code",
   "execution_count": null,
   "id": "99cd4102",
   "metadata": {},
   "outputs": [],
   "source": []
  },
  {
   "cell_type": "markdown",
   "id": "69f8a870",
   "metadata": {},
   "source": [
    "# question no -7"
   ]
  },
  {
   "cell_type": "markdown",
   "id": "f746d4c9",
   "metadata": {},
   "source": [
    "Identify at least two operators & one method that allow you to combine one or more smaller strings to create a larger string ?\n",
    "\n",
    "---\n",
    "\n",
    "answers:\n",
    "\n",
    "  +, += and * allow to combine one or more smaller strings to create a larger string. <string>.join(<sep>) method joins element of iterable type like list and tuple to get a combined string."
   ]
  },
  {
   "cell_type": "code",
   "execution_count": 12,
   "id": "2e40cfff",
   "metadata": {},
   "outputs": [
    {
     "name": "stdout",
     "output_type": "stream",
     "text": [
      "iNeuron Full Stack Data Science FSDS\n",
      "FSDS FSDS FSDS \n",
      "INEURON\n"
     ]
    }
   ],
   "source": [
    "string = 'iNeuron '\n",
    "string += 'Full Stack Data Science'\n",
    "print(string + ' FSDS')\n",
    "print('FSDS '*3)\n",
    "print(\"\".join(('I','N','E','U','R','O','N')))"
   ]
  },
  {
   "cell_type": "markdown",
   "id": "08103a65",
   "metadata": {},
   "source": [
    "# question no -8"
   ]
  },
  {
   "cell_type": "markdown",
   "id": "acff1334",
   "metadata": {},
   "source": [
    "What is the benefit of first checking the target string with in or not in before using the index method to find a substring ?\n",
    "\n",
    "---\n",
    "\n",
    "answers:\n",
    "\n",
    " Checking the target string with in or not Operators before using the index method to find a substring just helps confirming availability of substring and thus avoid raising of ValueError.\n",
    "Example:"
   ]
  },
  {
   "cell_type": "code",
   "execution_count": 13,
   "id": "e7c0dfa0",
   "metadata": {},
   "outputs": [
    {
     "ename": "ValueError",
     "evalue": "substring not found",
     "output_type": "error",
     "traceback": [
      "\u001b[1;31m---------------------------------------------------------------------------\u001b[0m",
      "\u001b[1;31mValueError\u001b[0m                                Traceback (most recent call last)",
      "\u001b[1;32m<ipython-input-13-d313bf3d7f9f>\u001b[0m in \u001b[0;36m<module>\u001b[1;34m\u001b[0m\n\u001b[0;32m      1\u001b[0m \u001b[0min_string\u001b[0m \u001b[1;33m=\u001b[0m \u001b[1;34m\"ineuron\"\u001b[0m\u001b[1;33m\u001b[0m\u001b[1;33m\u001b[0m\u001b[0m\n\u001b[1;32m----> 2\u001b[1;33m \u001b[0min_string\u001b[0m\u001b[1;33m.\u001b[0m\u001b[0mindex\u001b[0m\u001b[1;33m(\u001b[0m\u001b[1;34m'x'\u001b[0m\u001b[1;33m)\u001b[0m\u001b[1;33m\u001b[0m\u001b[1;33m\u001b[0m\u001b[0m\n\u001b[0m",
      "\u001b[1;31mValueError\u001b[0m: substring not found"
     ]
    }
   ],
   "source": [
    "in_string = \"ineuron\"\n",
    "in_string.index('x')\n"
   ]
  },
  {
   "cell_type": "markdown",
   "id": "3224ef8c",
   "metadata": {},
   "source": [
    "# question no -9"
   ]
  },
  {
   "cell_type": "markdown",
   "id": "c4c43ca4",
   "metadata": {},
   "source": [
    "Which operators and built-in string methods produce simple Boolean (true/false) results?\n",
    "\n",
    "---\n",
    "\n",
    "answers:\n",
    "\n",
    " The String Operators and built-in methods to Produce Simple Boolean (True/False) Results are:\n",
    "- **`in`**\n",
    "- **`not`**\n",
    "- **`<string>.isalpha()`**\n",
    "- **`<string>.isalnum()`**\n",
    "- **`<string>.isdecimal()`**\n",
    "- **`<string>.isdigit()`**\n",
    "- **`<string>.islower()`**\n",
    "- **`<string>.isnumeric()`**\n",
    "- **`<string>.isprintable()`**\n",
    "- **`<string>.isspace()`**\n",
    "- **`<string>.istitle()`**"
   ]
  },
  {
   "cell_type": "code",
   "execution_count": null,
   "id": "28673946",
   "metadata": {},
   "outputs": [],
   "source": []
  }
 ],
 "metadata": {
  "kernelspec": {
   "display_name": "Python 3",
   "language": "python",
   "name": "python3"
  },
  "language_info": {
   "codemirror_mode": {
    "name": "ipython",
    "version": 3
   },
   "file_extension": ".py",
   "mimetype": "text/x-python",
   "name": "python",
   "nbconvert_exporter": "python",
   "pygments_lexer": "ipython3",
   "version": "3.8.8"
  }
 },
 "nbformat": 4,
 "nbformat_minor": 5
}
