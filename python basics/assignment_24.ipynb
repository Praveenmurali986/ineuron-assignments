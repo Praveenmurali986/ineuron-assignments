{
 "cells": [
  {
   "cell_type": "markdown",
   "id": "3238c2d9",
   "metadata": {},
   "source": [
    "# question no -1"
   ]
  },
  {
   "cell_type": "markdown",
   "id": "b8d279e5",
   "metadata": {},
   "source": [
    "What is the relationship between def statements and lambda expressions ?\n",
    "\n",
    "---\n",
    "\n",
    "answers:\n",
    "\n",
    " def is used to create a normal funtion where as the lambda is used to create a anonymous funtion which can be saved and called by an variable.\n",
    " unlike def we dont use blocks of statements in lambda insted uses simple expretion which resemple the return statements."
   ]
  },
  {
   "cell_type": "code",
   "execution_count": null,
   "id": "1aee31ce",
   "metadata": {},
   "outputs": [],
   "source": []
  },
  {
   "cell_type": "markdown",
   "id": "c5a7a6ce",
   "metadata": {},
   "source": [
    "# question no -2"
   ]
  },
  {
   "cell_type": "markdown",
   "id": "dda8fcea",
   "metadata": {},
   "source": [
    "What is the benefit of lambda?\n",
    "\n",
    "---\n",
    "\n",
    "answers:\n",
    "\n",
    " * if we need a funion for a sigle purpouse lambda enable us to create a small,simple and reasonable funtions \n",
    " * lambda funtion can be created by a single line code\n",
    " * can be saved into some variable and can call later"
   ]
  },
  {
   "cell_type": "code",
   "execution_count": null,
   "id": "ce2382ad",
   "metadata": {},
   "outputs": [],
   "source": []
  },
  {
   "cell_type": "markdown",
   "id": "d0c85c4f",
   "metadata": {},
   "source": [
    "# question no -3"
   ]
  },
  {
   "cell_type": "markdown",
   "id": "933ac3ee",
   "metadata": {},
   "source": [
    "Compare and contrast map, filter, and reduce.\n",
    "\n",
    "---\n",
    "\n",
    "answers:\n",
    "\n",
    " * `map()`: It is the function which takes function as a parameter and any iterables.it iterate through it and apply the function to it then gives the output\n",
    " * `filter()` : It is the function enable us to get output that only returns True.\n",
    " * `reduce()` : As it is named it is used to reduce the iterable to a single value"
   ]
  },
  {
   "cell_type": "code",
   "execution_count": null,
   "id": "15939c12",
   "metadata": {},
   "outputs": [],
   "source": []
  },
  {
   "cell_type": "markdown",
   "id": "e2acfa64",
   "metadata": {},
   "source": [
    "# question no -4"
   ]
  },
  {
   "cell_type": "markdown",
   "id": "4fc78339",
   "metadata": {},
   "source": [
    "What are function annotations, and how are they used?\n",
    "\n",
    "---\n",
    "\n",
    "answers:\n",
    "\n",
    " it is the  arbitrary python expressions which associat with various part of functions. These expressions are evaluated at compile time . Python does not have any meaning to these annotations."
   ]
  },
  {
   "cell_type": "code",
   "execution_count": 5,
   "id": "d81e6e67",
   "metadata": {},
   "outputs": [
    {
     "data": {
      "text/plain": [
       "'hello world! hello world! '"
      ]
     },
     "execution_count": 5,
     "metadata": {},
     "output_type": "execute_result"
    }
   ],
   "source": [
    "def hw(i:'int'):\n",
    "    return 'hello world! '*i\n",
    "hw(2)"
   ]
  },
  {
   "cell_type": "markdown",
   "id": "6e13c697",
   "metadata": {},
   "source": [
    "# question no -5"
   ]
  },
  {
   "cell_type": "markdown",
   "id": "f408a554",
   "metadata": {},
   "source": [
    "What are recursive functions, and how are they used?\n",
    "\n",
    "---\n",
    "\n",
    "answers:\n",
    "\n",
    " it is the convention of calling the function itself in the same function is called recursive funtion .it may happen several times in a function."
   ]
  },
  {
   "cell_type": "code",
   "execution_count": 9,
   "id": "833d456c",
   "metadata": {},
   "outputs": [
    {
     "name": "stdout",
     "output_type": "stream",
     "text": [
      "hello world! hello world! hello world! hello world! \n",
      "hello world! hello world! hello world! \n",
      "hello world! hello world! \n",
      "hello world! \n"
     ]
    }
   ],
   "source": [
    "def hw(i:'int'):\n",
    "    if type(i)==int and i>0:\n",
    "        text='hello world! '*i\n",
    "        print(text,end='\\n')\n",
    "        hw(i-1)\n",
    "        \n",
    "hw(4)"
   ]
  },
  {
   "cell_type": "markdown",
   "id": "3e4ed537",
   "metadata": {},
   "source": [
    "# question no -6"
   ]
  },
  {
   "cell_type": "markdown",
   "id": "5ad85700",
   "metadata": {},
   "source": [
    "What are some general design guidelines for coding functions?\n",
    "\n",
    "---\n",
    "\n",
    "answers:\n",
    "\n",
    " *  use a docstring to explain the functionality of the function\n",
    " * Proper Identation to increase the code readability\n",
    " * Constant should be represented in allcaps\n",
    " * try to use a name for the function which conveys the purpose of the function\n",
    " * Avoid using digits while choosing a variable name\n",
    " * try to follow a naming convention for function names (pascalCase or camelCase) and stick with the same convention throughout the code"
   ]
  },
  {
   "cell_type": "code",
   "execution_count": null,
   "id": "99cd4102",
   "metadata": {},
   "outputs": [],
   "source": []
  },
  {
   "cell_type": "markdown",
   "id": "69f8a870",
   "metadata": {},
   "source": [
    "# question no -7"
   ]
  },
  {
   "cell_type": "markdown",
   "id": "f746d4c9",
   "metadata": {},
   "source": [
    "Name three or more ways that functions can communicate results to a caller.\n",
    "\n",
    "---\n",
    "\n",
    "answers:\n",
    "\n",
    " functions that can communicate results to a caller are the following\n",
    " * return\n",
    " * print\n",
    " * yield"
   ]
  },
  {
   "cell_type": "code",
   "execution_count": null,
   "id": "2e40cfff",
   "metadata": {},
   "outputs": [],
   "source": []
  }
 ],
 "metadata": {
  "kernelspec": {
   "display_name": "Python 3",
   "language": "python",
   "name": "python3"
  },
  "language_info": {
   "codemirror_mode": {
    "name": "ipython",
    "version": 3
   },
   "file_extension": ".py",
   "mimetype": "text/x-python",
   "name": "python",
   "nbconvert_exporter": "python",
   "pygments_lexer": "ipython3",
   "version": "3.8.8"
  }
 },
 "nbformat": 4,
 "nbformat_minor": 5
}
