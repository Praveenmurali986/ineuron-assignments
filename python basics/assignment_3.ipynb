{
 "cells": [
  {
   "cell_type": "markdown",
   "id": "e588490c",
   "metadata": {},
   "source": [
    "# question no - 1 "
   ]
  },
  {
   "cell_type": "markdown",
   "id": "97c50b54",
   "metadata": {},
   "source": [
    "Why are functions advantageous to have in your programs?\n",
    "\n",
    "------------------------------------------------------------------\n",
    "\n",
    "answers:\n",
    "\n",
    "The main use of functions is to increase the reusablity of code insted of writing the same code a hundred times.\n",
    "Not only that functions make the code more readable,and easy to understant . "
   ]
  },
  {
   "cell_type": "markdown",
   "id": "e5d8412a",
   "metadata": {},
   "source": [
    "# question no - 2"
   ]
  },
  {
   "cell_type": "markdown",
   "id": "c64a6c10",
   "metadata": {},
   "source": [
    "When does the code in a function run: when it's specified or when it's called?\n",
    "\n",
    "-------------------------------------------------------------------------------------------\n",
    "\n",
    "answers:\n",
    "\n",
    "the functions execute/run when it's called."
   ]
  },
  {
   "cell_type": "markdown",
   "id": "d6145283",
   "metadata": {},
   "source": [
    "# question no - 3"
   ]
  },
  {
   "cell_type": "markdown",
   "id": "9d59ae9d",
   "metadata": {},
   "source": [
    "What statement creates a function?\n",
    "\n",
    "------------------------------------------------\n",
    "\n",
    "answers:\n",
    "\n",
    "`def` is the statement which creates a function\n"
   ]
  },
  {
   "cell_type": "code",
   "execution_count": 31,
   "id": "0b3de7b9",
   "metadata": {},
   "outputs": [
    {
     "data": {
      "text/plain": [
       "'python is fun'"
      ]
     },
     "execution_count": 31,
     "metadata": {},
     "output_type": "execute_result"
    }
   ],
   "source": [
    "def fun():\n",
    "    return 'python is fun'\n",
    "\n",
    "fun()"
   ]
  },
  {
   "cell_type": "markdown",
   "id": "0f842fd5",
   "metadata": {},
   "source": [
    "# question no - 4"
   ]
  },
  {
   "cell_type": "markdown",
   "id": "f63b3d09",
   "metadata": {},
   "source": [
    "What is the difference between a function and a function call?\n",
    "\n",
    "-----------------------------------------------------------------\n",
    "\n",
    "answers:\n",
    "\n",
    "functions are the piece of codes which can perform a specified task and function call is that calling a pre defined function in any part of a code to do the specific task that  function can do"
   ]
  },
  {
   "cell_type": "code",
   "execution_count": 32,
   "id": "700df28b",
   "metadata": {},
   "outputs": [
    {
     "data": {
      "text/plain": [
       "'python is fun'"
      ]
     },
     "execution_count": 32,
     "metadata": {},
     "output_type": "execute_result"
    }
   ],
   "source": [
    "def fun():                       # function\n",
    "    return 'python is fun'\n",
    "\n",
    "fun()                            # function call"
   ]
  },
  {
   "cell_type": "markdown",
   "id": "60fcdfe7",
   "metadata": {},
   "source": [
    "# question no - 5"
   ]
  },
  {
   "cell_type": "markdown",
   "id": "5121f7a8",
   "metadata": {},
   "source": [
    "How many global scopes are there in a Python program? How many local scopes?\n",
    "\n",
    "-------------------------------------------------------------------------------------------------\n",
    "\n",
    "answers:\n",
    "\n",
    "There is only one global scope that is available to the entire code and  only one local scope which is available to a functions only not to entire code "
   ]
  },
  {
   "cell_type": "markdown",
   "id": "2677199b",
   "metadata": {},
   "source": [
    "# question no - 6"
   ]
  },
  {
   "cell_type": "markdown",
   "id": "fdec8b75",
   "metadata": {},
   "source": [
    "What happens to variables in a local scope when the function call returns?\n",
    "\n",
    "-------------------------------------------------------------------------------\n",
    "\n",
    "answers:\n",
    "\n",
    "After the funtion call returns the local variables are forgoten."
   ]
  },
  {
   "cell_type": "code",
   "execution_count": 33,
   "id": "28b3854b",
   "metadata": {},
   "outputs": [
    {
     "ename": "NameError",
     "evalue": "name 'a' is not defined",
     "output_type": "error",
     "traceback": [
      "\u001b[1;31m---------------------------------------------------------------------------\u001b[0m",
      "\u001b[1;31mNameError\u001b[0m                                 Traceback (most recent call last)",
      "\u001b[1;32m<ipython-input-33-0140fa9185dc>\u001b[0m in \u001b[0;36m<module>\u001b[1;34m\u001b[0m\n\u001b[0;32m      4\u001b[0m \u001b[1;33m\u001b[0m\u001b[0m\n\u001b[0;32m      5\u001b[0m \u001b[0mfun\u001b[0m\u001b[1;33m(\u001b[0m\u001b[1;33m)\u001b[0m\u001b[1;33m\u001b[0m\u001b[1;33m\u001b[0m\u001b[0m\n\u001b[1;32m----> 6\u001b[1;33m \u001b[0ma\u001b[0m\u001b[1;33m\u001b[0m\u001b[1;33m\u001b[0m\u001b[0m\n\u001b[0m",
      "\u001b[1;31mNameError\u001b[0m: name 'a' is not defined"
     ]
    }
   ],
   "source": [
    "def fun():\n",
    "    a='ineuron'\n",
    "    return 'python is fun'\n",
    "\n",
    "fun()\n",
    "a"
   ]
  },
  {
   "cell_type": "markdown",
   "id": "c98360aa",
   "metadata": {},
   "source": [
    "# question no - 7"
   ]
  },
  {
   "cell_type": "markdown",
   "id": "d40196b2",
   "metadata": {},
   "source": [
    "What is the concept of a return value? Is it possible to have a return value in an expression?\n",
    "\n",
    "--------------------------------------------------------------------------------------------------\n",
    "\n",
    "answers:\n",
    "\n",
    "return value is the result of a funcion which get to the caller when funtion call.Return can be an expression."
   ]
  },
  {
   "cell_type": "code",
   "execution_count": 34,
   "id": "f7e5ae49",
   "metadata": {},
   "outputs": [
    {
     "data": {
      "text/plain": [
       "5"
      ]
     },
     "execution_count": 34,
     "metadata": {},
     "output_type": "execute_result"
    }
   ],
   "source": [
    "def add(a,b):\n",
    "    return a+b\n",
    "\n",
    "add(1,4)"
   ]
  },
  {
   "cell_type": "code",
   "execution_count": 35,
   "id": "64de7e8b",
   "metadata": {},
   "outputs": [
    {
     "data": {
      "text/plain": [
       "9"
      ]
     },
     "execution_count": 35,
     "metadata": {},
     "output_type": "execute_result"
    }
   ],
   "source": [
    "1+add(3,5)"
   ]
  },
  {
   "cell_type": "markdown",
   "id": "10e2baf5",
   "metadata": {},
   "source": [
    "# question no - 8"
   ]
  },
  {
   "cell_type": "markdown",
   "id": "80bdcfc9",
   "metadata": {},
   "source": [
    "If a function does not have a return statement, what is the return value of a call to that function?\n",
    "\n",
    "-------------------------------------------------------------------------------------\n",
    "\n",
    "answers:\n",
    "    \n",
    "   `None` will be the return value of a function in case it has no retrun statement"
   ]
  },
  {
   "cell_type": "code",
   "execution_count": 36,
   "id": "afa70f6e",
   "metadata": {},
   "outputs": [
    {
     "data": {
      "text/plain": [
       "NoneType"
      ]
     },
     "execution_count": 36,
     "metadata": {},
     "output_type": "execute_result"
    }
   ],
   "source": [
    "def add(a,b):\n",
    "    a+b\n",
    "    \n",
    "add(4,6)\n",
    "type(add(4,6))"
   ]
  },
  {
   "cell_type": "markdown",
   "id": "aa9e54b9",
   "metadata": {},
   "source": [
    "# question no - 9"
   ]
  },
  {
   "cell_type": "markdown",
   "id": "8e9ee5b6",
   "metadata": {},
   "source": [
    "How do you make a function variable refer to the global variable?\n",
    "\n",
    "------------------------------------------------------------------------\n",
    "\n",
    "answers:\n",
    "\n",
    "we can refer a function variable to global variable by using the `global` keyword"
   ]
  },
  {
   "cell_type": "markdown",
   "id": "bb1177e6",
   "metadata": {},
   "source": [
    "# question no - 10"
   ]
  },
  {
   "cell_type": "markdown",
   "id": "5d3b7d95",
   "metadata": {},
   "source": [
    "What is the data type of None?\n",
    "\n",
    "-----------------------------------------------\n",
    "\n",
    "answers:\n",
    "\n",
    "data type of` None` is `Nonetype`\n"
   ]
  },
  {
   "cell_type": "code",
   "execution_count": 37,
   "id": "9846b088",
   "metadata": {},
   "outputs": [
    {
     "data": {
      "text/plain": [
       "NoneType"
      ]
     },
     "execution_count": 37,
     "metadata": {},
     "output_type": "execute_result"
    }
   ],
   "source": [
    "type(None)"
   ]
  },
  {
   "cell_type": "markdown",
   "id": "6e3b37f8",
   "metadata": {},
   "source": [
    "# question no - 11"
   ]
  },
  {
   "cell_type": "markdown",
   "id": "35f3d888",
   "metadata": {},
   "source": [
    "What does the sentence import areallyourpetsnamederic do?\n",
    "\n",
    "--------------------------------------------------------------------\n",
    "\n",
    "answers:\n",
    "\n",
    "`import areallyourpetsnamederic` helps us to import the module named areallyourpetsnamederic"
   ]
  },
  {
   "cell_type": "markdown",
   "id": "d6a83d78",
   "metadata": {},
   "source": [
    "# question no - 12"
   ]
  },
  {
   "cell_type": "markdown",
   "id": "d891c1f7",
   "metadata": {},
   "source": [
    "If you had a bacon() feature in a spam module, what would you call it after importing spam?\n",
    "\n",
    "-----------------------------------------------------\n",
    "\n",
    "answers:\n",
    "\n",
    "the funtion will be called as `spam.bacon()`"
   ]
  },
  {
   "cell_type": "markdown",
   "id": "133f461a",
   "metadata": {},
   "source": [
    "# question no - 13"
   ]
  },
  {
   "cell_type": "markdown",
   "id": "5f7489bb",
   "metadata": {},
   "source": [
    "What can you do to save a programme from crashing if it encounters an error?\n",
    "\n",
    "-----------------------------------------------------------------\n",
    "\n",
    "answers:\n",
    "\n",
    "we can put the code that can cause error in a `try` clause and handle it with `except` clause"
   ]
  },
  {
   "cell_type": "code",
   "execution_count": 41,
   "id": "4d2e46ef",
   "metadata": {},
   "outputs": [
    {
     "name": "stdout",
     "output_type": "stream",
     "text": [
      "division by zero\n"
     ]
    }
   ],
   "source": [
    "try:\n",
    "    3/0\n",
    "except Exception as e:\n",
    "    print(e)"
   ]
  },
  {
   "cell_type": "markdown",
   "id": "6aa6f200",
   "metadata": {},
   "source": [
    "# question no - 14"
   ]
  },
  {
   "cell_type": "markdown",
   "id": "4b12ea05",
   "metadata": {},
   "source": [
    "What is the purpose of the try clause? What is the purpose of the except clause?\n",
    "\n",
    "-------------------------------------------------------------------------------------------\n",
    "\n",
    "answers:\n",
    "\n",
    "code can potentialy cause an error is written inside the `try` clause and the code we want to execute if there is an error occured is written inside the `except` clause"
   ]
  },
  {
   "cell_type": "code",
   "execution_count": 42,
   "id": "24804b13",
   "metadata": {},
   "outputs": [
    {
     "name": "stdout",
     "output_type": "stream",
     "text": [
      "division by zero\n"
     ]
    }
   ],
   "source": [
    "try:\n",
    "    3/0\n",
    "except Exception as e:\n",
    "    print(e)"
   ]
  },
  {
   "cell_type": "code",
   "execution_count": null,
   "id": "e2137e76",
   "metadata": {},
   "outputs": [],
   "source": []
  }
 ],
 "metadata": {
  "kernelspec": {
   "display_name": "Python 3",
   "language": "python",
   "name": "python3"
  },
  "language_info": {
   "codemirror_mode": {
    "name": "ipython",
    "version": 3
   },
   "file_extension": ".py",
   "mimetype": "text/x-python",
   "name": "python",
   "nbconvert_exporter": "python",
   "pygments_lexer": "ipython3",
   "version": "3.8.8"
  }
 },
 "nbformat": 4,
 "nbformat_minor": 5
}
