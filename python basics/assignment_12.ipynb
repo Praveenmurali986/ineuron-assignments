{
 "cells": [
  {
   "cell_type": "markdown",
   "id": "e449d373",
   "metadata": {},
   "source": [
    "# question no - 1"
   ]
  },
  {
   "cell_type": "markdown",
   "id": "d5e51912",
   "metadata": {},
   "source": [
    "In what modes should the PdfFileReader() and PdfFileWriter() File objects will be opened?\n",
    "\n",
    "---\n",
    "\n",
    "answers:\n",
    "\n",
    "* `PdfFileReader()` --> open in `rb` (read binary) mode \n",
    "* `PdfFileWriter()` --> open in `wb` (write binary) mode"
   ]
  },
  {
   "cell_type": "code",
   "execution_count": null,
   "id": "331a1f50",
   "metadata": {},
   "outputs": [],
   "source": []
  },
  {
   "cell_type": "markdown",
   "id": "280c95bb",
   "metadata": {},
   "source": [
    "# question no - 2"
   ]
  },
  {
   "cell_type": "markdown",
   "id": "506beef9",
   "metadata": {},
   "source": [
    " From a PdfFileReader object, how do you get a Page object for page 5?\n",
    "\n",
    "---\n",
    "\n",
    "answers:\n",
    "\n",
    " `PdfFileReader` have a method called `getPage()`.using this `PdfFileReader(path).getPage(5)` we can get a Page object for page 5"
   ]
  },
  {
   "cell_type": "code",
   "execution_count": null,
   "id": "38248966",
   "metadata": {},
   "outputs": [],
   "source": []
  },
  {
   "cell_type": "markdown",
   "id": "0187702f",
   "metadata": {},
   "source": [
    "# question no - 3"
   ]
  },
  {
   "cell_type": "markdown",
   "id": "1f50232b",
   "metadata": {},
   "source": [
    "What PdfFileReader variable stores the number of pages in the PDF document?\n",
    "\n",
    "---\n",
    "\n",
    "answers:\n",
    "\n",
    " `getPageNum()` method of `PdfFileReader()` stores the number of pages in the PDF document"
   ]
  },
  {
   "cell_type": "code",
   "execution_count": null,
   "id": "4993e769",
   "metadata": {},
   "outputs": [],
   "source": []
  },
  {
   "cell_type": "markdown",
   "id": "e106a243",
   "metadata": {},
   "source": [
    "# question no - 4"
   ]
  },
  {
   "cell_type": "markdown",
   "id": "3e2b638a",
   "metadata": {},
   "source": [
    " If a PdfFileReader object’s PDF is encrypted with the password swordfish, what must you do before you can obtain Page objects from it?\n",
    "\n",
    "---\n",
    "\n",
    "answers:\n",
    "\n",
    " By using isEncrypted we can check if a pdf file is encrypted or not.this method returns True if file is encrypted and False if not.\n",
    " \n",
    " even if it is encrypted with password, by using decrypt() method provided with the password can read the encrypted pdf."
   ]
  },
  {
   "cell_type": "code",
   "execution_count": null,
   "id": "4b445472",
   "metadata": {},
   "outputs": [],
   "source": [
    "pdf=PdfFileReader(path)\n",
    "if pdf.isEncrypted :\n",
    "    pdf.decrypt('swordfish')\n",
    "for page in pdf.pages:\n",
    "    Print(page.extractText())"
   ]
  },
  {
   "cell_type": "markdown",
   "id": "fbd8be1d",
   "metadata": {},
   "source": [
    "# question no - 5"
   ]
  },
  {
   "cell_type": "markdown",
   "id": "23b96a32",
   "metadata": {},
   "source": [
    " What methods do you use to rotate a page?\n",
    "\n",
    "---\n",
    "\n",
    "answers:\n",
    "\n",
    " PyPDF2 provide two method to rotate a page , which enable us to rotate a page 90 degree clockwise or counter clockwise\n",
    " \n",
    " * for clockwise rotation --> `rotateClockWise() `\n",
    " * for counter clockwise rotation -->`rotateCounterClockWise()`"
   ]
  },
  {
   "cell_type": "markdown",
   "id": "c18f90e8",
   "metadata": {},
   "source": [
    "# question no - 6"
   ]
  },
  {
   "cell_type": "markdown",
   "id": "c5785aa1",
   "metadata": {},
   "source": [
    "What is the difference between a Run object and a Paragraph object?\n",
    "\n",
    "---\n",
    "\n",
    "answers:\n",
    "\n",
    " while `paragraph` object contain the info about the paragraph formatting such as justification, indentation, line spacing, space before and after , the `run` object consist of  inline content; text, pictures, and other items that are flowed between the block-item boundaries within a paragraph"
   ]
  },
  {
   "cell_type": "markdown",
   "id": "583b3cc0",
   "metadata": {},
   "source": [
    "# question no - 7"
   ]
  },
  {
   "cell_type": "markdown",
   "id": "c352cca8",
   "metadata": {},
   "source": [
    "How do you obtain a list of Paragraph objects for a Document object that’s stored in a variable named doc?\n",
    "\n",
    "---\n",
    "\n",
    "answers:\n",
    "\n",
    " by using `doc.pragraphs` we get a list of paragraph objects for the given document"
   ]
  },
  {
   "cell_type": "code",
   "execution_count": null,
   "id": "92a4461a",
   "metadata": {},
   "outputs": [],
   "source": [
    "from docx import Document\n",
    "doc = Document(\"ineuron.docx\")\n",
    "doc.paragraphs"
   ]
  },
  {
   "cell_type": "markdown",
   "id": "164ecf87",
   "metadata": {},
   "source": [
    "# question no - 8"
   ]
  },
  {
   "cell_type": "markdown",
   "id": "26b0fc66",
   "metadata": {},
   "source": [
    "What type of object has bold, underline, italic, strike, and outline variables?\n",
    "\n",
    "---\n",
    "\n",
    "answers:\n",
    "\n",
    "`run` object has bold, underline, italic, strike, and outline variables. run object is different for different style of text."
   ]
  },
  {
   "cell_type": "code",
   "execution_count": null,
   "id": "b7fedcbc",
   "metadata": {},
   "outputs": [],
   "source": []
  },
  {
   "cell_type": "markdown",
   "id": "0912e0fd",
   "metadata": {},
   "source": [
    "# question no - 9"
   ]
  },
  {
   "cell_type": "markdown",
   "id": "30af3f2b",
   "metadata": {},
   "source": [
    "What is the difference between False, True, and None for the bold variable?\n",
    "\n",
    "---\n",
    "\n",
    "answers:\n",
    "\n",
    " bold= True  --> style is bold\n",
    " \n",
    " bold=False --> style is not bold\n",
    " \n",
    " bold= None --> no style"
   ]
  },
  {
   "cell_type": "code",
   "execution_count": null,
   "id": "c57666bf",
   "metadata": {},
   "outputs": [],
   "source": []
  },
  {
   "cell_type": "markdown",
   "id": "e3a97ab0",
   "metadata": {},
   "source": [
    "# question no - 10"
   ]
  },
  {
   "cell_type": "markdown",
   "id": "12a3cf0c",
   "metadata": {},
   "source": [
    "How do you create a Document object for a new Word document?\n",
    "\n",
    "---\n",
    "\n",
    "answers:\n",
    "\n",
    " new word document object is created as below"
   ]
  },
  {
   "cell_type": "code",
   "execution_count": 2,
   "id": "707c2d07",
   "metadata": {},
   "outputs": [],
   "source": [
    "from docx import Document\n",
    "newdoc = Document()\n",
    "newdoc.save('newdoc.docx')"
   ]
  },
  {
   "cell_type": "markdown",
   "id": "8e45bce6",
   "metadata": {},
   "source": [
    "# question no - 11"
   ]
  },
  {
   "cell_type": "markdown",
   "id": "b9853983",
   "metadata": {},
   "source": [
    " How do you add a paragraph with the text 'Hello, there!' to a Document object stored in a variable named doc?\n",
    "\n",
    "---\n",
    "\n",
    "answers:\n",
    "\n",
    " a pragraph . 'Hello , there!' is added to a document object as below"
   ]
  },
  {
   "cell_type": "code",
   "execution_count": 3,
   "id": "6b32c39f",
   "metadata": {},
   "outputs": [],
   "source": [
    "from docx import Document\n",
    "doc = Document()\n",
    "doc.add_paragraph('Hello, there!')\n",
    "doc.save('doc.docx')"
   ]
  },
  {
   "cell_type": "markdown",
   "id": "2e09b5f3",
   "metadata": {},
   "source": [
    "# question no - 12"
   ]
  },
  {
   "cell_type": "markdown",
   "id": "ffdcc972",
   "metadata": {},
   "source": [
    "What integers represent the levels of headings available in Word documents?\n",
    "\n",
    "---\n",
    "\n",
    "answers:\n",
    "\n",
    "There is 5 levels of heading is available in word documents.They are represented by integers 0-4.\n",
    "\n",
    "0 represents the heading line under the heading , 1 the main heading and thereafter the size of heading decreases and used as sub headings"
   ]
  },
  {
   "cell_type": "code",
   "execution_count": null,
   "id": "bcdedc7e",
   "metadata": {},
   "outputs": [],
   "source": []
  }
 ],
 "metadata": {
  "kernelspec": {
   "display_name": "Python 3",
   "language": "python",
   "name": "python3"
  },
  "language_info": {
   "codemirror_mode": {
    "name": "ipython",
    "version": 3
   },
   "file_extension": ".py",
   "mimetype": "text/x-python",
   "name": "python",
   "nbconvert_exporter": "python",
   "pygments_lexer": "ipython3",
   "version": "3.8.8"
  }
 },
 "nbformat": 4,
 "nbformat_minor": 5
}
