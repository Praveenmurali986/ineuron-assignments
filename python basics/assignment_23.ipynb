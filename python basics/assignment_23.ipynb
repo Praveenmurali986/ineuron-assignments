{
 "cells": [
  {
   "cell_type": "markdown",
   "id": "3238c2d9",
   "metadata": {
    "id": "3238c2d9"
   },
   "source": [
    "# question no -1"
   ]
  },
  {
   "cell_type": "markdown",
   "id": "b8d279e5",
   "metadata": {
    "id": "b8d279e5"
   },
   "source": [
    "What is the result of the code, and why?\n",
    "\n",
    "`>>> def func(a, b=6, c=8):`\n",
    "\n",
    "`print(a, b, c)`\n",
    "\n",
    "`>>> func(1, 2)`\n",
    "\n",
    "---\n",
    "\n",
    "answers:\n",
    "\n",
    "The result of the above code is `1 2 8`. its because the function uses the default value of c ie 8 which is provided at the time of declaration.so it takes default value unless we give a value."
   ]
  },
  {
   "cell_type": "code",
   "execution_count": 1,
   "id": "1aee31ce",
   "metadata": {
    "colab": {
     "base_uri": "https://localhost:8080/"
    },
    "executionInfo": {
     "elapsed": 84,
     "status": "ok",
     "timestamp": 1647569327377,
     "user": {
      "displayName": "praveen murali",
      "photoUrl": "https://lh3.googleusercontent.com/a-/AOh14GhXp0xgo3VHxR-P32YMPDYQwevsyQ4Kb1aM01KRPw=s64",
      "userId": "06155751173643335241"
     },
     "user_tz": -330
    },
    "id": "1aee31ce",
    "outputId": "813e78b0-febe-4708-bf3b-34a48c814743"
   },
   "outputs": [
    {
     "name": "stdout",
     "output_type": "stream",
     "text": [
      "1 2 8\n"
     ]
    }
   ],
   "source": [
    "def func(a,b=6,c=8):\n",
    "    print(a,b,c)\n",
    "func(1,2)"
   ]
  },
  {
   "cell_type": "markdown",
   "id": "c5a7a6ce",
   "metadata": {
    "id": "c5a7a6ce"
   },
   "source": [
    "# question no -2"
   ]
  },
  {
   "cell_type": "markdown",
   "id": "933ac3ee",
   "metadata": {
    "id": "933ac3ee"
   },
   "source": [
    "What is the result of this code, and why?\n",
    "\n",
    "`>>> def func(a, b, c=5):`\n",
    "\n",
    "`print(a, b, c)`\n",
    "\n",
    "`>>> func(1, c=3, b=2)`\n",
    "\n",
    "---\n",
    "\n",
    "answers:\n",
    "\n",
    "The result of the above code is` 1 2 3`. it is because the function will use default values only when a value for a argument is not provided and if argument name is mentioned then the order is no longer important"
   ]
  },
  {
   "cell_type": "code",
   "execution_count": 3,
   "id": "ce2382ad",
   "metadata": {
    "colab": {
     "base_uri": "https://localhost:8080/"
    },
    "executionInfo": {
     "elapsed": 17,
     "status": "ok",
     "timestamp": 1647569712388,
     "user": {
      "displayName": "praveen murali",
      "photoUrl": "https://lh3.googleusercontent.com/a-/AOh14GhXp0xgo3VHxR-P32YMPDYQwevsyQ4Kb1aM01KRPw=s64",
      "userId": "06155751173643335241"
     },
     "user_tz": -330
    },
    "id": "ce2382ad",
    "outputId": "951dd28b-cd61-47d2-c3e0-ef949f2d7162"
   },
   "outputs": [
    {
     "name": "stdout",
     "output_type": "stream",
     "text": [
      "1 2 3\n"
     ]
    }
   ],
   "source": [
    "def func(a,b,c=5):\n",
    "    print(a,b,c)\n",
    "func(1,c=3,b=2)"
   ]
  },
  {
   "cell_type": "markdown",
   "id": "d0c85c4f",
   "metadata": {
    "id": "d0c85c4f"
   },
   "source": [
    "# question no -3"
   ]
  },
  {
   "cell_type": "markdown",
   "id": "dda8fcea",
   "metadata": {
    "id": "dda8fcea"
   },
   "source": [
    "How about this code: what is its result, and why?\n",
    "\n",
    "`>>> def func(a, *pargs):`\n",
    "\n",
    "`print(a, pargs)`\n",
    "\n",
    "`>>> func(1, 2, 3)`\n",
    "\n",
    "---\n",
    "\n",
    "answers:\n",
    "\n",
    "The result of the code is `1 (2,3)`. *pargs is used when we are not sure about the no of arguments to be passed to a function. all the values under this argument will be stored in a tuple."
   ]
  },
  {
   "cell_type": "code",
   "execution_count": 4,
   "id": "15939c12",
   "metadata": {
    "colab": {
     "base_uri": "https://localhost:8080/"
    },
    "executionInfo": {
     "elapsed": 33,
     "status": "ok",
     "timestamp": 1647569748926,
     "user": {
      "displayName": "praveen murali",
      "photoUrl": "https://lh3.googleusercontent.com/a-/AOh14GhXp0xgo3VHxR-P32YMPDYQwevsyQ4Kb1aM01KRPw=s64",
      "userId": "06155751173643335241"
     },
     "user_tz": -330
    },
    "id": "15939c12",
    "outputId": "11fa6d79-da1c-4dc1-b431-32e9b7d826f2"
   },
   "outputs": [
    {
     "name": "stdout",
     "output_type": "stream",
     "text": [
      "1 (2, 3)\n"
     ]
    }
   ],
   "source": [
    "def func(a, *pargs):\n",
    "    print(a,pargs)\n",
    "func(1,2,3)"
   ]
  },
  {
   "cell_type": "markdown",
   "id": "e2acfa64",
   "metadata": {
    "id": "e2acfa64"
   },
   "source": [
    "# question no -4"
   ]
  },
  {
   "cell_type": "markdown",
   "id": "4fc78339",
   "metadata": {
    "id": "4fc78339"
   },
   "source": [
    "What does this code print, and why?\n",
    "\n",
    "`>>> def func(a, **kargs):`\n",
    "\n",
    "`print(a, kargs)`\n",
    "\n",
    "`>>> func(a=1, c=3, b=2)`\n",
    "\n",
    "---\n",
    "\n",
    "answers:\n",
    "\n",
    "The result of the above code is `1 {'c': 3, 'b': 2}`. **args stands for variable length keyword arguments. this format is used when we want pass key value pairs as input to a function. All these key value pairs will be stored in a dictionary"
   ]
  },
  {
   "cell_type": "code",
   "execution_count": 5,
   "id": "d81e6e67",
   "metadata": {
    "colab": {
     "base_uri": "https://localhost:8080/"
    },
    "executionInfo": {
     "elapsed": 1618,
     "status": "ok",
     "timestamp": 1647569967713,
     "user": {
      "displayName": "praveen murali",
      "photoUrl": "https://lh3.googleusercontent.com/a-/AOh14GhXp0xgo3VHxR-P32YMPDYQwevsyQ4Kb1aM01KRPw=s64",
      "userId": "06155751173643335241"
     },
     "user_tz": -330
    },
    "id": "d81e6e67",
    "outputId": "b911c51d-8a4c-4961-f70d-e4184cafbe76"
   },
   "outputs": [
    {
     "name": "stdout",
     "output_type": "stream",
     "text": [
      "1 {'c': 3, 'b': 2}\n"
     ]
    }
   ],
   "source": [
    "def func(a,**kargs):\n",
    "    print(a,kargs)\n",
    "func(a=1,c=3,b=2)"
   ]
  },
  {
   "cell_type": "markdown",
   "id": "6e13c697",
   "metadata": {
    "id": "6e13c697"
   },
   "source": [
    "# question no -5"
   ]
  },
  {
   "cell_type": "markdown",
   "id": "f408a554",
   "metadata": {
    "id": "f408a554"
   },
   "source": [
    "What gets printed by this, and explain?\n",
    "\n",
    "`>>> def func(a, b, c=8, d=5): print(a, b, c, d)`\n",
    "\n",
    "`>>> func(1, *(5, 6))`\n",
    "\n",
    "---\n",
    "\n",
    "answers:\n",
    "\n",
    "The output of the above is `1 5 6 5`. This reason for this  is because, this function expects 4 arguments. the value for a is provided explicitly whereas for arguments b and c, the function will expand the *(5,6) and consider the value of b as 5 and value of c as 6. since the default value of d is provided in function declaration d value will be 5."
   ]
  },
  {
   "cell_type": "code",
   "execution_count": 6,
   "id": "833d456c",
   "metadata": {
    "colab": {
     "base_uri": "https://localhost:8080/"
    },
    "executionInfo": {
     "elapsed": 617,
     "status": "ok",
     "timestamp": 1647570139515,
     "user": {
      "displayName": "praveen murali",
      "photoUrl": "https://lh3.googleusercontent.com/a-/AOh14GhXp0xgo3VHxR-P32YMPDYQwevsyQ4Kb1aM01KRPw=s64",
      "userId": "06155751173643335241"
     },
     "user_tz": -330
    },
    "id": "833d456c",
    "outputId": "caadc4e9-ee07-4b15-bddd-e0b446efa668"
   },
   "outputs": [
    {
     "name": "stdout",
     "output_type": "stream",
     "text": [
      "1 5 6 5\n"
     ]
    }
   ],
   "source": [
    "def func(a,b,c=8,d=5):\n",
    "    print(a,b,c,d)\n",
    "func(1,*(5,6))"
   ]
  },
  {
   "cell_type": "markdown",
   "id": "3e4ed537",
   "metadata": {
    "id": "3e4ed537"
   },
   "source": [
    "# question no -6"
   ]
  },
  {
   "cell_type": "markdown",
   "id": "5ad85700",
   "metadata": {
    "id": "5ad85700"
   },
   "source": [
    "what is the result of this, and explain?\n",
    "\n",
    "`>>> def func(a, b, c): a = 2; b[0] = 'x'; c['a'] = 'y'`\n",
    "\n",
    "`>>> l=1; m=[1]; n={'a':0}`\n",
    "\n",
    "`>>> func(l, m, n)`\n",
    "\n",
    "`>>> l, m, n`\n",
    "\n",
    "---\n",
    "\n",
    "answers:\n",
    "\n",
    "The output of above code is `1, ['x'], {'a': 'y'}`.\n",
    "this is a facility to declare an entire function in one single line. where statements in a function body are sepereated by ;. When l,m,n are provided as inputs to the function. its modifies the values of l,m,n and sets the value of l=2 ,m=['x'] and n={'a':'y'}"
   ]
  },
  {
   "cell_type": "code",
   "execution_count": 9,
   "id": "99cd4102",
   "metadata": {
    "colab": {
     "base_uri": "https://localhost:8080/"
    },
    "executionInfo": {
     "elapsed": 688,
     "status": "ok",
     "timestamp": 1647570404089,
     "user": {
      "displayName": "praveen murali",
      "photoUrl": "https://lh3.googleusercontent.com/a-/AOh14GhXp0xgo3VHxR-P32YMPDYQwevsyQ4Kb1aM01KRPw=s64",
      "userId": "06155751173643335241"
     },
     "user_tz": -330
    },
    "id": "99cd4102",
    "outputId": "5f9495cf-14de-4851-aed6-deb29fe1ffa8"
   },
   "outputs": [
    {
     "data": {
      "text/plain": [
       "(1, ['x'], {'a': 'y'})"
      ]
     },
     "execution_count": 9,
     "metadata": {},
     "output_type": "execute_result"
    }
   ],
   "source": [
    "def func(a, b, c): a = 2; b[0] = 'x'; c['a'] = 'y'\n",
    "l=1; m=[1]; n={'a':0}\n",
    "func(l, m, n)\n",
    "l,m,n"
   ]
  },
  {
   "cell_type": "code",
   "execution_count": null,
   "id": "8ee668b7",
   "metadata": {},
   "outputs": [],
   "source": []
  }
 ],
 "metadata": {
  "colab": {
   "name": "assignment_23l.ipynb",
   "provenance": []
  },
  "kernelspec": {
   "display_name": "Python 3",
   "language": "python",
   "name": "python3"
  },
  "language_info": {
   "codemirror_mode": {
    "name": "ipython",
    "version": 3
   },
   "file_extension": ".py",
   "mimetype": "text/x-python",
   "name": "python",
   "nbconvert_exporter": "python",
   "pygments_lexer": "ipython3",
   "version": "3.8.8"
  }
 },
 "nbformat": 4,
 "nbformat_minor": 5
}
