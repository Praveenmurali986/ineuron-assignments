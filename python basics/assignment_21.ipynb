{
 "cells": [
  {
   "cell_type": "markdown",
   "id": "3238c2d9",
   "metadata": {
    "id": "3238c2d9"
   },
   "source": [
    "# question no -1"
   ]
  },
  {
   "cell_type": "markdown",
   "id": "b8d279e5",
   "metadata": {
    "id": "b8d279e5"
   },
   "source": [
    "Add the current date to the text file today.txt as a string.\n",
    "\n",
    "---\n",
    "\n",
    "answers:"
   ]
  },
  {
   "cell_type": "code",
   "execution_count": 1,
   "id": "1aee31ce",
   "metadata": {
    "colab": {
     "base_uri": "https://localhost:8080/"
    },
    "executionInfo": {
     "elapsed": 73,
     "status": "ok",
     "timestamp": 1647395993251,
     "user": {
      "displayName": "praveen murali",
      "photoUrl": "https://lh3.googleusercontent.com/a-/AOh14GhXp0xgo3VHxR-P32YMPDYQwevsyQ4Kb1aM01KRPw=s64",
      "userId": "06155751173643335241"
     },
     "user_tz": -330
    },
    "id": "1aee31ce",
    "outputId": "c34dcca7-e60e-4832-f53c-b75e3dc17191"
   },
   "outputs": [
    {
     "name": "stdout",
     "output_type": "stream",
     "text": [
      "16-03-2022\n"
     ]
    }
   ],
   "source": [
    "import datetime\n",
    "\n",
    "file = open('today.txt','w')\n",
    "file.write(datetime.datetime.now().strftime(\"%d-%m-%Y\"))\n",
    "file.close()\n",
    "\n",
    "file = open('today.txt','r')\n",
    "print(file.read())\n",
    "file.close()"
   ]
  },
  {
   "cell_type": "markdown",
   "id": "c5a7a6ce",
   "metadata": {
    "id": "c5a7a6ce"
   },
   "source": [
    "# question no -2"
   ]
  },
  {
   "cell_type": "markdown",
   "id": "dda8fcea",
   "metadata": {
    "id": "dda8fcea"
   },
   "source": [
    "Read the text file today.txt into the string today_string\n",
    "\n",
    "---\n",
    "\n",
    "answers:"
   ]
  },
  {
   "cell_type": "code",
   "execution_count": 2,
   "id": "ce2382ad",
   "metadata": {
    "colab": {
     "base_uri": "https://localhost:8080/"
    },
    "executionInfo": {
     "elapsed": 631,
     "status": "ok",
     "timestamp": 1647396094348,
     "user": {
      "displayName": "praveen murali",
      "photoUrl": "https://lh3.googleusercontent.com/a-/AOh14GhXp0xgo3VHxR-P32YMPDYQwevsyQ4Kb1aM01KRPw=s64",
      "userId": "06155751173643335241"
     },
     "user_tz": -330
    },
    "id": "ce2382ad",
    "outputId": "b1b12982-31e4-4815-d533-dc74b1040e9b"
   },
   "outputs": [
    {
     "name": "stdout",
     "output_type": "stream",
     "text": [
      "16-03-2022\n"
     ]
    }
   ],
   "source": [
    "file = open('today.txt','r')\n",
    "today_string = file.read()\n",
    "print(today_string)"
   ]
  },
  {
   "cell_type": "markdown",
   "id": "d0c85c4f",
   "metadata": {
    "id": "d0c85c4f"
   },
   "source": [
    "# question no -3"
   ]
  },
  {
   "cell_type": "markdown",
   "id": "933ac3ee",
   "metadata": {
    "id": "933ac3ee"
   },
   "source": [
    "Parse the date from today_string.\n",
    "\n",
    "---\n",
    "\n",
    "answers:"
   ]
  },
  {
   "cell_type": "code",
   "execution_count": 3,
   "id": "15939c12",
   "metadata": {
    "colab": {
     "base_uri": "https://localhost:8080/"
    },
    "executionInfo": {
     "elapsed": 636,
     "status": "ok",
     "timestamp": 1647396453743,
     "user": {
      "displayName": "praveen murali",
      "photoUrl": "https://lh3.googleusercontent.com/a-/AOh14GhXp0xgo3VHxR-P32YMPDYQwevsyQ4Kb1aM01KRPw=s64",
      "userId": "06155751173643335241"
     },
     "user_tz": -330
    },
    "id": "15939c12",
    "outputId": "0e845f06-95af-4907-e3c3-1f5e2fb83b3a"
   },
   "outputs": [
    {
     "name": "stdout",
     "output_type": "stream",
     "text": [
      "2022-03-16 00:00:00\n"
     ]
    }
   ],
   "source": [
    "from datetime import datetime\n",
    "date= datetime.strptime(today_string, '%d-%m-%Y')\n",
    "print(date)"
   ]
  },
  {
   "cell_type": "markdown",
   "id": "e2acfa64",
   "metadata": {
    "id": "e2acfa64"
   },
   "source": [
    "# question no -4"
   ]
  },
  {
   "cell_type": "markdown",
   "id": "4fc78339",
   "metadata": {
    "id": "4fc78339"
   },
   "source": [
    "List the files in your current directory\n",
    "\n",
    "---\n",
    "\n",
    "answers:"
   ]
  },
  {
   "cell_type": "code",
   "execution_count": 24,
   "id": "d81e6e67",
   "metadata": {
    "colab": {
     "base_uri": "https://localhost:8080/"
    },
    "executionInfo": {
     "elapsed": 648,
     "status": "ok",
     "timestamp": 1647396638726,
     "user": {
      "displayName": "praveen murali",
      "photoUrl": "https://lh3.googleusercontent.com/a-/AOh14GhXp0xgo3VHxR-P32YMPDYQwevsyQ4Kb1aM01KRPw=s64",
      "userId": "06155751173643335241"
     },
     "user_tz": -330
    },
    "id": "d81e6e67",
    "outputId": "83411a33-ed3d-4074-ed4c-49bc703f38c5",
    "scrolled": true
   },
   "outputs": [
    {
     "name": "stdout",
     "output_type": "stream",
     "text": [
      ".gitignore\n",
      "LICENSE.md\n",
      "LUSID Excel - Business Agility - Making Simple Changes Quickly & Easily.xlsx\n",
      "LUSID Excel - Maintain a product in multiple currencies and share classes.xlsx\n",
      "LUSID Excel - Manage Orders.xlsx\n",
      "LUSID Excel - Manage your investment strategies.xlsx\n",
      "LUSID Excel - Setting up your IBOR.xlsx\n",
      "LUSID Excel - Setting up your market data.xlsx\n",
      "README.md\n",
      "test_Ibor_Template.py\n",
      "credentials_source.py\n",
      "data_source.py\n",
      "__init__.py\n"
     ]
    }
   ],
   "source": [
    "import os\n",
    "for folders, subfolders, files in os.walk(os.getcwd()):\n",
    "    for file in files:\n",
    "        print(file)"
   ]
  },
  {
   "cell_type": "markdown",
   "id": "6e13c697",
   "metadata": {
    "id": "6e13c697"
   },
   "source": [
    "# question no -5"
   ]
  },
  {
   "cell_type": "markdown",
   "id": "f408a554",
   "metadata": {
    "id": "f408a554"
   },
   "source": [
    "Create a list of all of the files in your parent directory (minimum five files should be available).\n",
    "\n",
    "---\n",
    "\n",
    "answers:"
   ]
  },
  {
   "cell_type": "code",
   "execution_count": 23,
   "id": "833d456c",
   "metadata": {
    "colab": {
     "base_uri": "https://localhost:8080/"
    },
    "executionInfo": {
     "elapsed": 647,
     "status": "ok",
     "timestamp": 1647396685453,
     "user": {
      "displayName": "praveen murali",
      "photoUrl": "https://lh3.googleusercontent.com/a-/AOh14GhXp0xgo3VHxR-P32YMPDYQwevsyQ4Kb1aM01KRPw=s64",
      "userId": "06155751173643335241"
     },
     "user_tz": -330
    },
    "id": "833d456c",
    "outputId": "b5f82f61-e652-447e-8480-34e658a88a06"
   },
   "outputs": [
    {
     "data": {
      "text/plain": [
       "['.gitignore',\n",
       " 'LICENSE.md',\n",
       " 'LUSID Excel - Business Agility - Making Simple Changes Quickly & Easily.xlsx',\n",
       " 'LUSID Excel - Maintain a product in multiple currencies and share classes.xlsx',\n",
       " 'LUSID Excel - Manage Orders.xlsx',\n",
       " 'LUSID Excel - Manage your investment strategies.xlsx',\n",
       " 'LUSID Excel - Setting up your IBOR.xlsx',\n",
       " 'LUSID Excel - Setting up your market data.xlsx',\n",
       " 'README.md',\n",
       " 'tests']"
      ]
     },
     "execution_count": 23,
     "metadata": {},
     "output_type": "execute_result"
    }
   ],
   "source": [
    "import os \n",
    "os.listdir()"
   ]
  },
  {
   "cell_type": "markdown",
   "id": "3e4ed537",
   "metadata": {
    "id": "3e4ed537"
   },
   "source": [
    "# question no -6"
   ]
  },
  {
   "cell_type": "markdown",
   "id": "5ad85700",
   "metadata": {
    "id": "5ad85700"
   },
   "source": [
    "Use multiprocessing to create three separate processes. Make each one wait a random number of seconds between one and five, print the current time, and then exit.\n",
    "\n",
    "---\n",
    "\n",
    "answers:\n",
    "\n",
    " "
   ]
  },
  {
   "cell_type": "code",
   "execution_count": 9,
   "id": "99cd4102",
   "metadata": {
    "id": "99cd4102"
   },
   "outputs": [],
   "source": [
    "import multiprocessing\n",
    "import time \n",
    "import random\n",
    "import datetime\n",
    "\n",
    "def process1():\n",
    "    print(f'p1 Starttime: {datetime.datetime.now()}')\n",
    "    time.sleep(random.randint(1,5))\n",
    "    print(f'p1 Endtime: {datetime.datetime.now()}')\n",
    "    \n",
    "def process2():\n",
    "    print(f'p2 Starttime: {datetime.datetime.now()}')\n",
    "    time.sleep(random.randint(1,5))\n",
    "    print(f'p2 Endtime: {datetime.datetime.now()}')\n",
    "\n",
    "def process3():\n",
    "    print(f'p3 Starttime: {datetime.datetime.now()}')\n",
    "    time.sleep(random.randint(1,5))\n",
    "    print(f'p3 Endtime: {datetime.datetime.now()}')\n",
    "    \n",
    "if __name__ == \"__main__\":    \n",
    "    p1 = multiprocessing.Process(target=process1)\n",
    "    p2 = multiprocessing.Process(target=process2)\n",
    "    p3 = multiprocessing.Process(target=process3)\n",
    "\n",
    "    p1.start()\n",
    "    p2.start()\n",
    "    p3.start()\n",
    "\n",
    "    p1.join()\n",
    "    p2.join()\n",
    "    p3.join()"
   ]
  },
  {
   "cell_type": "markdown",
   "id": "b52ef6b7",
   "metadata": {},
   "source": [
    "unfortunately its not printing any out.\n",
    "I try it in pycharm and the result is\n",
    "\n",
    "`C:\\Users\\PRAVEEN\\anaconda3\\python.exe C:\\Users\\PRAVEEN\\PycharmProjects\\pythonProject1\\ineuron\\default\\multiprocess.py`\n",
    "\n",
    "`p2 Starttime: 2022-03-16 19:35:56.846964`\n",
    "\n",
    "`p1 Starttime: 2022-03-16 19:35:56.846964`\n",
    "\n",
    "`p3 Starttime: 2022-03-16 19:35:56.846964`\n",
    "\n",
    "`p3 Endtime: 2022-03-16 19:35:59.861909`\n",
    "\n",
    "`p2 Endtime: 2022-03-16 19:36:00.861669`\n",
    "\n",
    "`p1 Endtime: 2022-03-16 19:36:01.861435`\n",
    "\n",
    "`Process finished with exit code 0`"
   ]
  },
  {
   "cell_type": "markdown",
   "id": "69f8a870",
   "metadata": {
    "id": "69f8a870"
   },
   "source": [
    "# question no -7"
   ]
  },
  {
   "cell_type": "markdown",
   "id": "f746d4c9",
   "metadata": {
    "id": "f746d4c9"
   },
   "source": [
    "Create a date object of your day of birth.\n",
    "\n",
    "---\n",
    "\n",
    "answers:\n",
    "\n",
    " "
   ]
  },
  {
   "cell_type": "code",
   "execution_count": 13,
   "id": "2e40cfff",
   "metadata": {
    "id": "2e40cfff"
   },
   "outputs": [
    {
     "name": "stdout",
     "output_type": "stream",
     "text": [
      "1998-11-26 00:00:00\n"
     ]
    }
   ],
   "source": [
    "from datetime import datetime\n",
    "dob = datetime.strptime('26/11/1998','%d/%m/%Y')\n",
    "print(dob)"
   ]
  },
  {
   "cell_type": "markdown",
   "id": "08103a65",
   "metadata": {
    "id": "08103a65"
   },
   "source": [
    "# question no -8"
   ]
  },
  {
   "cell_type": "markdown",
   "id": "acff1334",
   "metadata": {
    "id": "acff1334"
   },
   "source": [
    "What day of the week was your day of birth?\n",
    "\n",
    "---\n",
    "\n",
    "answers:\n",
    "\n",
    " "
   ]
  },
  {
   "cell_type": "code",
   "execution_count": 14,
   "id": "e7c0dfa0",
   "metadata": {
    "id": "e7c0dfa0"
   },
   "outputs": [
    {
     "data": {
      "text/plain": [
       "'Thursday'"
      ]
     },
     "execution_count": 14,
     "metadata": {},
     "output_type": "execute_result"
    }
   ],
   "source": [
    "from datetime import datetime\n",
    "dob = datetime(1998,11,26)\n",
    "dob.strftime(\"%A\")"
   ]
  },
  {
   "cell_type": "markdown",
   "id": "3224ef8c",
   "metadata": {
    "id": "3224ef8c"
   },
   "source": [
    "# question no -9"
   ]
  },
  {
   "cell_type": "markdown",
   "id": "c4c43ca4",
   "metadata": {
    "id": "c4c43ca4"
   },
   "source": [
    "When will you be (or when were you) 10,000 days old\n",
    "\n",
    "---\n",
    "\n",
    "answers:\n",
    "\n",
    " "
   ]
  },
  {
   "cell_type": "code",
   "execution_count": 20,
   "id": "28673946",
   "metadata": {
    "id": "28673946"
   },
   "outputs": [
    {
     "data": {
      "text/plain": [
       "datetime.datetime(2026, 4, 13, 0, 0)"
      ]
     },
     "execution_count": 20,
     "metadata": {},
     "output_type": "execute_result"
    }
   ],
   "source": [
    "from datetime import datetime, timedelta\n",
    "dob = datetime.strptime('26/11/1998','%d/%m/%Y')\n",
    "new_date = dob-timedelta(-10000)\n",
    "new_date"
   ]
  },
  {
   "cell_type": "code",
   "execution_count": null,
   "id": "8ac401e0",
   "metadata": {},
   "outputs": [],
   "source": []
  }
 ],
 "metadata": {
  "colab": {
   "collapsed_sections": [],
   "name": "assignment notebook model.ipynb",
   "provenance": []
  },
  "kernelspec": {
   "display_name": "Python 3",
   "language": "python",
   "name": "python3"
  },
  "language_info": {
   "codemirror_mode": {
    "name": "ipython",
    "version": 3
   },
   "file_extension": ".py",
   "mimetype": "text/x-python",
   "name": "python",
   "nbconvert_exporter": "python",
   "pygments_lexer": "ipython3",
   "version": "3.8.8"
  }
 },
 "nbformat": 4,
 "nbformat_minor": 5
}
