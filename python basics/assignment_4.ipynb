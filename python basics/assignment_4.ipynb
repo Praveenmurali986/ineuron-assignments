{
 "cells": [
  {
   "cell_type": "markdown",
   "metadata": {
    "id": "9CqK79KoLEuC"
   },
   "source": [
    "# question no - 1"
   ]
  },
  {
   "cell_type": "markdown",
   "metadata": {
    "id": "xpV_9BUILTGw"
   },
   "source": [
    "\n",
    "What exactly is [ ]?\n",
    "\n",
    "--------------------------------------------------------\n",
    "\n",
    "answers :\n",
    "\n",
    "`[]` is referred as a empty list.that is, a list which has no elements"
   ]
  },
  {
   "cell_type": "markdown",
   "metadata": {
    "id": "CCBvCC7-OCxD"
   },
   "source": [
    "# question no - 2"
   ]
  },
  {
   "cell_type": "markdown",
   "metadata": {
    "id": "yxgPMsqcLTJv"
   },
   "source": [
    "In a list of values stored in a variable called spam, how would you assign the value 'hello' as the third value? (Assume [2, 4, 6, 8, 10] are in spam.)\n",
    "\n",
    "--------------------------------------------------------\n",
    "\n",
    "answers :\n",
    "\n",
    "by using `spam[2]='hello'` we can set 'hello' as 3rd value."
   ]
  },
  {
   "cell_type": "code",
   "execution_count": 1,
   "metadata": {
    "id": "c9JPB8CGOANV"
   },
   "outputs": [
    {
     "name": "stdout",
     "output_type": "stream",
     "text": [
      "[2, 4, 'hello', 8, 10]\n"
     ]
    }
   ],
   "source": [
    "spam=[2, 4, 6, 8, 10]\n",
    "spam[2]='hello'\n",
    "print(spam)"
   ]
  },
  {
   "cell_type": "code",
   "execution_count": null,
   "metadata": {
    "id": "xqTsXWKPPY-p"
   },
   "outputs": [],
   "source": []
  },
  {
   "cell_type": "markdown",
   "metadata": {
    "id": "yjS3V80-PZtU"
   },
   "source": [
    "# Let's pretend the spam includes the list ['a','b','c',d'] for the next three queries."
   ]
  },
  {
   "cell_type": "markdown",
   "metadata": {
    "id": "FM8yVz2iLTMZ"
   },
   "source": [
    "# question no - 3"
   ]
  },
  {
   "cell_type": "markdown",
   "metadata": {
    "id": "00REWOEMLTRt"
   },
   "source": [
    "What is the value of spam[int(int('3'*2)//11)] ?\n",
    "\n",
    "--------------------------------------------------------\n",
    "\n",
    "answers :\n",
    "\n",
    "'3'*2 is '33'\n",
    "int of '33' is 33\n",
    "33//11 is 3\n",
    "value of index 3 in spam list is 'd' \n",
    "so we get the result as `'d'`"
   ]
  },
  {
   "cell_type": "code",
   "execution_count": 2,
   "metadata": {
    "id": "D6LvkYmvQBeY"
   },
   "outputs": [
    {
     "data": {
      "text/plain": [
       "'d'"
      ]
     },
     "execution_count": 2,
     "metadata": {},
     "output_type": "execute_result"
    }
   ],
   "source": [
    "\n",
    "spam=['a','b','c','d']\n",
    "spam[int(int('3'*2)//11)]"
   ]
  },
  {
   "cell_type": "markdown",
   "metadata": {
    "id": "SMk3eO-zLTUL"
   },
   "source": [
    "# question no - 4"
   ]
  },
  {
   "cell_type": "markdown",
   "metadata": {
    "id": "OJYLyNKVLTWo"
   },
   "source": [
    "What is the value of spam[-1]?\n",
    "\n",
    "--------------------------------------------------------\n",
    "\n",
    "answers :\n",
    "\n",
    "It is an example of negative indexing and its value here is `d`"
   ]
  },
  {
   "cell_type": "code",
   "execution_count": 4,
   "metadata": {},
   "outputs": [
    {
     "data": {
      "text/plain": [
       "'d'"
      ]
     },
     "execution_count": 4,
     "metadata": {},
     "output_type": "execute_result"
    }
   ],
   "source": [
    "spam=['a','b','c','d']\n",
    "spam[-1]"
   ]
  },
  {
   "cell_type": "markdown",
   "metadata": {},
   "source": [
    "# question no - 5"
   ]
  },
  {
   "cell_type": "markdown",
   "metadata": {},
   "source": [
    "What is the value of spam[:2]?\n",
    "\n",
    "-----------------------------------------------\n",
    "\n",
    "answers:\n",
    "\n",
    "It returns items from spam having index of 0 to (2-1) ie , 0 to 1 (exclude 2)\n",
    "\n",
    "the values will be `['a','b']`"
   ]
  },
  {
   "cell_type": "code",
   "execution_count": 5,
   "metadata": {},
   "outputs": [
    {
     "data": {
      "text/plain": [
       "['a', 'b']"
      ]
     },
     "execution_count": 5,
     "metadata": {},
     "output_type": "execute_result"
    }
   ],
   "source": [
    "spam[:2]"
   ]
  },
  {
   "cell_type": "markdown",
   "metadata": {},
   "source": [
    "## Let's pretend bacon has the list [3.14,'cat',11,'cat',True] for the next three question"
   ]
  },
  {
   "cell_type": "markdown",
   "metadata": {},
   "source": [
    "# question no - 6"
   ]
  },
  {
   "cell_type": "markdown",
   "metadata": {},
   "source": [
    "What is the value of bacon.index('cat')?\n",
    "\n",
    "--------------------------------------------------\n",
    "\n",
    "answers:\n",
    "\n",
    "It gives the index of the item 'cat' in bacon\n",
    "\n",
    "here the value of `bacon.index('cat')` is 1"
   ]
  },
  {
   "cell_type": "code",
   "execution_count": 16,
   "metadata": {},
   "outputs": [
    {
     "data": {
      "text/plain": [
       "1"
      ]
     },
     "execution_count": 16,
     "metadata": {},
     "output_type": "execute_result"
    }
   ],
   "source": [
    "bacon=[3.14,'cat',11,'cat',True]\n",
    "bacon.index('cat')"
   ]
  },
  {
   "cell_type": "markdown",
   "metadata": {},
   "source": [
    "# question no -7"
   ]
  },
  {
   "cell_type": "markdown",
   "metadata": {},
   "source": [
    "How does bacon.append(99) change the look of the list value in bacon?\n",
    "\n",
    "---------------------------------------------------------------------\n",
    "\n",
    "answers:\n",
    "\n",
    "it helps to add 99 as the last element of the list bacon"
   ]
  },
  {
   "cell_type": "code",
   "execution_count": 17,
   "metadata": {},
   "outputs": [
    {
     "data": {
      "text/plain": [
       "[3.14, 'cat', 11, 'cat', True, 99]"
      ]
     },
     "execution_count": 17,
     "metadata": {},
     "output_type": "execute_result"
    }
   ],
   "source": [
    "bacon.append(99)\n",
    "bacon"
   ]
  },
  {
   "cell_type": "markdown",
   "metadata": {},
   "source": [
    "# question no -8"
   ]
  },
  {
   "cell_type": "markdown",
   "metadata": {},
   "source": [
    "How does bacon.remove('cat') change the look of the list in bacon?\n",
    "\n",
    "---------------------------------------------\n",
    "\n",
    "answers:\n",
    "\n",
    "`remove` helps to remove a value from the list (or first occured in case of duplicate elements)\n",
    "\n",
    "here it helps remove the value 'cat' from the list bacon"
   ]
  },
  {
   "cell_type": "markdown",
   "metadata": {},
   "source": [
    "# question no -9"
   ]
  },
  {
   "cell_type": "markdown",
   "metadata": {},
   "source": [
    "What are the list concatenation and list replication operators?\n",
    "\n",
    "-------------------------------------------------------------\n",
    "\n",
    "answers:\n",
    "\n",
    "similar to string operations `+` is used for concatenation and `*` is used to replication operations."
   ]
  },
  {
   "cell_type": "code",
   "execution_count": 29,
   "metadata": {},
   "outputs": [],
   "source": [
    "a=[1,2,3,4,5]\n",
    "b=[\"a\",\"b\",\"c\",\"d\",\"e\"]"
   ]
  },
  {
   "cell_type": "code",
   "execution_count": 19,
   "metadata": {},
   "outputs": [
    {
     "data": {
      "text/plain": [
       "[1, 2, 3, 4, 5, 'a', 'b', 'c', 'd', 'e']"
      ]
     },
     "execution_count": 19,
     "metadata": {},
     "output_type": "execute_result"
    }
   ],
   "source": [
    "a+b"
   ]
  },
  {
   "cell_type": "code",
   "execution_count": 21,
   "metadata": {},
   "outputs": [
    {
     "data": {
      "text/plain": [
       "[1, 2, 3, 4, 5, 1, 2, 3, 4, 5, 1, 2, 3, 4, 5]"
      ]
     },
     "execution_count": 21,
     "metadata": {},
     "output_type": "execute_result"
    }
   ],
   "source": [
    "a*3"
   ]
  },
  {
   "cell_type": "code",
   "execution_count": 22,
   "metadata": {},
   "outputs": [
    {
     "data": {
      "text/plain": [
       "['a', 'b', 'c', 'd', 'e', 'a', 'b', 'c', 'd', 'e']"
      ]
     },
     "execution_count": 22,
     "metadata": {},
     "output_type": "execute_result"
    }
   ],
   "source": [
    "b*2"
   ]
  },
  {
   "cell_type": "markdown",
   "metadata": {},
   "source": [
    "# question no - 10"
   ]
  },
  {
   "cell_type": "markdown",
   "metadata": {},
   "source": [
    "What is difference between the list methods append() and insert()?\n",
    "\n",
    "----------------------------------------------------------------------\n",
    "\n",
    "answers:\n",
    "\n",
    "while append() adds the new elements to the end of an list , insert() can add a element to any index we want."
   ]
  },
  {
   "cell_type": "code",
   "execution_count": 27,
   "metadata": {},
   "outputs": [
    {
     "data": {
      "text/plain": [
       "['a', 1, 2, 3, 4, 5, 6]"
      ]
     },
     "execution_count": 27,
     "metadata": {},
     "output_type": "execute_result"
    }
   ],
   "source": [
    "a=[1,2,3,4,5]\n",
    "a.append(6)\n",
    "a.insert(0,\"a\")\n",
    "a"
   ]
  },
  {
   "cell_type": "markdown",
   "metadata": {},
   "source": [
    "# question no - 11"
   ]
  },
  {
   "cell_type": "markdown",
   "metadata": {},
   "source": [
    "What are the two methods for removing items from a list?\n",
    "\n",
    "---------------------------------------------------------------------\n",
    "\n",
    "answers:\n",
    "\n",
    "we can use `del` and `remove` methods to remove items from a list"
   ]
  },
  {
   "cell_type": "code",
   "execution_count": 30,
   "metadata": {},
   "outputs": [
    {
     "data": {
      "text/plain": [
       "[3, 4, 5]"
      ]
     },
     "execution_count": 30,
     "metadata": {},
     "output_type": "execute_result"
    }
   ],
   "source": [
    "a=[1,2,3,4,5]\n",
    "del a [0]\n",
    "a.remove(2)\n",
    "a"
   ]
  },
  {
   "cell_type": "markdown",
   "metadata": {},
   "source": [
    "# question no - 12"
   ]
  },
  {
   "cell_type": "markdown",
   "metadata": {},
   "source": [
    "Describe how list values and string values are identical.\n",
    "\n",
    "---------------------------------------------------------------\n",
    "\n",
    "answers:\n",
    "\n",
    "    \n",
    "  * both list and strings are iterable in for loop.\n",
    "   \n",
    "  * have index\n",
    "   \n",
    "  * can be sliced \n",
    "   \n",
    "  * concat and replicate using  `+` and `*` operators"
   ]
  },
  {
   "cell_type": "markdown",
   "metadata": {},
   "source": [
    "# question no - 13"
   ]
  },
  {
   "cell_type": "markdown",
   "metadata": {},
   "source": [
    "What's the difference between tuples and lists?\n",
    "\n",
    "--------------------------------------------------------\n",
    "\n",
    "answers:\n",
    "\n",
    "* values of lists kept inside `[]` and in tuple `()`\n",
    "* the values of list can be changed at any point of a time but not in tuple (tuple is immutable)\n"
   ]
  },
  {
   "cell_type": "markdown",
   "metadata": {},
   "source": [
    "# question no - 14"
   ]
  },
  {
   "cell_type": "markdown",
   "metadata": {},
   "source": [
    "How do you type a tuple value that only contains the integer 42?\n",
    "\n",
    "-------------------------------------------------------------------\n",
    "\n",
    "answers:\n",
    "    \n",
    "` a=(42,)` like this we can contain only 42 in a tuple . unless we use the comma after 42 python take it as a int value not tuple"
   ]
  },
  {
   "cell_type": "code",
   "execution_count": 31,
   "metadata": {},
   "outputs": [
    {
     "name": "stdout",
     "output_type": "stream",
     "text": [
      "<class 'tuple'>\n"
     ]
    }
   ],
   "source": [
    "a=(42,)\n",
    "print(type(a))"
   ]
  },
  {
   "cell_type": "markdown",
   "metadata": {},
   "source": [
    "# question no - 15"
   ]
  },
  {
   "cell_type": "markdown",
   "metadata": {},
   "source": [
    "How do you get a list value's tuple form? How do you get a tuple value's list form?\n",
    "\n",
    "-----------------------------------------------------------------------------------------------\n",
    "\n",
    "answers:\n",
    "\n",
    "we can convert a list to tuple using `tuple()` and tuple to list by using `list()`"
   ]
  },
  {
   "cell_type": "code",
   "execution_count": 32,
   "metadata": {},
   "outputs": [],
   "source": [
    "a=[1,2,3,4,5]\n",
    "b=(\"a\",\"b\",\"c\",\"d\",\"e\")"
   ]
  },
  {
   "cell_type": "code",
   "execution_count": 33,
   "metadata": {},
   "outputs": [
    {
     "data": {
      "text/plain": [
       "['a', 'b', 'c', 'd', 'e']"
      ]
     },
     "execution_count": 33,
     "metadata": {},
     "output_type": "execute_result"
    }
   ],
   "source": [
    "list(b)"
   ]
  },
  {
   "cell_type": "code",
   "execution_count": 34,
   "metadata": {},
   "outputs": [
    {
     "data": {
      "text/plain": [
       "(1, 2, 3, 4, 5)"
      ]
     },
     "execution_count": 34,
     "metadata": {},
     "output_type": "execute_result"
    }
   ],
   "source": [
    "tuple(a)"
   ]
  },
  {
   "cell_type": "markdown",
   "metadata": {},
   "source": [
    "# question no - 16"
   ]
  },
  {
   "cell_type": "markdown",
   "metadata": {},
   "source": [
    "Variables that &quot;contain&quot; list values are not necessarily lists themselves. Instead, what do they\n",
    "contain?\n",
    "\n",
    "-------------------------------------------------------------------------------------------------\n",
    "\n",
    "answers:\n",
    "\n",
    "in case of list unlike string or a integer variable contain references to list values."
   ]
  },
  {
   "cell_type": "markdown",
   "metadata": {},
   "source": [
    "# question no - 17"
   ]
  },
  {
   "cell_type": "markdown",
   "metadata": {},
   "source": [
    "How do you distinguish between copy.copy() and copy.deepcopy()?\n",
    "\n",
    "-----------------------------------------------------------------------\n",
    "\n",
    "answers:\n",
    "\n",
    "`copy.copy()` function do  shallow copy and `copy.deepcopy()` do a deep copy"
   ]
  },
  {
   "cell_type": "code",
   "execution_count": null,
   "metadata": {},
   "outputs": [],
   "source": []
  }
 ],
 "metadata": {
  "colab": {
   "authorship_tag": "ABX9TyNc4xEB0M5gYUxFmUMyZK0S",
   "collapsed_sections": [
    "9CqK79KoLEuC",
    "CCBvCC7-OCxD",
    "FM8yVz2iLTMZ"
   ],
   "name": "Copy of Untitled2.ipynb",
   "private_outputs": true,
   "provenance": [
    {
     "file_id": "1bQBACMhQPEEhP1OkqKcUTdQbIf5inoxB",
     "timestamp": 1646052021549
    }
   ]
  },
  "kernelspec": {
   "display_name": "Python 3",
   "language": "python",
   "name": "python3"
  },
  "language_info": {
   "codemirror_mode": {
    "name": "ipython",
    "version": 3
   },
   "file_extension": ".py",
   "mimetype": "text/x-python",
   "name": "python",
   "nbconvert_exporter": "python",
   "pygments_lexer": "ipython3",
   "version": "3.8.8"
  }
 },
 "nbformat": 4,
 "nbformat_minor": 1
}
