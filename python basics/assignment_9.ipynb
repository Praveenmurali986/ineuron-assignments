{
 "cells": [
  {
   "cell_type": "markdown",
   "id": "5a9c4a14",
   "metadata": {},
   "source": [
    "# question no - 1"
   ]
  },
  {
   "cell_type": "markdown",
   "id": "7efc94e9",
   "metadata": {},
   "source": [
    "To what does a relative path refer?\n",
    "\n",
    "------------------------------------------\n",
    "\n",
    "answers:\n",
    "\n",
    "it can be defined as the path of a file inside the current working directory.\n",
    "\n",
    "if we have a file called `python.txt` and its absalute path is `C:\\Users\\PRAVEEN\\sample files\\txt files\\python.txt`\n",
    "and `C:\\Users\\PRAVEEN` is my current working directory then relative path is `sample files\\txt files\\python.txt`"
   ]
  },
  {
   "cell_type": "markdown",
   "id": "db08fa18",
   "metadata": {},
   "source": [
    "# question no - 2"
   ]
  },
  {
   "cell_type": "markdown",
   "id": "c02b682e",
   "metadata": {},
   "source": [
    "What does an absolute path start with your operating system?\n",
    "\n",
    "------------------------------------------\n",
    "\n",
    "answers:\n",
    "\n",
    "In windows absolute path starts with `:c` and in linux it starts with `/`"
   ]
  },
  {
   "cell_type": "markdown",
   "id": "31720615",
   "metadata": {},
   "source": [
    "# question no - 3"
   ]
  },
  {
   "cell_type": "markdown",
   "id": "9e444762",
   "metadata": {},
   "source": [
    "What do the functions os.getcwd() and os.chdir() do?\n",
    "\n",
    "------------------------------------------\n",
    "\n",
    "answers:\n",
    "\n",
    "`os.getcwd()` -->   returns the current working directory \n",
    "\n",
    "`os.chdir()` -->   helps to change the current working directory to the specified path ."
   ]
  },
  {
   "cell_type": "code",
   "execution_count": 2,
   "id": "0e9c2f42",
   "metadata": {},
   "outputs": [
    {
     "data": {
      "text/plain": [
       "'C:\\\\Users\\\\PRAVEEN\\\\ASSIGNMENT'"
      ]
     },
     "execution_count": 2,
     "metadata": {},
     "output_type": "execute_result"
    }
   ],
   "source": [
    "import os\n",
    "os.getcwd()"
   ]
  },
  {
   "cell_type": "code",
   "execution_count": 4,
   "id": "4338d8ce",
   "metadata": {},
   "outputs": [
    {
     "data": {
      "text/plain": [
       "'C:\\\\Users\\\\PRAVEEN'"
      ]
     },
     "execution_count": 4,
     "metadata": {},
     "output_type": "execute_result"
    }
   ],
   "source": [
    "os.chdir('C:\\\\Users\\\\PRAVEEN')\n",
    "os.getcwd()"
   ]
  },
  {
   "cell_type": "markdown",
   "id": "3ac02904",
   "metadata": {},
   "source": [
    "# question no - 4"
   ]
  },
  {
   "cell_type": "markdown",
   "id": "6a8903b1",
   "metadata": {},
   "source": [
    "What are the . and .. folders?\n",
    "\n",
    "------------------------------------------\n",
    "\n",
    "answers:\n",
    "\n",
    "current directory is represented by `.` and parent directory of current directory is represented by `..`\n",
    "\n",
    "if `C:\\Users\\PRAVEEN\\sample files\\txt files` is the current directory and represent by `.` then `C:\\Users\\PRAVEEN\\sample files` is represent by `..`"
   ]
  },
  {
   "cell_type": "markdown",
   "id": "bc622e7d",
   "metadata": {},
   "source": [
    "# question no - 5"
   ]
  },
  {
   "cell_type": "markdown",
   "id": "6a4f7bb0",
   "metadata": {},
   "source": [
    "In C:\\bacon\\eggs\\spam.txt, which part is the dir name, and which part is the base name?\n",
    "\n",
    "------------------------------------------\n",
    "\n",
    "answers:\n",
    "\n",
    "here `C:\\bacon\\eggs` is the dir name and \n",
    "\n",
    "`spam.txt` is the base name"
   ]
  },
  {
   "cell_type": "code",
   "execution_count": 9,
   "id": "b6e99e25",
   "metadata": {},
   "outputs": [
    {
     "data": {
      "text/plain": [
       "'spam.txt'"
      ]
     },
     "execution_count": 9,
     "metadata": {},
     "output_type": "execute_result"
    }
   ],
   "source": [
    "import os\n",
    "path = r'C:\\bacon\\eggs\\spam.txt'\n",
    "os.path.basename(path)\n"
   ]
  },
  {
   "cell_type": "code",
   "execution_count": 8,
   "id": "7935b263",
   "metadata": {},
   "outputs": [
    {
     "data": {
      "text/plain": [
       "'C:\\\\bacon\\\\eggs'"
      ]
     },
     "execution_count": 8,
     "metadata": {},
     "output_type": "execute_result"
    }
   ],
   "source": [
    "os.path.dirname(path)"
   ]
  },
  {
   "cell_type": "markdown",
   "id": "775e3b65",
   "metadata": {},
   "source": [
    "# question no - 6"
   ]
  },
  {
   "cell_type": "markdown",
   "id": "29c91eeb",
   "metadata": {},
   "source": [
    "What are the three “mode” arguments that can be passed to the open() function?\n",
    "\n",
    "------------------------------------------\n",
    "\n",
    "answers:\n",
    "\n",
    "* `'r'`  --> read mode .open existing file \n",
    "\n",
    "* `'w'`  --> write mode .create new file if file not exist , if exist overwrite it\n",
    "\n",
    "* `'r+'` --> read/write mode. do the both read and write funtion"
   ]
  },
  {
   "cell_type": "code",
   "execution_count": null,
   "id": "c0b2633d",
   "metadata": {},
   "outputs": [],
   "source": []
  },
  {
   "cell_type": "markdown",
   "id": "217ea7a0",
   "metadata": {},
   "source": [
    "# question no - 7"
   ]
  },
  {
   "cell_type": "markdown",
   "id": "59071118",
   "metadata": {},
   "source": [
    "What happens if an existing file is opened in write mode?\n",
    "\n",
    "------------------------------------------\n",
    "\n",
    "answers:\n",
    "\n",
    "write mode will overwrite the pre existing file . if not exist then create a new file."
   ]
  },
  {
   "cell_type": "code",
   "execution_count": null,
   "id": "c4643e76",
   "metadata": {},
   "outputs": [],
   "source": []
  },
  {
   "cell_type": "markdown",
   "id": "2bbce97a",
   "metadata": {},
   "source": [
    "# question no - 8"
   ]
  },
  {
   "cell_type": "markdown",
   "id": "d1ca5e30",
   "metadata": {},
   "source": [
    "How do you tell the difference between read() and readlines()?\n",
    "\n",
    "------------------------------------------\n",
    "\n",
    "answers:\n",
    "\n",
    "* `read()` will read the whole file at once and then print out the first characters that take up as many bytes as you specify.\n",
    " \n",
    "* Whereas the `readline()` that will read and print out only the first characters that take up as many bytes as you specify \n",
    " \n",
    "* The `read()` would treat each character in the file separately\n",
    " \n",
    "* The `readline()` function, on the other hand, only reads a single line of the file. "
   ]
  },
  {
   "cell_type": "markdown",
   "id": "2d7ade6d",
   "metadata": {},
   "source": [
    "# question no - 9"
   ]
  },
  {
   "cell_type": "markdown",
   "id": "12386c7c",
   "metadata": {},
   "source": [
    "What data structure does a shelf value resemble?\n",
    "\n",
    "------------------------------------------\n",
    "\n",
    "answers:\n",
    "\n",
    "it is like key value pair which resemble dictionary"
   ]
  },
  {
   "cell_type": "code",
   "execution_count": null,
   "id": "04c3f9a1",
   "metadata": {},
   "outputs": [],
   "source": []
  }
 ],
 "metadata": {
  "kernelspec": {
   "display_name": "Python 3",
   "language": "python",
   "name": "python3"
  },
  "language_info": {
   "codemirror_mode": {
    "name": "ipython",
    "version": 3
   },
   "file_extension": ".py",
   "mimetype": "text/x-python",
   "name": "python",
   "nbconvert_exporter": "python",
   "pygments_lexer": "ipython3",
   "version": "3.8.8"
  }
 },
 "nbformat": 4,
 "nbformat_minor": 5
}
