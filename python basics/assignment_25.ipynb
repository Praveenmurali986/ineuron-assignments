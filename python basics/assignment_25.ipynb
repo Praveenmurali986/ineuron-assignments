{
 "cells": [
  {
   "cell_type": "markdown",
   "id": "3238c2d9",
   "metadata": {},
   "source": [
    "# question no -1"
   ]
  },
  {
   "cell_type": "markdown",
   "id": "b8d279e5",
   "metadata": {},
   "source": [
    " *What is the difference between enclosing a list comprehension in square brackets and parentheses?*\n",
    "\n",
    "---\n",
    "\n",
    "answers:\n",
    "\n",
    " while we enclose list comprehesion in square brackets we get a list as out and incase of parantheses we get a generator object."
   ]
  },
  {
   "cell_type": "code",
   "execution_count": 4,
   "id": "1aee31ce",
   "metadata": {},
   "outputs": [
    {
     "name": "stdout",
     "output_type": "stream",
     "text": [
      "[0, 1, 2, 3, 4]\n",
      "<generator object <genexpr> at 0x0000025B447D0040>\n",
      "0\n",
      "1\n",
      "2\n",
      "3\n",
      "4\n"
     ]
    }
   ],
   "source": [
    "lst=[i for i in range(5)]\n",
    "print(lst)\n",
    "gen=(i for i in range(5))\n",
    "print(gen)\n",
    "for i in gen:\n",
    "    print(i)"
   ]
  },
  {
   "cell_type": "markdown",
   "id": "c5a7a6ce",
   "metadata": {},
   "source": [
    "# question no -2"
   ]
  },
  {
   "cell_type": "markdown",
   "id": "dda8fcea",
   "metadata": {},
   "source": [
    " What is the relationship between generators and iterators?\n",
    "\n",
    "---\n",
    "\n",
    "answers:\n",
    "\n",
    "  An `iterato` is an object which contains a countable number of values and it is used to iterate over iterable objects like list, tuples, sets, etc. It follows lazy evaluation where the evaluation of the expression will be on hold and stored in the memory until the item is called specifically which helps us to avoid repeated evaluation.it reduce the ram usage.we can use `iter()` to iterate through the iterables `next()` for the next element\n",
    " \n",
    "`generators` are iterators which is created with help of yield insted of return in a funtion . generator gives a out that can be iterate through . we have to iterate the output inoder to use it . "
   ]
  },
  {
   "cell_type": "code",
   "execution_count": 41,
   "id": "ce2382ad",
   "metadata": {
    "scrolled": true
   },
   "outputs": [
    {
     "name": "stdout",
     "output_type": "stream",
     "text": [
      "i\n",
      "n\n",
      "e\n",
      "u\n",
      "r\n",
      "o\n",
      "n\n",
      "\n",
      "\n",
      "i\n",
      "in\n",
      "ine\n",
      "ineu\n",
      "ineur\n",
      "ineuro\n",
      "ineuron\n"
     ]
    }
   ],
   "source": [
    "text=iter(['i','n','e','u','r','o','n'])\n",
    "print(next(text))\n",
    "print(next(text))\n",
    "print(next(text))\n",
    "print(next(text))\n",
    "print(next(text))\n",
    "print(next(text))\n",
    "print(next(text),end='\\n\\n\\n')\n",
    "\n",
    "\n",
    "\n",
    "def gen():\n",
    "    text='ineuron'\n",
    "    for i in range(7):\n",
    "        yield text[0:i+1]\n",
    "a=gen()\n",
    "print(next(a))\n",
    "print(next(a))\n",
    "print(next(a))\n",
    "print(next(a))\n",
    "print(next(a))\n",
    "print(next(a))\n",
    "print(next(a))"
   ]
  },
  {
   "cell_type": "markdown",
   "id": "d0c85c4f",
   "metadata": {},
   "source": [
    "# question no -3"
   ]
  },
  {
   "cell_type": "markdown",
   "id": "933ac3ee",
   "metadata": {},
   "source": [
    "What are the signs that a function is a generator function?\n",
    "\n",
    "---\n",
    "\n",
    "answers:\n",
    "\n",
    " The signs of generator functions are they have yield statement insted of return statement. while normal functions returns list,tuple,str,int,etc... generator function gives a generator which we can iterate through to use the output."
   ]
  },
  {
   "cell_type": "code",
   "execution_count": null,
   "id": "a0a0ed85",
   "metadata": {},
   "outputs": [],
   "source": []
  },
  {
   "cell_type": "markdown",
   "id": "e2acfa64",
   "metadata": {},
   "source": [
    "# question no -4"
   ]
  },
  {
   "cell_type": "markdown",
   "id": "4fc78339",
   "metadata": {},
   "source": [
    "What is the purpose of a yield statement?\n",
    "\n",
    "---\n",
    "\n",
    "answers:\n",
    "\n",
    " The yield statement suspends function’s execution and sends a value back to the caller, but retains enough state to enable function to resume where it is left off. When resumed, the function continues execution immediately after the last yield run. This allows its code to produce a series of values over time, rather than computing them at once and sending them back like a list."
   ]
  },
  {
   "cell_type": "code",
   "execution_count": null,
   "id": "d81e6e67",
   "metadata": {},
   "outputs": [],
   "source": []
  },
  {
   "cell_type": "markdown",
   "id": "6e13c697",
   "metadata": {},
   "source": [
    "# question no -5"
   ]
  },
  {
   "cell_type": "markdown",
   "id": "f408a554",
   "metadata": {},
   "source": [
    " What is the relationship between map calls and list comprehensions? Make a comparison and contrast between the two ?\n",
    "\n",
    "---\n",
    "\n",
    "answers:\n",
    "\n",
    " the major differences  are\n",
    " \n",
    " * List comprehension is more easy than map\n",
    " * we can filter the result in List comprehension which cannot be done in map\n",
    " * while using complicated expressions List comprehension is faster than map\n",
    " * List comprehension gives list of desired data as output but map give us map object which we need to convert it into desired data type\n",
    " * Map is faster in case of calling an already defined function on a set of values."
   ]
  },
  {
   "cell_type": "code",
   "execution_count": null,
   "id": "833d456c",
   "metadata": {},
   "outputs": [],
   "source": []
  }
 ],
 "metadata": {
  "kernelspec": {
   "display_name": "Python 3",
   "language": "python",
   "name": "python3"
  },
  "language_info": {
   "codemirror_mode": {
    "name": "ipython",
    "version": 3
   },
   "file_extension": ".py",
   "mimetype": "text/x-python",
   "name": "python",
   "nbconvert_exporter": "python",
   "pygments_lexer": "ipython3",
   "version": "3.8.8"
  }
 },
 "nbformat": 4,
 "nbformat_minor": 5
}
