{
 "cells": [
  {
   "cell_type": "markdown",
   "id": "3238c2d9",
   "metadata": {},
   "source": [
    "# question no -1"
   ]
  },
  {
   "cell_type": "markdown",
   "id": "b8d279e5",
   "metadata": {},
   "source": [
    "What advantages do Excel spreadsheets have over CSV spreadsheets?\n",
    "\n",
    "---\n",
    "\n",
    "answers:\n",
    "\n",
    " the major advantages are \n",
    " * In excel spreadsheet we can do operation in data using formulas\n",
    " * In case of csv , it is a plane text file.\n",
    " * excel helps us to analyse the data very easly but csv cannot since it is a flat file"
   ]
  },
  {
   "cell_type": "code",
   "execution_count": null,
   "id": "1aee31ce",
   "metadata": {},
   "outputs": [],
   "source": []
  },
  {
   "cell_type": "markdown",
   "id": "c5a7a6ce",
   "metadata": {},
   "source": [
    "# question no -2"
   ]
  },
  {
   "cell_type": "markdown",
   "id": "dda8fcea",
   "metadata": {},
   "source": [
    "2.What do you pass to csv.reader() and csv.writer() to create reader and writer objects?\n",
    "\n",
    "---\n",
    "\n",
    "answers:\n",
    "\n",
    " we usually pass file and delimiter(i.e.  ',') to it ."
   ]
  },
  {
   "cell_type": "code",
   "execution_count": null,
   "id": "ce2382ad",
   "metadata": {},
   "outputs": [],
   "source": [
    "import csv\n",
    "with open('filename.csv','r') as f:\n",
    "    data = csv.reader(f,delimiter=',')\n",
    "    for i in data:\n",
    "        print(i)"
   ]
  },
  {
   "cell_type": "markdown",
   "id": "d0c85c4f",
   "metadata": {},
   "source": [
    "# question no -3"
   ]
  },
  {
   "cell_type": "markdown",
   "id": "933ac3ee",
   "metadata": {},
   "source": [
    "What modes do File objects for reader and writer objects need to be opened in?\n",
    "\n",
    "---\n",
    "\n",
    "answers:\n",
    "For file objects of reader we need to open the file in read mode (`mode='r'`)and\n",
    "\n",
    "to write file open in write mode (`mode='w'`)\n",
    " "
   ]
  },
  {
   "cell_type": "code",
   "execution_count": null,
   "id": "15939c12",
   "metadata": {},
   "outputs": [],
   "source": []
  },
  {
   "cell_type": "markdown",
   "id": "e2acfa64",
   "metadata": {},
   "source": [
    "# question no -4"
   ]
  },
  {
   "cell_type": "markdown",
   "id": "4fc78339",
   "metadata": {},
   "source": [
    "What method takes a list argument and writes it to a CSV file?\n",
    "\n",
    "---\n",
    "\n",
    "answers:\n",
    "\n",
    " csv.writer have two method to write a csv file they are `csv.writerow()` and `csv.writerows()`.while `csv.writerow()` writes a single row at a time `csv.writerows()` writes multiple rows at the same time."
   ]
  },
  {
   "cell_type": "code",
   "execution_count": null,
   "id": "d81e6e67",
   "metadata": {},
   "outputs": [],
   "source": [
    "import csv\n",
    "data1 = ['Name', 'age', 'job', 'address']\n",
    "data2= [['praveen', '22', 'student', 'kerala'],  \n",
    "            ['sudh','30','ineuron','bangalore'], \n",
    "            ['sunny','27','ineuron','bangalore']] \n",
    "\n",
    "with open(\"filename.csv\", 'w') as f: \n",
    "    writerobj = csv.writer(f)\n",
    "    writerobj.writerow(data1) \n",
    "    writerobj.writerows(data2) "
   ]
  },
  {
   "cell_type": "markdown",
   "id": "6e13c697",
   "metadata": {},
   "source": [
    "# question no -5"
   ]
  },
  {
   "cell_type": "markdown",
   "id": "f408a554",
   "metadata": {},
   "source": [
    "What do the keyword arguments delimiter and line terminator do?\n",
    "\n",
    "---\n",
    "\n",
    "answers:\n",
    "\n",
    " delimiter is which seperate the data in the files in csv it is`','`.And line terminator is which comes in the end of a line ,which means a new line."
   ]
  },
  {
   "cell_type": "code",
   "execution_count": null,
   "id": "833d456c",
   "metadata": {},
   "outputs": [],
   "source": []
  },
  {
   "cell_type": "markdown",
   "id": "3e4ed537",
   "metadata": {},
   "source": [
    "# question no -6"
   ]
  },
  {
   "cell_type": "markdown",
   "id": "5ad85700",
   "metadata": {},
   "source": [
    "What function takes a string of JSON data and returns a Python data structure?\n",
    "\n",
    "---\n",
    "\n",
    "answers:\n",
    "\n",
    " we use `json.loads()` to take a string of json data and returns a python data structure."
   ]
  },
  {
   "cell_type": "code",
   "execution_count": 3,
   "id": "99cd4102",
   "metadata": {},
   "outputs": [
    {
     "name": "stdout",
     "output_type": "stream",
     "text": [
      "<class 'str'>\n"
     ]
    },
    {
     "data": {
      "text/plain": [
       "dict"
      ]
     },
     "execution_count": 3,
     "metadata": {},
     "output_type": "execute_result"
    }
   ],
   "source": [
    "import json\n",
    "data='''{\"name\":\"praveenmurali\",\n",
    "        \"age\":\"22\",\n",
    "        \"place\":\"kattakada\"}'''\n",
    "print(type(data))\n",
    "data1=json.loads(data)\n",
    "type(data1)"
   ]
  },
  {
   "cell_type": "markdown",
   "id": "69f8a870",
   "metadata": {},
   "source": [
    "# question no -7"
   ]
  },
  {
   "cell_type": "markdown",
   "id": "f746d4c9",
   "metadata": {},
   "source": [
    "What function takes a Python data structure and returns a string of JSON data?\n",
    "\n",
    "---\n",
    "\n",
    "answers:\n",
    "\n",
    " "
   ]
  },
  {
   "cell_type": "code",
   "execution_count": 8,
   "id": "2e40cfff",
   "metadata": {},
   "outputs": [
    {
     "name": "stdout",
     "output_type": "stream",
     "text": [
      "<class 'dict'>\n",
      "<class 'str'>\n",
      "{\"name\": \"praveenmurali\", \"age\": \"22\", \"place\": \"kattakada\"}\n"
     ]
    }
   ],
   "source": [
    "import json\n",
    "data={\"name\":\"praveenmurali\",\n",
    "        \"age\":\"22\",\n",
    "        \"place\":\"kattakada\"}\n",
    "print(type(data))\n",
    "data1=json.dumps(data)\n",
    "print(type(data1))\n",
    "print(data1)"
   ]
  },
  {
   "cell_type": "code",
   "execution_count": null,
   "id": "8916e040",
   "metadata": {},
   "outputs": [],
   "source": []
  }
 ],
 "metadata": {
  "kernelspec": {
   "display_name": "Python 3",
   "language": "python",
   "name": "python3"
  },
  "language_info": {
   "codemirror_mode": {
    "name": "ipython",
    "version": 3
   },
   "file_extension": ".py",
   "mimetype": "text/x-python",
   "name": "python",
   "nbconvert_exporter": "python",
   "pygments_lexer": "ipython3",
   "version": "3.8.8"
  }
 },
 "nbformat": 4,
 "nbformat_minor": 5
}
