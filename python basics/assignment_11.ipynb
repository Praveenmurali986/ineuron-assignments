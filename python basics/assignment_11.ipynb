{
 "cells": [
  {
   "cell_type": "markdown",
   "id": "3238c2d9",
   "metadata": {},
   "source": [
    "# question no -1"
   ]
  },
  {
   "cell_type": "markdown",
   "id": "b8d279e5",
   "metadata": {},
   "source": [
    "Create an assert statement that throws an AssertionError if the variable spam is a negative integer.\n",
    "\n",
    "---\n",
    "\n",
    "answers:\n",
    "\n",
    " "
   ]
  },
  {
   "cell_type": "code",
   "execution_count": 6,
   "id": "1aee31ce",
   "metadata": {},
   "outputs": [
    {
     "ename": "AssertionError",
     "evalue": "spam cannot be negative integer",
     "output_type": "error",
     "traceback": [
      "\u001b[1;31m---------------------------------------------------------------------------\u001b[0m",
      "\u001b[1;31mAssertionError\u001b[0m                            Traceback (most recent call last)",
      "\u001b[1;32m<ipython-input-6-1932a8588756>\u001b[0m in \u001b[0;36m<module>\u001b[1;34m\u001b[0m\n\u001b[0;32m      1\u001b[0m \u001b[0mspam\u001b[0m\u001b[1;33m=\u001b[0m\u001b[1;33m-\u001b[0m\u001b[1;36m1\u001b[0m\u001b[1;33m\u001b[0m\u001b[1;33m\u001b[0m\u001b[0m\n\u001b[1;32m----> 2\u001b[1;33m \u001b[1;32massert\u001b[0m \u001b[0mspam\u001b[0m\u001b[1;33m>=\u001b[0m\u001b[1;36m0\u001b[0m \u001b[1;33m,\u001b[0m \u001b[1;34m\"spam cannot be negative integer\"\u001b[0m\u001b[1;33m\u001b[0m\u001b[1;33m\u001b[0m\u001b[0m\n\u001b[0m",
      "\u001b[1;31mAssertionError\u001b[0m: spam cannot be negative integer"
     ]
    }
   ],
   "source": [
    "spam=-1\n",
    "assert spam>=0 , \"spam cannot be negative integer\""
   ]
  },
  {
   "cell_type": "markdown",
   "id": "c5a7a6ce",
   "metadata": {},
   "source": [
    "# question no -2"
   ]
  },
  {
   "cell_type": "markdown",
   "id": "dda8fcea",
   "metadata": {},
   "source": [
    "Write an assert statement that triggers an AssertionError if the variables eggs and bacon contain strings that are the same as each other, even if their cases are different (that is, 'hello' and 'hello' are considered the same, and 'goodbye' and 'GOODbye' are also considered the same).\n",
    "\n",
    "---\n",
    "\n",
    "answers:\n",
    "\n",
    " "
   ]
  },
  {
   "cell_type": "code",
   "execution_count": 12,
   "id": "ce2382ad",
   "metadata": {},
   "outputs": [
    {
     "ename": "AssertionError",
     "evalue": "eggs and bacon cannot be the same",
     "output_type": "error",
     "traceback": [
      "\u001b[1;31m---------------------------------------------------------------------------\u001b[0m",
      "\u001b[1;31mAssertionError\u001b[0m                            Traceback (most recent call last)",
      "\u001b[1;32m<ipython-input-12-ece4c61d6c5d>\u001b[0m in \u001b[0;36m<module>\u001b[1;34m\u001b[0m\n\u001b[0;32m      1\u001b[0m \u001b[0meggs\u001b[0m\u001b[1;33m=\u001b[0m\u001b[1;34m'hello'\u001b[0m\u001b[1;33m\u001b[0m\u001b[1;33m\u001b[0m\u001b[0m\n\u001b[0;32m      2\u001b[0m \u001b[0mbacon\u001b[0m\u001b[1;33m=\u001b[0m\u001b[1;34m'hello'\u001b[0m\u001b[1;33m\u001b[0m\u001b[1;33m\u001b[0m\u001b[0m\n\u001b[1;32m----> 3\u001b[1;33m \u001b[1;32massert\u001b[0m \u001b[0meggs\u001b[0m\u001b[1;33m.\u001b[0m\u001b[0mlower\u001b[0m\u001b[1;33m(\u001b[0m\u001b[1;33m)\u001b[0m\u001b[1;33m!=\u001b[0m\u001b[0mbacon\u001b[0m\u001b[1;33m.\u001b[0m\u001b[0mlower\u001b[0m\u001b[1;33m(\u001b[0m\u001b[1;33m)\u001b[0m \u001b[1;33m,\u001b[0m \u001b[1;34m'eggs and bacon cannot be the same'\u001b[0m\u001b[1;33m\u001b[0m\u001b[1;33m\u001b[0m\u001b[0m\n\u001b[0m",
      "\u001b[1;31mAssertionError\u001b[0m: eggs and bacon cannot be the same"
     ]
    }
   ],
   "source": [
    "eggs='hello'\n",
    "bacon='hello'\n",
    "assert eggs.lower()!=bacon.lower() , 'eggs and bacon cannot be the same'"
   ]
  },
  {
   "cell_type": "code",
   "execution_count": 13,
   "id": "0e77b5a8",
   "metadata": {
    "scrolled": true
   },
   "outputs": [
    {
     "ename": "AssertionError",
     "evalue": "eggs and bacon cannot be the same",
     "output_type": "error",
     "traceback": [
      "\u001b[1;31m---------------------------------------------------------------------------\u001b[0m",
      "\u001b[1;31mAssertionError\u001b[0m                            Traceback (most recent call last)",
      "\u001b[1;32m<ipython-input-13-12ef6b6c1974>\u001b[0m in \u001b[0;36m<module>\u001b[1;34m\u001b[0m\n\u001b[0;32m      1\u001b[0m \u001b[0meggs\u001b[0m\u001b[1;33m=\u001b[0m\u001b[1;34m'goodbye'\u001b[0m\u001b[1;33m\u001b[0m\u001b[1;33m\u001b[0m\u001b[0m\n\u001b[0;32m      2\u001b[0m \u001b[0mbacon\u001b[0m\u001b[1;33m=\u001b[0m\u001b[1;34m'GOODbye'\u001b[0m\u001b[1;33m\u001b[0m\u001b[1;33m\u001b[0m\u001b[0m\n\u001b[1;32m----> 3\u001b[1;33m \u001b[1;32massert\u001b[0m \u001b[0meggs\u001b[0m\u001b[1;33m.\u001b[0m\u001b[0mlower\u001b[0m\u001b[1;33m(\u001b[0m\u001b[1;33m)\u001b[0m\u001b[1;33m!=\u001b[0m\u001b[0mbacon\u001b[0m\u001b[1;33m.\u001b[0m\u001b[0mlower\u001b[0m\u001b[1;33m(\u001b[0m\u001b[1;33m)\u001b[0m \u001b[1;33m,\u001b[0m \u001b[1;34m'eggs and bacon cannot be the same'\u001b[0m\u001b[1;33m\u001b[0m\u001b[1;33m\u001b[0m\u001b[0m\n\u001b[0m",
      "\u001b[1;31mAssertionError\u001b[0m: eggs and bacon cannot be the same"
     ]
    }
   ],
   "source": [
    "eggs='goodbye'\n",
    "bacon='GOODbye'\n",
    "assert eggs.lower()!=bacon.lower() , 'eggs and bacon cannot be the same'"
   ]
  },
  {
   "cell_type": "markdown",
   "id": "d0c85c4f",
   "metadata": {},
   "source": [
    "# question no -3"
   ]
  },
  {
   "cell_type": "markdown",
   "id": "933ac3ee",
   "metadata": {},
   "source": [
    "Create an assert statement that throws an AssertionError every time.\n",
    "\n",
    "---\n",
    "\n",
    "answers:\n",
    "\n",
    " "
   ]
  },
  {
   "cell_type": "code",
   "execution_count": 16,
   "id": "15939c12",
   "metadata": {},
   "outputs": [
    {
     "ename": "AssertionError",
     "evalue": "will show assert always",
     "output_type": "error",
     "traceback": [
      "\u001b[1;31m---------------------------------------------------------------------------\u001b[0m",
      "\u001b[1;31mAssertionError\u001b[0m                            Traceback (most recent call last)",
      "\u001b[1;32m<ipython-input-16-940c92cc8519>\u001b[0m in \u001b[0;36m<module>\u001b[1;34m\u001b[0m\n\u001b[0;32m      2\u001b[0m     \u001b[1;32massert\u001b[0m \u001b[1;32mFalse\u001b[0m \u001b[1;33m,\u001b[0m \u001b[1;34m'will show assert always'\u001b[0m\u001b[1;33m\u001b[0m\u001b[1;33m\u001b[0m\u001b[0m\n\u001b[0;32m      3\u001b[0m \u001b[1;33m\u001b[0m\u001b[0m\n\u001b[1;32m----> 4\u001b[1;33m \u001b[0mshow_assert\u001b[0m\u001b[1;33m(\u001b[0m\u001b[1;33m)\u001b[0m\u001b[1;33m\u001b[0m\u001b[1;33m\u001b[0m\u001b[0m\n\u001b[0m",
      "\u001b[1;32m<ipython-input-16-940c92cc8519>\u001b[0m in \u001b[0;36mshow_assert\u001b[1;34m()\u001b[0m\n\u001b[0;32m      1\u001b[0m \u001b[1;32mdef\u001b[0m \u001b[0mshow_assert\u001b[0m\u001b[1;33m(\u001b[0m\u001b[1;33m)\u001b[0m\u001b[1;33m:\u001b[0m\u001b[1;33m\u001b[0m\u001b[1;33m\u001b[0m\u001b[0m\n\u001b[1;32m----> 2\u001b[1;33m     \u001b[1;32massert\u001b[0m \u001b[1;32mFalse\u001b[0m \u001b[1;33m,\u001b[0m \u001b[1;34m'will show assert always'\u001b[0m\u001b[1;33m\u001b[0m\u001b[1;33m\u001b[0m\u001b[0m\n\u001b[0m\u001b[0;32m      3\u001b[0m \u001b[1;33m\u001b[0m\u001b[0m\n\u001b[0;32m      4\u001b[0m \u001b[0mshow_assert\u001b[0m\u001b[1;33m(\u001b[0m\u001b[1;33m)\u001b[0m\u001b[1;33m\u001b[0m\u001b[1;33m\u001b[0m\u001b[0m\n",
      "\u001b[1;31mAssertionError\u001b[0m: will show assert always"
     ]
    }
   ],
   "source": [
    "def show_assert():\n",
    "    assert False , 'will show assert always'\n",
    "    \n",
    "show_assert()"
   ]
  },
  {
   "cell_type": "markdown",
   "id": "e2acfa64",
   "metadata": {},
   "source": [
    "# question no -4"
   ]
  },
  {
   "cell_type": "markdown",
   "id": "4fc78339",
   "metadata": {},
   "source": [
    "What are the two lines that must be present in your software in order to call logging.debug()?\n",
    "\n",
    "---\n",
    "\n",
    "answers:\n",
    "\n",
    " "
   ]
  },
  {
   "cell_type": "code",
   "execution_count": 21,
   "id": "d81e6e67",
   "metadata": {},
   "outputs": [],
   "source": [
    "import logging\n",
    "logging.basicConfig(filename='log.txt',level=logging.DEBUG,format='%(asctime)s,%(levelname)s,%(message)s')"
   ]
  },
  {
   "cell_type": "markdown",
   "id": "6e13c697",
   "metadata": {},
   "source": [
    "# question no -5"
   ]
  },
  {
   "cell_type": "markdown",
   "id": "f408a554",
   "metadata": {},
   "source": [
    "What are the two lines that your program must have in order to have logging.debug() send a logging message to a file named programLog.txt?\n",
    "\n",
    "---\n",
    "\n",
    "answers:\n",
    "\n",
    " "
   ]
  },
  {
   "cell_type": "code",
   "execution_count": 1,
   "id": "833d456c",
   "metadata": {},
   "outputs": [],
   "source": [
    "import logging\n",
    "logging.basicConfig(filename='programLog.txt',level=logging.DEBUG,format=('%(asctime)s,%(levelname)s,%(message)s'))\n",
    "logging.debug('file opened succesfully')\n",
    "logging.debug('file closed succesfully')"
   ]
  },
  {
   "cell_type": "code",
   "execution_count": 2,
   "id": "68b9f6a1",
   "metadata": {},
   "outputs": [
    {
     "data": {
      "text/plain": [
       "['2022-04-09 10:56:31,016,DEBUG,file opened succesfully\\n',\n",
       " '2022-04-09 10:56:31,016,DEBUG,file closed succesfully\\n']"
      ]
     },
     "execution_count": 2,
     "metadata": {},
     "output_type": "execute_result"
    }
   ],
   "source": [
    "f= open('programLog.txt','r')\n",
    "f.readlines()\n",
    "    "
   ]
  },
  {
   "cell_type": "markdown",
   "id": "3e4ed537",
   "metadata": {},
   "source": [
    "# question no -6"
   ]
  },
  {
   "cell_type": "markdown",
   "id": "5ad85700",
   "metadata": {},
   "source": [
    "What are the five levels of logging?\n",
    "\n",
    "---\n",
    "\n",
    "answers:\n",
    "\n",
    " the five levels of logging are\n",
    " * `NOTSET`\n",
    " * `DEBUG`\n",
    " * `INFO`\n",
    " * `WARNING` \n",
    " * `CRITICAL`"
   ]
  },
  {
   "cell_type": "code",
   "execution_count": null,
   "id": "99cd4102",
   "metadata": {},
   "outputs": [],
   "source": []
  },
  {
   "cell_type": "markdown",
   "id": "69f8a870",
   "metadata": {},
   "source": [
    "# question no -7"
   ]
  },
  {
   "cell_type": "markdown",
   "id": "f746d4c9",
   "metadata": {},
   "source": [
    "What line of code would you add to your software to disable all logging messages?\n",
    "\n",
    "---\n",
    "\n",
    "answers:\n",
    "\n",
    " "
   ]
  },
  {
   "cell_type": "code",
   "execution_count": 3,
   "id": "2e40cfff",
   "metadata": {},
   "outputs": [],
   "source": [
    "logging.disable=True"
   ]
  },
  {
   "cell_type": "markdown",
   "id": "08103a65",
   "metadata": {},
   "source": [
    "# question no -8"
   ]
  },
  {
   "cell_type": "markdown",
   "id": "acff1334",
   "metadata": {},
   "source": [
    "Why is using logging messages better than using print() to display the same message?\n",
    "\n",
    "---\n",
    "\n",
    "answers:\n",
    "\n",
    " The advantages of logging over print funtion is that \n",
    " * if we want to remove all printing funtion in a code then have to remove it manually but in case of logging we can desable it anywhere we want\n",
    " * print can only give us a limited insights where as logging can give us data of days\n",
    " * we can check what happent to our code from the starting time to day till it runs evenif it is not running since data is saving in a seperate file se can check it even after years\n",
    " * print funtion give none type"
   ]
  },
  {
   "cell_type": "code",
   "execution_count": null,
   "id": "e7c0dfa0",
   "metadata": {},
   "outputs": [],
   "source": []
  },
  {
   "cell_type": "markdown",
   "id": "3224ef8c",
   "metadata": {},
   "source": [
    "# question no -9"
   ]
  },
  {
   "cell_type": "markdown",
   "id": "c4c43ca4",
   "metadata": {},
   "source": [
    "What are the differences between the Step Over, Step In, and Step Out buttons in the debugger?\n",
    "\n",
    "---\n",
    "\n",
    "answers:\n",
    "\n",
    " The differences between step over , step in and step out buttons in debugger are\n",
    " \n",
    " * step In : step In button helps us to execute the next line of code and then pause\n",
    " * step over :  step Over button will act the same as step in button but in case of a funtion it execute the funtion completely and then pause\n",
    " * step Out : Step Out button will cause the debugger to execute lines of code at full speed until it returns from the current function."
   ]
  },
  {
   "cell_type": "code",
   "execution_count": null,
   "id": "28673946",
   "metadata": {},
   "outputs": [],
   "source": []
  },
  {
   "cell_type": "markdown",
   "id": "4d95c606",
   "metadata": {},
   "source": [
    "# question no -10"
   ]
  },
  {
   "cell_type": "markdown",
   "id": "ceef86ff",
   "metadata": {},
   "source": [
    "After you click Continue, when will the debugger stop ?\n",
    "\n",
    "---\n",
    "\n",
    "answers:\n",
    "\n",
    "  This will cause the program to continue running normally, without pausing for debugging untill it terminates or reaches a breakpoint."
   ]
  },
  {
   "cell_type": "code",
   "execution_count": null,
   "id": "8045c449",
   "metadata": {},
   "outputs": [],
   "source": []
  },
  {
   "cell_type": "markdown",
   "id": "1c1b4d73",
   "metadata": {},
   "source": [
    "# question no -11"
   ]
  },
  {
   "cell_type": "markdown",
   "id": "6a6e321f",
   "metadata": {},
   "source": [
    "What is the concept of a breakpoint?\n",
    "\n",
    "---\n",
    "\n",
    "answers:\n",
    "\n",
    " Breakpoint is a setting on a line of code that causes the debugger to pause when the program execution reaches the line"
   ]
  },
  {
   "cell_type": "code",
   "execution_count": null,
   "id": "2de896c8",
   "metadata": {},
   "outputs": [],
   "source": []
  }
 ],
 "metadata": {
  "kernelspec": {
   "display_name": "Python 3",
   "language": "python",
   "name": "python3"
  },
  "language_info": {
   "codemirror_mode": {
    "name": "ipython",
    "version": 3
   },
   "file_extension": ".py",
   "mimetype": "text/x-python",
   "name": "python",
   "nbconvert_exporter": "python",
   "pygments_lexer": "ipython3",
   "version": "3.8.8"
  }
 },
 "nbformat": 4,
 "nbformat_minor": 5
}
