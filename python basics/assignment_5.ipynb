{
 "cells": [
  {
   "cell_type": "markdown",
   "id": "fcf0dd1e",
   "metadata": {},
   "source": [
    "# question no -  1"
   ]
  },
  {
   "cell_type": "markdown",
   "id": "285f787c",
   "metadata": {},
   "source": [
    "What does an empty dictionary's code look like?\n",
    "\n",
    "----------------------------------------------\n",
    "\n",
    "answers:\n",
    "\n",
    "Empty dictionaries are generally writen as `{}`  or dic=dict()"
   ]
  },
  {
   "cell_type": "markdown",
   "id": "8c0d9758",
   "metadata": {},
   "source": [
    "# question no - 2"
   ]
  },
  {
   "cell_type": "markdown",
   "id": "11379f40",
   "metadata": {},
   "source": [
    "What is the value of a dictionary value with the key 'foo' and the value 42?\n",
    "\n",
    "--------------------------------------------------------------------------------\n",
    "\n",
    "answers:\n",
    "\n",
    "`dic={'foo':42}`"
   ]
  },
  {
   "cell_type": "markdown",
   "id": "e454a1d9",
   "metadata": {},
   "source": [
    "# question no - 3"
   ]
  },
  {
   "cell_type": "markdown",
   "id": "174a65d6",
   "metadata": {},
   "source": [
    "What is the most significant distinction between a dictionary and a list?\n",
    "\n",
    "-----------------------------------------------------------------------------\n",
    "\n",
    "answers:\n",
    "\n",
    "* dictionary accept its values as key value pair only but list accept integer ,string , list , tuple etc\n",
    "* values of dictionary is entered inside `{}` while in list we use `[]`\n",
    "* list identify its values by means of its indexes but in dictionary it use key "
   ]
  },
  {
   "cell_type": "markdown",
   "id": "07ce4e48",
   "metadata": {},
   "source": [
    "# question no - 4"
   ]
  },
  {
   "cell_type": "markdown",
   "id": "ae0d23d6",
   "metadata": {},
   "source": [
    "What happens if you try to access spam['foo'] if spam is {'bar':100} ?\n",
    "\n",
    "-------------------------------------------------------------------------\n",
    "\n",
    "answers:\n",
    "\n",
    "we get an error as `KeyError: 'foo'`"
   ]
  },
  {
   "cell_type": "code",
   "execution_count": 5,
   "id": "3725cc23",
   "metadata": {},
   "outputs": [
    {
     "ename": "KeyError",
     "evalue": "'foo'",
     "output_type": "error",
     "traceback": [
      "\u001b[1;31m---------------------------------------------------------------------------\u001b[0m",
      "\u001b[1;31mKeyError\u001b[0m                                  Traceback (most recent call last)",
      "\u001b[1;32m<ipython-input-5-cea1cd791e68>\u001b[0m in \u001b[0;36m<module>\u001b[1;34m\u001b[0m\n\u001b[0;32m      1\u001b[0m \u001b[0mspam\u001b[0m \u001b[1;33m=\u001b[0m \u001b[1;33m{\u001b[0m\u001b[1;34m'bar'\u001b[0m\u001b[1;33m:\u001b[0m\u001b[1;36m100\u001b[0m\u001b[1;33m}\u001b[0m\u001b[1;33m\u001b[0m\u001b[1;33m\u001b[0m\u001b[0m\n\u001b[1;32m----> 2\u001b[1;33m \u001b[0mspam\u001b[0m\u001b[1;33m[\u001b[0m\u001b[1;34m'foo'\u001b[0m\u001b[1;33m]\u001b[0m\u001b[1;33m\u001b[0m\u001b[1;33m\u001b[0m\u001b[0m\n\u001b[0m",
      "\u001b[1;31mKeyError\u001b[0m: 'foo'"
     ]
    }
   ],
   "source": [
    "spam = {'bar':100}\n",
    "spam['foo']"
   ]
  },
  {
   "cell_type": "markdown",
   "id": "d548d619",
   "metadata": {},
   "source": [
    "# question no - 5"
   ]
  },
  {
   "cell_type": "markdown",
   "id": "1b08e73f",
   "metadata": {},
   "source": [
    "if a dictionary is stored in spam,what is the difference between the expressions 'cat' in spam and 'cat' in spam.keys() ?\n",
    "\n",
    "-----------------------------------------------------------------------------------------------------\n",
    "\n",
    "answers:\n",
    "\n",
    "in case of 'cat' is a key , both expressions will work the same.check if there is any key value as 'cat'.\n",
    "\n",
    "but in case 'cat' is a value not a key then spam.keys() return False   and since a value 'cat' is present in the dictionary 'cat' in spam return True"
   ]
  },
  {
   "cell_type": "markdown",
   "id": "bf2afa9d",
   "metadata": {},
   "source": [
    "# question no - 6"
   ]
  },
  {
   "cell_type": "markdown",
   "id": "8dd4fb51",
   "metadata": {},
   "source": [
    "if a dictionary is stored in spam,what is the difference between the expressions 'cat' in spam and 'cat' in spam.values() ?\n",
    "\n",
    "------------------------------------------------------------------------------------------------------------------\n",
    "\n",
    "answers:\n",
    "\n",
    "In case 'cat' is a value ,not a key both of them work the same and retrun True . \n",
    "\n",
    "and in case 'cat' is a key  then 'cat' in spam returns True and spam.values() returns False\n",
    "\n",
    "\n",
    "\n",
    "'cat' in spam check if 'cat' is present in key or value\n",
    "\n",
    "where 'cat' in spam.values() checks only on the values not on keys"
   ]
  },
  {
   "cell_type": "markdown",
   "id": "b69e96f8",
   "metadata": {},
   "source": [
    "# question no - 7"
   ]
  },
  {
   "cell_type": "markdown",
   "id": "b7506fbe",
   "metadata": {},
   "source": [
    ".what is a shortcut for the following code ?\n",
    "\n",
    "`if 'color' not in spam:\n",
    "    spam['color'] ='black'`\n",
    "    \n",
    "-----------------------------------------------------------------------------------------\n",
    "\n",
    "answers:\n",
    "\n",
    "`spam.setdefault('color','black')`\n",
    "\n"
   ]
  },
  {
   "cell_type": "markdown",
   "id": "bf904a14",
   "metadata": {},
   "source": [
    "# question no - 8"
   ]
  },
  {
   "cell_type": "markdown",
   "id": "5cc14470",
   "metadata": {},
   "source": [
    "How do you 'pretty print' dictionary values using which modules and function ?\n",
    "\n",
    "--------------------------------------------------------------------------------------\n",
    "\n",
    "answers:\n",
    "\n",
    "* by using pprint() method in pprint module \n",
    "* by using dump() method in json module"
   ]
  },
  {
   "cell_type": "code",
   "execution_count": 19,
   "id": "f7851d5e",
   "metadata": {},
   "outputs": [],
   "source": [
    "dic=[{'name':'praveen','surname':'murali','age':22,'course':['fsds','ml' ,'nlp']},{'name':'praveen','surname':'murali','age':22,'course':['fsds','ml' ,'nlp']},{'name':'praveen','surname':'murali','age':22,'course':['fsds','ml' ,'nlp']},{'name':'praveen','surname':'murali','age':22,'course':['fsds','ml' ,'nlp']}]"
   ]
  },
  {
   "cell_type": "code",
   "execution_count": 21,
   "id": "7a40073a",
   "metadata": {},
   "outputs": [
    {
     "name": "stdout",
     "output_type": "stream",
     "text": [
      "[\n",
      "    {\n",
      "        \"name\": \"praveen\",\n",
      "        \"surname\": \"murali\",\n",
      "        \"age\": 22,\n",
      "        \"course\": [\n",
      "            \"fsds\",\n",
      "            \"ml\",\n",
      "            \"nlp\"\n",
      "        ]\n",
      "    },\n",
      "    {\n",
      "        \"name\": \"praveen\",\n",
      "        \"surname\": \"murali\",\n",
      "        \"age\": 22,\n",
      "        \"course\": [\n",
      "            \"fsds\",\n",
      "            \"ml\",\n",
      "            \"nlp\"\n",
      "        ]\n",
      "    },\n",
      "    {\n",
      "        \"name\": \"praveen\",\n",
      "        \"surname\": \"murali\",\n",
      "        \"age\": 22,\n",
      "        \"course\": [\n",
      "            \"fsds\",\n",
      "            \"ml\",\n",
      "            \"nlp\"\n",
      "        ]\n",
      "    },\n",
      "    {\n",
      "        \"name\": \"praveen\",\n",
      "        \"surname\": \"murali\",\n",
      "        \"age\": 22,\n",
      "        \"course\": [\n",
      "            \"fsds\",\n",
      "            \"ml\",\n",
      "            \"nlp\"\n",
      "        ]\n",
      "    }\n",
      "]\n"
     ]
    }
   ],
   "source": [
    "import json\n",
    "dump = json.dumps(dic,indent=4)\n",
    "print(dump)"
   ]
  },
  {
   "cell_type": "code",
   "execution_count": null,
   "id": "f67c21a5",
   "metadata": {},
   "outputs": [],
   "source": []
  },
  {
   "cell_type": "code",
   "execution_count": null,
   "id": "4832c42d",
   "metadata": {},
   "outputs": [],
   "source": []
  }
 ],
 "metadata": {
  "kernelspec": {
   "display_name": "Python 3",
   "language": "python",
   "name": "python3"
  },
  "language_info": {
   "codemirror_mode": {
    "name": "ipython",
    "version": 3
   },
   "file_extension": ".py",
   "mimetype": "text/x-python",
   "name": "python",
   "nbconvert_exporter": "python",
   "pygments_lexer": "ipython3",
   "version": "3.8.8"
  }
 },
 "nbformat": 4,
 "nbformat_minor": 5
}
