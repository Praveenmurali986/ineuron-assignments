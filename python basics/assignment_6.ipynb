{
 "cells": [
  {
   "cell_type": "markdown",
   "id": "0aca332e",
   "metadata": {},
   "source": [
    "# question no - 1"
   ]
  },
  {
   "cell_type": "markdown",
   "id": "2f5c554e",
   "metadata": {},
   "source": [
    "What are escape characters, and how do you use them?\n",
    "\n",
    "-------------------------------------------------\n",
    "\n",
    "answers:\n",
    "\n",
    "An escape character is a backslash `\\` followed by the character you want to insert"
   ]
  },
  {
   "cell_type": "code",
   "execution_count": 5,
   "id": "c2e78833",
   "metadata": {},
   "outputs": [],
   "source": [
    "txt = \"he said \\\"hello\\\"\" "
   ]
  },
  {
   "cell_type": "code",
   "execution_count": 6,
   "id": "bca1bbdf",
   "metadata": {},
   "outputs": [
    {
     "data": {
      "text/plain": [
       "'he said \"hello\"'"
      ]
     },
     "execution_count": 6,
     "metadata": {},
     "output_type": "execute_result"
    }
   ],
   "source": [
    "txt"
   ]
  },
  {
   "cell_type": "markdown",
   "id": "b11cad5b",
   "metadata": {},
   "source": [
    "# question no - 2"
   ]
  },
  {
   "cell_type": "markdown",
   "id": "62539260",
   "metadata": {},
   "source": [
    "What do the escape characters n and t stand for?\n",
    "\n",
    "----------------------------------------------------------------------------------------\n",
    "\n",
    "answers:\n",
    "\n",
    "`\\n` stants for new line\n",
    "\n",
    "`\\t` stants for Tab"
   ]
  },
  {
   "cell_type": "markdown",
   "id": "9ca007f3",
   "metadata": {},
   "source": [
    "# question no - 3"
   ]
  },
  {
   "cell_type": "markdown",
   "id": "3b119b94",
   "metadata": {},
   "source": [
    "What is the way to include backslash characters in a string?\n",
    "\n",
    "----------------------------------------------------------------------------------------\n",
    "\n",
    "answers:\n",
    "\n",
    "A backslash after a backslash `\\\\` insert a backslash in a string"
   ]
  },
  {
   "cell_type": "markdown",
   "id": "952d9363",
   "metadata": {},
   "source": [
    "# question no - 4"
   ]
  },
  {
   "cell_type": "markdown",
   "id": "324c9077",
   "metadata": {},
   "source": [
    "The string \"Howl's Moving Castle\" is a correct value. Why isn't the single quote character in the word Howl's not escaped a problem ?\n",
    "\n",
    "----------------------------------------------------------------------------------------\n",
    "\n",
    "answers:\n",
    "\n",
    "here `'` is escaped because the string is wraped with double quotes.If we have used the single quotes to wrape the string then this would be a problem.In that case we need to type a backslash `\\` to escape` ' `"
   ]
  },
  {
   "cell_type": "code",
   "execution_count": 8,
   "id": "40915ae3",
   "metadata": {},
   "outputs": [
    {
     "data": {
      "text/plain": [
       "\"Howl's Moving Castle\""
      ]
     },
     "execution_count": 8,
     "metadata": {},
     "output_type": "execute_result"
    }
   ],
   "source": [
    "'Howl\\'s Moving Castle'"
   ]
  },
  {
   "cell_type": "markdown",
   "id": "4f38c54d",
   "metadata": {},
   "source": [
    "# question no - 5"
   ]
  },
  {
   "cell_type": "markdown",
   "id": "e8c83a4b",
   "metadata": {},
   "source": [
    "How do you write a string of newlines if you don't want to use the n character?\n",
    "\n",
    "----------------------------------------------------------------------------------------\n",
    "\n",
    "answers:\n",
    "\n",
    "we can use multiline string by using `'''   '''`"
   ]
  },
  {
   "cell_type": "code",
   "execution_count": 9,
   "id": "1c48b812",
   "metadata": {},
   "outputs": [
    {
     "name": "stdout",
     "output_type": "stream",
     "text": [
      "i\n",
      "like\n",
      "ineuron\n"
     ]
    }
   ],
   "source": [
    "a='''i\n",
    "like\n",
    "ineuron'''\n",
    "print(a)"
   ]
  },
  {
   "cell_type": "markdown",
   "id": "ee8f38f3",
   "metadata": {},
   "source": [
    "# question no - 6"
   ]
  },
  {
   "cell_type": "markdown",
   "id": "752e6908",
   "metadata": {},
   "source": [
    ".What are the values of the given expressions ?\n",
    "`'Hello, world!'[1]\n",
    "'Hello, world!'[0:5]\n",
    "'Hello, world!'[:5]\n",
    "'Hello, world!'[3:]`\n",
    "\n",
    "----------------------------------------------------------------------------------------\n",
    "\n",
    "answers:\n",
    "\n",
    "`'Hello, world!'[1]`           -->   `'e'`\n",
    "\n",
    "`'Hello, world!'[0:5]`         -->  `'Hello'`\n",
    "\n",
    "`'Hello, world!'[:5] `         -->   `'Hello'`\n",
    "\n",
    "`'Hello, world!'[3:] `         -->   `'lo, world!'`"
   ]
  },
  {
   "cell_type": "markdown",
   "id": "577b92ee",
   "metadata": {},
   "source": [
    "# question no - 7"
   ]
  },
  {
   "cell_type": "markdown",
   "id": "e57cd6f5",
   "metadata": {},
   "source": [
    "What are the values of the following expressions ?\n",
    "`'Hello'.upper()\n",
    "'Hello'.upper().isupper()\n",
    "'Hello'.upper().lower()`\n",
    "\n",
    "----------------------------------------------------------------------------------------\n",
    "\n",
    "answers:\n",
    "\n",
    "`'Hello'.upper()`               --> `'HELLO'`\n",
    "\n",
    "`'Hello'.upper().isupper()`     --> `True`\n",
    "\n",
    "`'Hello'.upper().lower()`       --> `'helo'`\n"
   ]
  },
  {
   "cell_type": "markdown",
   "id": "2e2f8c44",
   "metadata": {},
   "source": [
    "# question no - 8"
   ]
  },
  {
   "cell_type": "markdown",
   "id": "c7d06211",
   "metadata": {},
   "source": [
    "What are the values of the following expressions ?\n",
    "\n",
    "`'Remember, remember, the fifith of July.'.split()`\n",
    "\n",
    "`-'.join('There can only one'.split())`\n",
    "\n",
    "----------------------------------------------------------------------------------------\n",
    "\n",
    "answers:\n",
    "\n",
    "`'Remember, remember, the fifith of July.'.split()`  -->  `['Remember,', 'remember,', 'the', 'fifith', 'of', 'July.']`\n",
    "\n",
    "`'-'.join('There can only one'.split())`  --> `'There-can-only-one'`"
   ]
  },
  {
   "cell_type": "markdown",
   "id": "8a53b8b4",
   "metadata": {},
   "source": [
    "# question no - 9"
   ]
  },
  {
   "cell_type": "markdown",
   "id": "89bff7cd",
   "metadata": {},
   "source": [
    "What are the methods for right-justifying, left-justifying, and centering a string?\n",
    "\n",
    "----------------------------------------------------------------------------------------\n",
    "\n",
    "answers:\n",
    "\n",
    "right-justifying   -->  `rjust()`\n",
    "\n",
    "left-justifying   -->  `ljust()`\n",
    "\n",
    "centering    -->  `center()`"
   ]
  },
  {
   "cell_type": "markdown",
   "id": "bfcad931",
   "metadata": {},
   "source": [
    "# question no - 10"
   ]
  },
  {
   "cell_type": "markdown",
   "id": "088690eb",
   "metadata": {},
   "source": [
    "What is the best way to remove whitespace characters from the start or end?\n",
    "\n",
    "----------------------------------------------------------------------------------------\n",
    "\n",
    "answers:\n",
    "\n",
    "to remore whitespace from\n",
    "\n",
    "start (left end) -->  `lstrip()`\n",
    "\n",
    "end (right end) -->  `rstrip()`"
   ]
  },
  {
   "cell_type": "code",
   "execution_count": null,
   "id": "7e6ad057",
   "metadata": {},
   "outputs": [],
   "source": []
  }
 ],
 "metadata": {
  "kernelspec": {
   "display_name": "Python 3",
   "language": "python",
   "name": "python3"
  },
  "language_info": {
   "codemirror_mode": {
    "name": "ipython",
    "version": 3
   },
   "file_extension": ".py",
   "mimetype": "text/x-python",
   "name": "python",
   "nbconvert_exporter": "python",
   "pygments_lexer": "ipython3",
   "version": "3.8.8"
  }
 },
 "nbformat": 4,
 "nbformat_minor": 5
}
