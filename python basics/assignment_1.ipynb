{
 "cells": [
  {
   "cell_type": "markdown",
   "id": "1dd66de9",
   "metadata": {},
   "source": [
    "# question no - 1"
   ]
  },
  {
   "cell_type": "raw",
   "id": "ca095637",
   "metadata": {},
   "source": [
    "In the below elements which of them are values or an expression? eg:- values can be integer or string and expressions will be mathematical operators.\n",
    "\n",
    "* ,\n",
    "'hello' ,\n",
    "-87.8 ,\n",
    "- ,\n",
    "/ ,\n",
    "+ ,\n",
    "6\n",
    "-----------------------------------------------------------\n",
    "\n",
    "answers:\n",
    "\n",
    " 'hello' , -87.8 , 6   are the values and\n",
    " \n",
    "  * , - , / , +   are the expressions"
   ]
  },
  {
   "cell_type": "markdown",
   "id": "b5c5d252",
   "metadata": {},
   "source": [
    "# question no - 2"
   ]
  },
  {
   "cell_type": "raw",
   "id": "b674f138",
   "metadata": {},
   "source": [
    "What is the difference between string and variable?\n",
    "\n",
    "-------------------------------------------------------------\n",
    "\n",
    "answers :\n",
    "    variables are the things which are used to store values and informations \n",
    "    and strings are a kind of data type which is group of characters enclosed in a double or single quotes.It can be saved in a variable."
   ]
  },
  {
   "cell_type": "markdown",
   "id": "5334c5aa",
   "metadata": {},
   "source": [
    "# question no - 3"
   ]
  },
  {
   "cell_type": "raw",
   "id": "ff2db9ec",
   "metadata": {},
   "source": [
    "Describe three different data types.\n",
    "\n",
    "-------------------------------------------------------------\n",
    "\n",
    "answers:\n",
    "\n",
    "    1) int : It is a numeric data type which consists of whole numbers\n",
    "    eg : 23\n",
    "    2) float : It is also a numeric data type , consists of decimal numbers. \n",
    "    eg : 23.23\n",
    "    3) complex : It represent the  complex numbers which is in the form (real part)+(imaginary part)j\n",
    "    eg : 2+3j"
   ]
  },
  {
   "cell_type": "markdown",
   "id": "95e3f38c",
   "metadata": {},
   "source": [
    "# question no - 4"
   ]
  },
  {
   "cell_type": "raw",
   "id": "376415d0",
   "metadata": {},
   "source": [
    "What is an expression made up of? What do all expressions do?\n",
    "\n",
    "-------------------------------------------------------------\n",
    "\n",
    "answers : expressions are made of values ,operators , variables . as mentioned expressions are the combination of values,opetators,variables in a syntaxical sequence which makes sence and can intepret to give its value"
   ]
  },
  {
   "cell_type": "markdown",
   "id": "82fac46a",
   "metadata": {},
   "source": [
    "eg :"
   ]
  },
  {
   "cell_type": "code",
   "execution_count": null,
   "id": "31928bf6",
   "metadata": {},
   "outputs": [],
   "source": [
    "4+5-6*7/8 "
   ]
  },
  {
   "cell_type": "markdown",
   "id": "453466e1",
   "metadata": {},
   "source": [
    "\n",
    "\n",
    "\n",
    "# question no - 5 "
   ]
  },
  {
   "cell_type": "raw",
   "id": "37db806d",
   "metadata": {},
   "source": [
    "This assignment statements, like spam = 10. What is the difference between an\n",
    "expression and a statement?\n",
    "--------------------------------------------------------------------------------\n",
    "\n",
    "answers :\n",
    "    expression are the compinations of operators , values , variable which python interpret and gives us the values of the expression \n",
    "    eg: 5+8\n",
    "    but in case of  a statements , it is a piece of code which can save values and expression to some variable provided \n",
    "    eg: a=5=8 ,b='praveenmurali'"
   ]
  },
  {
   "cell_type": "markdown",
   "id": "35923193",
   "metadata": {},
   "source": [
    "# question no - 6"
   ]
  },
  {
   "cell_type": "raw",
   "id": "483c9efe",
   "metadata": {},
   "source": [
    "After running the following code, what does the variable bacon contain?\n",
    "bacon = 22\n",
    "bacon + 1\n",
    "----------------------------------------------------------------------------------------\n",
    "\n",
    "answers: \n",
    "    Here initially the int value 22 is saved to the variable bacon and then add 1 to the variable bacon , by running the code bacon + 1, we only add 1 to the value that hold by variable bacon and print it but not saving the added value to bacon.So the final value of bacon after running the code is also 22 .\n",
    "    by using the code    bacon = bacon + 1    the value of the variable can be altered"
   ]
  },
  {
   "cell_type": "markdown",
   "id": "801f3230",
   "metadata": {},
   "source": [
    "# question no - 7"
   ]
  },
  {
   "cell_type": "raw",
   "id": "b30d2984",
   "metadata": {},
   "source": [
    "What should the values of the following two terms be?\n",
    "'spam'+'spamspam'\n",
    "'spam'*3\n",
    "--------------------------------------------------------------------------------\n",
    "\n",
    "\n",
    "answers:\n",
    "\n",
    "    the first one is an example of string concatination and its value will be 'spamspamspam'.\n",
    "    the second one is an example of string multiplication and its value will be the same that is 'spamspamspam'"
   ]
  },
  {
   "cell_type": "code",
   "execution_count": null,
   "id": "aac040ef",
   "metadata": {},
   "outputs": [],
   "source": [
    "'spam'+'spamspam'"
   ]
  },
  {
   "cell_type": "code",
   "execution_count": null,
   "id": "4709520c",
   "metadata": {},
   "outputs": [],
   "source": [
    "'spam'*3"
   ]
  },
  {
   "cell_type": "markdown",
   "id": "c540f691",
   "metadata": {},
   "source": [
    "# question no - 8"
   ]
  },
  {
   "cell_type": "raw",
   "id": "c2f5bfe5",
   "metadata": {},
   "source": [
    "Why is eggs a valid variable name while 100 is invalid?\n",
    "\n",
    "-----------------------------------------------------------------------------------\n",
    "\n",
    "answers:\n",
    "    Because there exist a naming convention for a variable in python. According to the naming conventions the variable names cannot be starts with numbers but only with underscore ( _ ) or a alphabets.\n",
    "    \n",
    "    The other conditions are names can only have alphabets , numbers , and underscore\n",
    "    and cannot use the reserved keywords as variable name\n",
    "    "
   ]
  },
  {
   "cell_type": "code",
   "execution_count": null,
   "id": "2a8ac489",
   "metadata": {},
   "outputs": [],
   "source": [
    "100='praveenmurali'  #invalid"
   ]
  },
  {
   "cell_type": "code",
   "execution_count": null,
   "id": "27dc6450",
   "metadata": {},
   "outputs": [],
   "source": [
    "1neuron='fun' #invalid"
   ]
  },
  {
   "cell_type": "code",
   "execution_count": 5,
   "id": "b4210a43",
   "metadata": {},
   "outputs": [],
   "source": [
    "neuron1='fun' #valid"
   ]
  },
  {
   "cell_type": "markdown",
   "id": "b7c866e4",
   "metadata": {},
   "source": [
    "# question no - 9"
   ]
  },
  {
   "cell_type": "raw",
   "id": "8ce08d5f",
   "metadata": {},
   "source": [
    "What three functions can be used to get the integer, floating-point number, or string\n",
    "version of a value?\n",
    "\n",
    "---------------------------------------------------------------------------------------------\n",
    "\n",
    "answers:\n",
    "\n",
    "    The funtions like int() , float() , str() are used to get integer , floating-point , strings respectively."
   ]
  },
  {
   "cell_type": "code",
   "execution_count": null,
   "id": "531bd0aa",
   "metadata": {},
   "outputs": [],
   "source": [
    "int(45.7)"
   ]
  },
  {
   "cell_type": "code",
   "execution_count": null,
   "id": "cdc0ccd3",
   "metadata": {},
   "outputs": [],
   "source": [
    "float(45)"
   ]
  },
  {
   "cell_type": "code",
   "execution_count": null,
   "id": "54690b21",
   "metadata": {},
   "outputs": [],
   "source": [
    "str(45)"
   ]
  },
  {
   "cell_type": "markdown",
   "id": "14982c37",
   "metadata": {},
   "source": [
    "# question no - 10"
   ]
  },
  {
   "cell_type": "raw",
   "id": "20304597",
   "metadata": {},
   "source": [
    "Why does this expression cause an error? How can you fix it?\n",
    "'I have eaten' + 99 + ' burritos.'\n",
    "-------------------------------------------------------------------------\n",
    "\n",
    "answers:\n",
    "\n",
    "     The cause of error in the given code is , using of integer value to perforn string concatination . The correct way to do the above problem is  'I have eaten'+ str(99) + 'burritos'"
   ]
  },
  {
   "cell_type": "code",
   "execution_count": null,
   "id": "02604ab8",
   "metadata": {},
   "outputs": [],
   "source": [
    "'I have eaten '+ str(99) + ' burritos'"
   ]
  },
  {
   "cell_type": "code",
   "execution_count": null,
   "id": "34579d39",
   "metadata": {},
   "outputs": [],
   "source": []
  }
 ],
 "metadata": {
  "kernelspec": {
   "display_name": "Python 3",
   "language": "python",
   "name": "python3"
  },
  "language_info": {
   "codemirror_mode": {
    "name": "ipython",
    "version": 3
   },
   "file_extension": ".py",
   "mimetype": "text/x-python",
   "name": "python",
   "nbconvert_exporter": "python",
   "pygments_lexer": "ipython3",
   "version": "3.8.8"
  }
 },
 "nbformat": 4,
 "nbformat_minor": 5
}
