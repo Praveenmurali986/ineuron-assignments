{
 "cells": [
  {
   "cell_type": "markdown",
   "id": "3238c2d9",
   "metadata": {
    "id": "3238c2d9"
   },
   "source": [
    "# question no -1"
   ]
  },
  {
   "cell_type": "markdown",
   "id": "b8d279e5",
   "metadata": {
    "id": "b8d279e5"
   },
   "source": [
    "Assign the value 7 to the variable guess_me. Then, write the conditional tests (if, else, and elif) to print the string 'too low' if guess_me is less than 7, 'too high' if greater than 7, and 'just right' if equal to 7.\n",
    "\n",
    "---\n",
    "\n",
    "answers:"
   ]
  },
  {
   "cell_type": "code",
   "execution_count": 1,
   "id": "1aee31ce",
   "metadata": {
    "colab": {
     "base_uri": "https://localhost:8080/"
    },
    "executionInfo": {
     "elapsed": 94,
     "status": "ok",
     "timestamp": 1647223899610,
     "user": {
      "displayName": "praveen murali",
      "photoUrl": "https://lh3.googleusercontent.com/a-/AOh14GhXp0xgo3VHxR-P32YMPDYQwevsyQ4Kb1aM01KRPw=s64",
      "userId": "06155751173643335241"
     },
     "user_tz": -330
    },
    "id": "1aee31ce",
    "outputId": "4342c962-aeea-405b-9d72-6f9835b9c289"
   },
   "outputs": [
    {
     "name": "stdout",
     "output_type": "stream",
     "text": [
      "just Right\n",
      "too Low\n",
      "too High\n"
     ]
    }
   ],
   "source": [
    "def guess_me(guess_me):\n",
    "    if guess_me < 7:\n",
    "        print('too Low')\n",
    "    elif guess_me > 7:\n",
    "        print('too High')\n",
    "    else:\n",
    "        print('just Right')\n",
    "\n",
    "guess_me(guess_me=7)\n",
    "guess_me(guess_me=5)\n",
    "guess_me(guess_me=15)"
   ]
  },
  {
   "cell_type": "markdown",
   "id": "c5a7a6ce",
   "metadata": {
    "id": "c5a7a6ce"
   },
   "source": [
    "# question no -2"
   ]
  },
  {
   "cell_type": "markdown",
   "id": "dda8fcea",
   "metadata": {
    "id": "dda8fcea"
   },
   "source": [
    "Assign the value 7 to the variable guess_me and the value 1 to the variable start. Write a while loop that compares start with guess_me. Print too low if start is less than guess me. If start equals guess_me, print 'found it!' and exit the loop. If start is greater than guess_me, print 'oops' and exit the loop. Increment start at the end of the loop\n",
    "\n",
    "---\n",
    "\n",
    "answers:"
   ]
  },
  {
   "cell_type": "code",
   "execution_count": 3,
   "id": "ce2382ad",
   "metadata": {
    "colab": {
     "base_uri": "https://localhost:8080/"
    },
    "executionInfo": {
     "elapsed": 39,
     "status": "ok",
     "timestamp": 1647224078217,
     "user": {
      "displayName": "praveen murali",
      "photoUrl": "https://lh3.googleusercontent.com/a-/AOh14GhXp0xgo3VHxR-P32YMPDYQwevsyQ4Kb1aM01KRPw=s64",
      "userId": "06155751173643335241"
     },
     "user_tz": -330
    },
    "id": "ce2382ad",
    "outputId": "0711bd39-3f86-4fcf-c41d-f5ea2dd4715f"
   },
   "outputs": [
    {
     "name": "stdout",
     "output_type": "stream",
     "text": [
      "too low\n",
      "too low\n",
      "found it\n"
     ]
    }
   ],
   "source": [
    "guess_me = 7\n",
    "guess = 5\n",
    "while True:\n",
    "    if guess < guess_me:\n",
    "        print('too low')\n",
    "    elif guess == guess_me:\n",
    "        print('found it')\n",
    "        break\n",
    "    else:\n",
    "        print('oops')\n",
    "        break\n",
    "    guess += 1"
   ]
  },
  {
   "cell_type": "markdown",
   "id": "d0c85c4f",
   "metadata": {
    "id": "d0c85c4f"
   },
   "source": [
    "# question no -3"
   ]
  },
  {
   "cell_type": "markdown",
   "id": "933ac3ee",
   "metadata": {
    "id": "933ac3ee"
   },
   "source": [
    "Print the following values of the list [3, 2, 1, 0] using a for loop.\n",
    "\n",
    "---\n",
    "\n",
    "answers:"
   ]
  },
  {
   "cell_type": "code",
   "execution_count": 4,
   "id": "15939c12",
   "metadata": {
    "colab": {
     "base_uri": "https://localhost:8080/"
    },
    "executionInfo": {
     "elapsed": 618,
     "status": "ok",
     "timestamp": 1647224169532,
     "user": {
      "displayName": "praveen murali",
      "photoUrl": "https://lh3.googleusercontent.com/a-/AOh14GhXp0xgo3VHxR-P32YMPDYQwevsyQ4Kb1aM01KRPw=s64",
      "userId": "06155751173643335241"
     },
     "user_tz": -330
    },
    "id": "15939c12",
    "outputId": "15afa377-684b-4cc2-fd11-2900c4d01b8a"
   },
   "outputs": [
    {
     "name": "stdout",
     "output_type": "stream",
     "text": [
      "3\n",
      "2\n",
      "1\n",
      "0\n"
     ]
    }
   ],
   "source": [
    "list = [3,2,1,0]\n",
    "for i in list:\n",
    "    print(i)"
   ]
  },
  {
   "cell_type": "markdown",
   "id": "e2acfa64",
   "metadata": {
    "id": "e2acfa64"
   },
   "source": [
    "# question no -4"
   ]
  },
  {
   "cell_type": "markdown",
   "id": "4fc78339",
   "metadata": {
    "id": "4fc78339"
   },
   "source": [
    "Use a list comprehension to make a list of the even numbers in range(10)\n",
    "\n",
    "---\n",
    "\n",
    "answers:"
   ]
  },
  {
   "cell_type": "code",
   "execution_count": 6,
   "id": "d81e6e67",
   "metadata": {
    "colab": {
     "base_uri": "https://localhost:8080/"
    },
    "executionInfo": {
     "elapsed": 637,
     "status": "ok",
     "timestamp": 1647224294981,
     "user": {
      "displayName": "praveen murali",
      "photoUrl": "https://lh3.googleusercontent.com/a-/AOh14GhXp0xgo3VHxR-P32YMPDYQwevsyQ4Kb1aM01KRPw=s64",
      "userId": "06155751173643335241"
     },
     "user_tz": -330
    },
    "id": "d81e6e67",
    "outputId": "8d0e9143-a970-49f3-f680-b4c81b4eea60"
   },
   "outputs": [
    {
     "data": {
      "text/plain": [
       "[0, 2, 4, 6, 8]"
      ]
     },
     "execution_count": 6,
     "metadata": {},
     "output_type": "execute_result"
    }
   ],
   "source": [
    "[x for x in range(10) if x%2==0 ]"
   ]
  },
  {
   "cell_type": "markdown",
   "id": "6e13c697",
   "metadata": {
    "id": "6e13c697"
   },
   "source": [
    "# question no -5"
   ]
  },
  {
   "cell_type": "markdown",
   "id": "f408a554",
   "metadata": {
    "id": "f408a554"
   },
   "source": [
    "Use a dictionary comprehension to create the dictionary squares. Use range(10) to return the keys, and use the square of each key as its value.\n",
    "\n",
    "---\n",
    "\n",
    "answers:"
   ]
  },
  {
   "cell_type": "code",
   "execution_count": 7,
   "id": "833d456c",
   "metadata": {
    "colab": {
     "base_uri": "https://localhost:8080/"
    },
    "executionInfo": {
     "elapsed": 654,
     "status": "ok",
     "timestamp": 1647224443156,
     "user": {
      "displayName": "praveen murali",
      "photoUrl": "https://lh3.googleusercontent.com/a-/AOh14GhXp0xgo3VHxR-P32YMPDYQwevsyQ4Kb1aM01KRPw=s64",
      "userId": "06155751173643335241"
     },
     "user_tz": -330
    },
    "id": "833d456c",
    "outputId": "99b918d9-9090-440e-d54b-23d53cf729b6"
   },
   "outputs": [
    {
     "data": {
      "text/plain": [
       "{0: 0, 1: 1, 2: 4, 3: 9, 4: 16, 5: 25, 6: 36, 7: 49, 8: 64, 9: 81}"
      ]
     },
     "execution_count": 7,
     "metadata": {},
     "output_type": "execute_result"
    }
   ],
   "source": [
    "{x:x**2 for x in range(10)}"
   ]
  },
  {
   "cell_type": "markdown",
   "id": "3e4ed537",
   "metadata": {
    "id": "3e4ed537"
   },
   "source": [
    "# question no -6"
   ]
  },
  {
   "cell_type": "markdown",
   "id": "5ad85700",
   "metadata": {
    "id": "5ad85700"
   },
   "source": [
    "Construct the set odd from the odd numbers in the range (10) using a set comprehension.\n",
    "\n",
    "---\n",
    "\n",
    "answers:"
   ]
  },
  {
   "cell_type": "code",
   "execution_count": 9,
   "id": "99cd4102",
   "metadata": {
    "colab": {
     "base_uri": "https://localhost:8080/"
    },
    "executionInfo": {
     "elapsed": 728,
     "status": "ok",
     "timestamp": 1647224618218,
     "user": {
      "displayName": "praveen murali",
      "photoUrl": "https://lh3.googleusercontent.com/a-/AOh14GhXp0xgo3VHxR-P32YMPDYQwevsyQ4Kb1aM01KRPw=s64",
      "userId": "06155751173643335241"
     },
     "user_tz": -330
    },
    "id": "99cd4102",
    "outputId": "210191a5-4512-4c84-e827-1ba2b0ac0555"
   },
   "outputs": [
    {
     "data": {
      "text/plain": [
       "{1, 3, 5, 7, 9}"
      ]
     },
     "execution_count": 9,
     "metadata": {},
     "output_type": "execute_result"
    }
   ],
   "source": [
    "{x for x in range(10) if x%2 !=0}"
   ]
  },
  {
   "cell_type": "markdown",
   "id": "69f8a870",
   "metadata": {
    "id": "69f8a870"
   },
   "source": [
    "# question no -7"
   ]
  },
  {
   "cell_type": "markdown",
   "id": "f746d4c9",
   "metadata": {
    "id": "f746d4c9"
   },
   "source": [
    "Use a generator comprehension to return the string 'Got ' and a number for the numbers in range(10). Iterate through this by using a for loop\n",
    "\n",
    "---\n",
    "\n",
    "answers:"
   ]
  },
  {
   "cell_type": "code",
   "execution_count": 10,
   "id": "2e40cfff",
   "metadata": {
    "colab": {
     "base_uri": "https://localhost:8080/"
    },
    "executionInfo": {
     "elapsed": 673,
     "status": "ok",
     "timestamp": 1647224823090,
     "user": {
      "displayName": "praveen murali",
      "photoUrl": "https://lh3.googleusercontent.com/a-/AOh14GhXp0xgo3VHxR-P32YMPDYQwevsyQ4Kb1aM01KRPw=s64",
      "userId": "06155751173643335241"
     },
     "user_tz": -330
    },
    "id": "2e40cfff",
    "outputId": "a2f8fbea-6365-4e72-d47e-5e7c4b7a1186"
   },
   "outputs": [
    {
     "name": "stdout",
     "output_type": "stream",
     "text": [
      "Got_0\n",
      "Got_1\n",
      "Got_2\n",
      "Got_3\n",
      "Got_4\n",
      "Got_5\n",
      "Got_6\n",
      "Got_7\n",
      "Got_8\n",
      "Got_9\n"
     ]
    }
   ],
   "source": [
    "generator= ('Got_'+str(x) for x in range(10))\n",
    "for i in generator:\n",
    "    print(i)"
   ]
  },
  {
   "cell_type": "markdown",
   "id": "08103a65",
   "metadata": {
    "id": "08103a65"
   },
   "source": [
    "# question no -8"
   ]
  },
  {
   "cell_type": "markdown",
   "id": "acff1334",
   "metadata": {
    "id": "acff1334"
   },
   "source": [
    "Define a function called good that returns the list ['Harry', 'Ron', 'Hermione'].\n",
    "\n",
    "---\n",
    "\n",
    "answers:"
   ]
  },
  {
   "cell_type": "code",
   "execution_count": 13,
   "id": "e7c0dfa0",
   "metadata": {
    "colab": {
     "base_uri": "https://localhost:8080/"
    },
    "executionInfo": {
     "elapsed": 1639,
     "status": "ok",
     "timestamp": 1647224941124,
     "user": {
      "displayName": "praveen murali",
      "photoUrl": "https://lh3.googleusercontent.com/a-/AOh14GhXp0xgo3VHxR-P32YMPDYQwevsyQ4Kb1aM01KRPw=s64",
      "userId": "06155751173643335241"
     },
     "user_tz": -330
    },
    "id": "e7c0dfa0",
    "outputId": "1a2af953-dc9a-44a7-fec1-cf49f79367c9"
   },
   "outputs": [
    {
     "data": {
      "text/plain": [
       "['Harry', 'Ron', 'Hermione']"
      ]
     },
     "execution_count": 13,
     "metadata": {},
     "output_type": "execute_result"
    }
   ],
   "source": [
    "def good():\n",
    "    x =  ['Harry', 'Ron', 'Hermione']\n",
    "    return x\n",
    "good()"
   ]
  },
  {
   "cell_type": "markdown",
   "id": "3224ef8c",
   "metadata": {
    "id": "3224ef8c"
   },
   "source": [
    "# question no -9"
   ]
  },
  {
   "cell_type": "markdown",
   "id": "c4c43ca4",
   "metadata": {
    "id": "c4c43ca4"
   },
   "source": [
    "Define a generator function called get_odds that returns the odd numbers from range(10). Use a for loop to find and print the third value returned.\n",
    "\n",
    "---\n",
    "\n",
    "answers:"
   ]
  },
  {
   "cell_type": "code",
   "execution_count": 20,
   "id": "28673946",
   "metadata": {
    "colab": {
     "base_uri": "https://localhost:8080/"
    },
    "executionInfo": {
     "elapsed": 638,
     "status": "ok",
     "timestamp": 1647225219573,
     "user": {
      "displayName": "praveen murali",
      "photoUrl": "https://lh3.googleusercontent.com/a-/AOh14GhXp0xgo3VHxR-P32YMPDYQwevsyQ4Kb1aM01KRPw=s64",
      "userId": "06155751173643335241"
     },
     "user_tz": -330
    },
    "id": "28673946",
    "outputId": "6baca0db-dd19-4f04-e594-5af88b61095a"
   },
   "outputs": [
    {
     "name": "stdout",
     "output_type": "stream",
     "text": [
      "5\n"
     ]
    }
   ],
   "source": [
    "def get_odds():\n",
    "    output = []\n",
    "    for i in range(10):\n",
    "        if i%2 != 0:\n",
    "            output.append(i)\n",
    "    yield output\n",
    "\n",
    "for i in get_odds():\n",
    "    print(i[2])"
   ]
  },
  {
   "cell_type": "markdown",
   "id": "4d95c606",
   "metadata": {
    "id": "4d95c606"
   },
   "source": [
    "# question no -10"
   ]
  },
  {
   "cell_type": "markdown",
   "id": "ceef86ff",
   "metadata": {
    "id": "ceef86ff"
   },
   "source": [
    "Define an exception called OopsException. Raise this exception to see what happens. Then write the code to catch this exception and print 'Caught an oops'.\n",
    "\n",
    "---\n",
    "\n",
    "answers:"
   ]
  },
  {
   "cell_type": "code",
   "execution_count": 3,
   "id": "8045c449",
   "metadata": {
    "colab": {
     "base_uri": "https://localhost:8080/"
    },
    "executionInfo": {
     "elapsed": 633,
     "status": "ok",
     "timestamp": 1647225753328,
     "user": {
      "displayName": "praveen murali",
      "photoUrl": "https://lh3.googleusercontent.com/a-/AOh14GhXp0xgo3VHxR-P32YMPDYQwevsyQ4Kb1aM01KRPw=s64",
      "userId": "06155751173643335241"
     },
     "user_tz": -330
    },
    "id": "8045c449",
    "outputId": "7b0d2d36-9d1a-4419-a3c9-47d383887b58"
   },
   "outputs": [
    {
     "name": "stdout",
     "output_type": "stream",
     "text": [
      "Caught an oops\n",
      "\n"
     ]
    }
   ],
   "source": [
    "class OopsException(Exception):\n",
    "    def __init__(self):\n",
    "        print( \"Caught an oops\")\n",
    "\n",
    "def test(input):\n",
    "    if input <0:\n",
    "        raise OopsException\n",
    "try:\n",
    "    test(-100)\n",
    "except Exception as e:\n",
    "    print(e)"
   ]
  },
  {
   "cell_type": "markdown",
   "id": "1c1b4d73",
   "metadata": {
    "id": "1c1b4d73"
   },
   "source": [
    "# question no -11"
   ]
  },
  {
   "cell_type": "markdown",
   "id": "6a6e321f",
   "metadata": {
    "id": "6a6e321f"
   },
   "source": [
    "Use zip() to make a dictionary called movies that pairs these lists: titles = ['Creature of Habit', 'Crewel Fate'] and plots = ['A nun turns into a monster', 'A haunted yarn shop'].\n",
    "\n",
    "---\n",
    "\n",
    "answers:\n",
    "\n",
    " "
   ]
  },
  {
   "cell_type": "code",
   "execution_count": 4,
   "id": "2de896c8",
   "metadata": {
    "id": "2de896c8"
   },
   "outputs": [
    {
     "name": "stdout",
     "output_type": "stream",
     "text": [
      "{'Creature of Habit': 'A nun turns into a monster', 'Crewel Fate': 'A haunted yarn shop'}\n"
     ]
    }
   ],
   "source": [
    "titles = ['Creature of Habit', 'Crewel Fate']\n",
    "plots = ['A nun turns into a monster', 'A haunted yarn shop']\n",
    "dict1 = dict(zip(titles,plots))\n",
    "print(dict1)"
   ]
  }
 ],
 "metadata": {
  "colab": {
   "collapsed_sections": [],
   "name": "Copy of assignment notebook model.ipynb",
   "provenance": [
    {
     "file_id": "19X3q_RyDZemntR8eiBIvR2iKXeWTQDDU",
     "timestamp": 1647223845573
    }
   ]
  },
  "kernelspec": {
   "display_name": "Python 3",
   "language": "python",
   "name": "python3"
  },
  "language_info": {
   "codemirror_mode": {
    "name": "ipython",
    "version": 3
   },
   "file_extension": ".py",
   "mimetype": "text/x-python",
   "name": "python",
   "nbconvert_exporter": "python",
   "pygments_lexer": "ipython3",
   "version": "3.8.8"
  }
 },
 "nbformat": 4,
 "nbformat_minor": 5
}
