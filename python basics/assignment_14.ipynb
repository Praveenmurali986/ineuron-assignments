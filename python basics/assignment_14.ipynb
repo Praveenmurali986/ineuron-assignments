{
 "cells": [
  {
   "cell_type": "markdown",
   "id": "3238c2d9",
   "metadata": {},
   "source": [
    "# question no -1"
   ]
  },
  {
   "cell_type": "markdown",
   "id": "b8d279e5",
   "metadata": {},
   "source": [
    "What does RGBA stand for?\n",
    "\n",
    "---\n",
    "\n",
    "answers:\n",
    "\n",
    " RGBA is the abrivation of red , green , blue , alpha .\n",
    " \n",
    " red , green , blue which is the colour data and alpha represents opacity."
   ]
  },
  {
   "cell_type": "code",
   "execution_count": null,
   "id": "1aee31ce",
   "metadata": {},
   "outputs": [],
   "source": []
  },
  {
   "cell_type": "markdown",
   "id": "c5a7a6ce",
   "metadata": {},
   "source": [
    "# question no -2"
   ]
  },
  {
   "cell_type": "markdown",
   "id": "dda8fcea",
   "metadata": {},
   "source": [
    "From the Pillow module, how do you get the RGBA value of any images?\n",
    "\n",
    "---\n",
    "\n",
    "answers:\n",
    "\n",
    " we can use `imagecolor.getcolor()` method to get the RGBA value of any images."
   ]
  },
  {
   "cell_type": "code",
   "execution_count": null,
   "id": "ce2382ad",
   "metadata": {},
   "outputs": [],
   "source": []
  },
  {
   "cell_type": "markdown",
   "id": "d0c85c4f",
   "metadata": {},
   "source": [
    "# question no -3"
   ]
  },
  {
   "cell_type": "markdown",
   "id": "933ac3ee",
   "metadata": {},
   "source": [
    "What is a box tuple, and how does it work?\n",
    "\n",
    "---\n",
    "\n",
    "answers:\n",
    "\n",
    " Box tuples are tuple which contains four integer .The four interger representing x axis of top left edge,y axis of top left edge , width ,hight respectively"
   ]
  },
  {
   "cell_type": "code",
   "execution_count": null,
   "id": "15939c12",
   "metadata": {},
   "outputs": [],
   "source": []
  },
  {
   "cell_type": "markdown",
   "id": "e2acfa64",
   "metadata": {},
   "source": [
    "# question no -4"
   ]
  },
  {
   "cell_type": "markdown",
   "id": "4fc78339",
   "metadata": {},
   "source": [
    "Use your image and load in notebook then, How can you find out the width and height of an Image object?\n",
    "\n",
    "---\n",
    "\n",
    "answers:\n",
    "\n",
    "by using` width` and `height` method we can get the width and height"
   ]
  },
  {
   "cell_type": "code",
   "execution_count": 31,
   "id": "d81e6e67",
   "metadata": {
    "scrolled": true
   },
   "outputs": [
    {
     "name": "stdout",
     "output_type": "stream",
     "text": [
      "1080 3895\n"
     ]
    }
   ],
   "source": [
    "from PIL import Image\n",
    "image = Image.open('image.jpg')\n",
    "print(image.width,image.height)"
   ]
  },
  {
   "cell_type": "markdown",
   "id": "6e13c697",
   "metadata": {},
   "source": [
    "# question no -5"
   ]
  },
  {
   "cell_type": "markdown",
   "id": "f408a554",
   "metadata": {},
   "source": [
    "What method would you call to get Image object for a 100×100 image, excluding the lower-left quarter of it?\n",
    "\n",
    "---\n",
    "\n",
    "answers:\n",
    "\n",
    " we can use `image.crop()`"
   ]
  },
  {
   "cell_type": "code",
   "execution_count": 40,
   "id": "833d456c",
   "metadata": {},
   "outputs": [
    {
     "name": "stdout",
     "output_type": "stream",
     "text": [
      "<PIL.Image.Image image mode=RGB size=100x100 at 0x219B559CAF0>\n",
      "100 100\n"
     ]
    }
   ],
   "source": [
    "from PIL import Image\n",
    "img = Image.open('image.jpg')\n",
    "img1= image.crop((0,0,100,100))\n",
    "print(img1)\n",
    "print(img1.width,img1.height)\n"
   ]
  },
  {
   "cell_type": "markdown",
   "id": "3e4ed537",
   "metadata": {},
   "source": [
    "# question no -6"
   ]
  },
  {
   "cell_type": "markdown",
   "id": "5ad85700",
   "metadata": {},
   "source": [
    "After making changes to an Image object, how could you save it as an image file?\n",
    "\n",
    "---\n",
    "\n",
    "answers:\n",
    "\n",
    " we can use `save()` method to save the edited image file"
   ]
  },
  {
   "cell_type": "code",
   "execution_count": null,
   "id": "99cd4102",
   "metadata": {},
   "outputs": [],
   "source": [
    "from PIL import Image\n",
    "img = Image.open('image.jpg')\n",
    "img1= image.crop((0,0,100,100))\n",
    "print(img1)\n",
    "print(img1.width,img1.height)\n",
    "img1.save('img1.jpg')"
   ]
  },
  {
   "cell_type": "markdown",
   "id": "69f8a870",
   "metadata": {},
   "source": [
    "# question no -7"
   ]
  },
  {
   "cell_type": "markdown",
   "id": "f746d4c9",
   "metadata": {},
   "source": [
    "What module contains Pillow’s shape-drawing code?\n",
    "\n",
    "---\n",
    "\n",
    "answers:\n",
    "\n",
    " Pillow's `ImageDraw` methode is used to shape-drawing."
   ]
  },
  {
   "cell_type": "code",
   "execution_count": null,
   "id": "2e40cfff",
   "metadata": {},
   "outputs": [],
   "source": []
  },
  {
   "cell_type": "markdown",
   "id": "08103a65",
   "metadata": {},
   "source": [
    "# question no -8"
   ]
  },
  {
   "cell_type": "markdown",
   "id": "acff1334",
   "metadata": {},
   "source": [
    " Image objects do not have drawing methods. What kind of object does? How do you get this kind of object?\n",
    "\n",
    "---\n",
    "\n",
    "answers:\n",
    "\n",
    " ImageDraw objects have drawing methods like `line()` ,`rectangle()`,`elips()`,`point()`.we can get this object by using\n",
    " `ImageDraw.Draw()`"
   ]
  },
  {
   "cell_type": "code",
   "execution_count": 42,
   "id": "e7c0dfa0",
   "metadata": {},
   "outputs": [],
   "source": []
  }
 ],
 "metadata": {
  "kernelspec": {
   "display_name": "Python 3",
   "language": "python",
   "name": "python3"
  },
  "language_info": {
   "codemirror_mode": {
    "name": "ipython",
    "version": 3
   },
   "file_extension": ".py",
   "mimetype": "text/x-python",
   "name": "python",
   "nbconvert_exporter": "python",
   "pygments_lexer": "ipython3",
   "version": "3.8.8"
  }
 },
 "nbformat": 4,
 "nbformat_minor": 5
}
