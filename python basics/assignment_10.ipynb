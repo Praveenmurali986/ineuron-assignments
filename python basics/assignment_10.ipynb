{
 "cells": [
  {
   "cell_type": "markdown",
   "id": "3238c2d9",
   "metadata": {},
   "source": [
    "# question no -1"
   ]
  },
  {
   "cell_type": "markdown",
   "id": "b8d279e5",
   "metadata": {},
   "source": [
    " How do you distinguish between shutil.copy() and shutil.copytree()?¶\n",
    "\n",
    "---\n",
    "\n",
    "answers:\n",
    "\n",
    " `shutil.copy()` is a method which is used to copy the content of a file to another file/folder . it take argument as src and dest.src is the source of file which is to be copied and dest is the destination of file/folder to be copied.\n",
    " \n",
    "` shutil.coputree()` is a method used ot copy the entire folder .similar to shutil.copy() it takes src and dest as arguments.the important catch here is dest must not exist prior to this and it will be created during the copy operation."
   ]
  },
  {
   "cell_type": "code",
   "execution_count": null,
   "id": "1aee31ce",
   "metadata": {},
   "outputs": [],
   "source": []
  },
  {
   "cell_type": "markdown",
   "id": "c5a7a6ce",
   "metadata": {},
   "source": [
    "# question no -2"
   ]
  },
  {
   "cell_type": "markdown",
   "id": "dda8fcea",
   "metadata": {},
   "source": [
    "What function is used to rename files?\n",
    "\n",
    "---\n",
    "\n",
    "answers:\n",
    "\n",
    "`os.rename()` function is used to rename files or directories using a python program, this function takes two arguments src and dest, src represents the name file/directory which we want to rename, whereas dest represents the new name of the file/directory."
   ]
  },
  {
   "cell_type": "code",
   "execution_count": null,
   "id": "ce2382ad",
   "metadata": {},
   "outputs": [],
   "source": []
  },
  {
   "cell_type": "markdown",
   "id": "d0c85c4f",
   "metadata": {},
   "source": [
    "# question no -3"
   ]
  },
  {
   "cell_type": "markdown",
   "id": "933ac3ee",
   "metadata": {},
   "source": [
    "What is the difference between the delete functions in the send2trash and shutil modules?\n",
    "\n",
    "---\n",
    "\n",
    "answers:\n",
    "\n",
    " `shutil` module have a function `shutil.rmtree()` which enable us to delete a file .it is similar to os.remove(),which delete the file permenently and cannot recover the deleted file once it is deleted \n",
    " \n",
    " but in `send2trash` module provide us a function called `send2trash.send2trash()` function which dont delete the file permenently insted it moves the file to a trash folder . we can recover the file when ever we want"
   ]
  },
  {
   "cell_type": "markdown",
   "id": "e2acfa64",
   "metadata": {},
   "source": [
    "# question no -4"
   ]
  },
  {
   "cell_type": "markdown",
   "id": "4fc78339",
   "metadata": {},
   "source": [
    "ZipFile objects have a close() method just like File objects’ close() method. What ZipFile method is equivalent to File objects’ open() method?\n",
    "\n",
    "---\n",
    "\n",
    "answers:\n",
    "\n",
    " ZipFile Module provides a method called as `zipfile.ZipFile()` to read and write to zipFiles. it takes arugments like filename and mode etc `zipfile.ZipFile('filename', mode = 'r')`"
   ]
  },
  {
   "cell_type": "code",
   "execution_count": null,
   "id": "d81e6e67",
   "metadata": {},
   "outputs": [],
   "source": []
  },
  {
   "cell_type": "markdown",
   "id": "6e13c697",
   "metadata": {},
   "source": [
    "# question no -5"
   ]
  },
  {
   "cell_type": "markdown",
   "id": "f408a554",
   "metadata": {},
   "source": [
    " Create a programme that searches a folder tree for files with a certain file extension (such as .pdf or .jpg). Copy these files from whatever location they are in to a new folder\n",
    "\n",
    "---\n",
    "\n",
    "answers:\n",
    "\n",
    " "
   ]
  },
  {
   "cell_type": "code",
   "execution_count": 25,
   "id": "833d456c",
   "metadata": {},
   "outputs": [
    {
     "name": "stdout",
     "output_type": "stream",
     "text": [
      "Folder Name ➞ C:\\Users\\PRAVEEN\\,python\\.ipynb_checkpoints\n",
      "\n",
      "Sub Folders ➞ []\n",
      "\n",
      "Files ➞ ['assignment_15-checkpoint.ipynb', 'assignment_16-checkpoint.ipynb', 'assignment_21-checkpoint.ipynb', 'Assignment_4-checkpoint.ipynb', 'ineuron feb 19 (2)-checkpoint.ipynb', 'ineuron pandas class 2 feb 27-checkpoint.ipynb', 'mongodb class 1-checkpoint.ipynb', 'my  notebook on pandas feb 26-checkpoint.ipynb', 'my notebook of sql basic feb 5 -checkpoint.ipynb', 'my notebook on mongo db-checkpoint.ipynb', 'my notebook on mongo feb 19-checkpoint.ipynb', 'my notebook on numpy march 12-checkpoint.ipynb', 'my notebook on numpy march 13-checkpoint.ipynb', 'my notebook on pandas class 2 feb 27-checkpoint.ipynb', 'my notebook on pandas class 3 march 5-checkpoint.ipynb', 'my notebook on pandas class 4 march 6-checkpoint.ipynb', 'my notebook on pandas class 5 march 12-checkpoint.ipynb', 'my notebook on plotting class 2 march 27-checkpoint.ipynb', 'my notebook on plotting march 26-checkpoint.ipynb', 'my notebook on sql lite feb 20-checkpoint.ipynb', 'my notebook sql class 2 -checkpoint.ipynb', 'pandas class 3-checkpoint.ipynb', 'Pandas class feb 26-checkpoint.ipynb', 'SQL basic  feb 5-checkpoint.ipynb', 'sql day 2 -checkpoint.ipynb', 'SQLLITE ,map ,reduce ,filter,zip-checkpoint.ipynb']\n",
      "\n",
      "Files copied successfully from C:\\Users\\PRAVEEN\\,python\\.ipynb_checkpoints to D:\\copyhere\n"
     ]
    }
   ],
   "source": [
    "import os\n",
    "import shutil\n",
    "\n",
    "def CopyFile(src,dest,extensions):\n",
    "    src = os.path.abspath(src)\n",
    "    dest = os.path.abspath(dest)\n",
    "    for foldername, subfolder, filenames in os.walk(src):\n",
    "        print(f'Folder Name ➞ {foldername}',end='\\n\\n')\n",
    "        print(f'Sub Folders ➞ {subfolder}',end='\\n\\n')\n",
    "        print(f'Files ➞ {filenames}',end='\\n\\n')\n",
    "        for filename in filenames:\n",
    "            fileName,extension = os.path.splitext(filename)\n",
    "            if extension in extensions:\n",
    "                targetFile = foldername+os.path.sep+fileName+extension\n",
    "                shutil.copy(targetFile, dest)\n",
    "        print(f'Files copied successfully from {src} to {dest}')\n",
    "    \n",
    "extensions = ['.jpg','.ipynb','.png','.pdf']\n",
    "src = r'C:\\Users\\PRAVEEN\\,python\\.ipynb_checkpoints'\n",
    "dest = r'D:\\copyhere'\n",
    "CopyFile(src, dest, extensions)"
   ]
  },
  {
   "cell_type": "code",
   "execution_count": null,
   "id": "343c095d",
   "metadata": {},
   "outputs": [],
   "source": []
  }
 ],
 "metadata": {
  "kernelspec": {
   "display_name": "Python 3",
   "language": "python",
   "name": "python3"
  },
  "language_info": {
   "codemirror_mode": {
    "name": "ipython",
    "version": 3
   },
   "file_extension": ".py",
   "mimetype": "text/x-python",
   "name": "python",
   "nbconvert_exporter": "python",
   "pygments_lexer": "ipython3",
   "version": "3.8.8"
  }
 },
 "nbformat": 4,
 "nbformat_minor": 5
}
