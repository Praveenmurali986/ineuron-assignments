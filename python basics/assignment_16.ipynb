{
 "cells": [
  {
   "cell_type": "markdown",
   "id": "3238c2d9",
   "metadata": {
    "id": "3238c2d9"
   },
   "source": [
    "# question no -1"
   ]
  },
  {
   "cell_type": "markdown",
   "id": "b8d279e5",
   "metadata": {
    "id": "b8d279e5"
   },
   "source": [
    "Create a list called years_list, starting with the year of your birth, and each year thereafter until the year of your fifth birthday. For example, if you were born in 1980. the list would be years_list = [1980, 1981, 1982, 1983, 1984, 1985].\n",
    "\n",
    "---\n",
    "\n",
    "answers:"
   ]
  },
  {
   "cell_type": "code",
   "execution_count": 2,
   "id": "1aee31ce",
   "metadata": {
    "colab": {
     "base_uri": "https://localhost:8080/"
    },
    "executionInfo": {
     "elapsed": 792,
     "status": "ok",
     "timestamp": 1646877138937,
     "user": {
      "displayName": "praveen murali",
      "photoUrl": "https://lh3.googleusercontent.com/a-/AOh14GhXp0xgo3VHxR-P32YMPDYQwevsyQ4Kb1aM01KRPw=s64",
      "userId": "06155751173643335241"
     },
     "user_tz": -330
    },
    "id": "1aee31ce",
    "outputId": "f94ea4fc-5bde-408d-c127-c7aa71308d39"
   },
   "outputs": [
    {
     "data": {
      "text/plain": [
       "[1999, 2000, 2001, 2002, 2003, 2004]"
      ]
     },
     "execution_count": 2,
     "metadata": {},
     "output_type": "execute_result"
    }
   ],
   "source": [
    "years_list=[i for i in range(1999,2005)]\n",
    "years_list"
   ]
  },
  {
   "cell_type": "markdown",
   "id": "c5a7a6ce",
   "metadata": {
    "id": "c5a7a6ce"
   },
   "source": [
    "# question no -2"
   ]
  },
  {
   "cell_type": "markdown",
   "id": "dda8fcea",
   "metadata": {
    "id": "dda8fcea"
   },
   "source": [
    "In which year in years_list was your third birthday? Remember, you were 0 years of age for your first year.\n",
    "\n",
    "---\n",
    "\n",
    "answers:"
   ]
  },
  {
   "cell_type": "code",
   "execution_count": 3,
   "id": "ce2382ad",
   "metadata": {
    "colab": {
     "base_uri": "https://localhost:8080/"
    },
    "executionInfo": {
     "elapsed": 428,
     "status": "ok",
     "timestamp": 1646877255759,
     "user": {
      "displayName": "praveen murali",
      "photoUrl": "https://lh3.googleusercontent.com/a-/AOh14GhXp0xgo3VHxR-P32YMPDYQwevsyQ4Kb1aM01KRPw=s64",
      "userId": "06155751173643335241"
     },
     "user_tz": -330
    },
    "id": "ce2382ad",
    "outputId": "55d4bff6-09e9-4058-fca6-57442a6661a7"
   },
   "outputs": [
    {
     "data": {
      "text/plain": [
       "2002"
      ]
     },
     "execution_count": 3,
     "metadata": {},
     "output_type": "execute_result"
    }
   ],
   "source": [
    "years_list[3]"
   ]
  },
  {
   "cell_type": "markdown",
   "id": "d0c85c4f",
   "metadata": {
    "id": "d0c85c4f"
   },
   "source": [
    "# question no -3"
   ]
  },
  {
   "cell_type": "markdown",
   "id": "933ac3ee",
   "metadata": {
    "id": "933ac3ee"
   },
   "source": [
    "In the years list, which year were you the oldest?\n",
    "\n",
    "---\n",
    "\n",
    "answers:"
   ]
  },
  {
   "cell_type": "code",
   "execution_count": 4,
   "id": "15939c12",
   "metadata": {
    "colab": {
     "base_uri": "https://localhost:8080/"
    },
    "executionInfo": {
     "elapsed": 475,
     "status": "ok",
     "timestamp": 1646877318704,
     "user": {
      "displayName": "praveen murali",
      "photoUrl": "https://lh3.googleusercontent.com/a-/AOh14GhXp0xgo3VHxR-P32YMPDYQwevsyQ4Kb1aM01KRPw=s64",
      "userId": "06155751173643335241"
     },
     "user_tz": -330
    },
    "id": "15939c12",
    "outputId": "ac887991-3cd2-47a9-c9f4-e4178a792d00"
   },
   "outputs": [
    {
     "data": {
      "text/plain": [
       "2004"
      ]
     },
     "execution_count": 4,
     "metadata": {},
     "output_type": "execute_result"
    }
   ],
   "source": [
    "years_list[-1]"
   ]
  },
  {
   "cell_type": "markdown",
   "id": "e2acfa64",
   "metadata": {
    "id": "e2acfa64"
   },
   "source": [
    "# question no -4"
   ]
  },
  {
   "cell_type": "markdown",
   "id": "4fc78339",
   "metadata": {
    "id": "4fc78339"
   },
   "source": [
    "Make a list called things with these three strings as elements: \"mozzarella\", \"cinderella\", \"salmonella\".\n",
    "\n",
    "---\n",
    "\n",
    "answers:"
   ]
  },
  {
   "cell_type": "code",
   "execution_count": 6,
   "id": "d81e6e67",
   "metadata": {
    "colab": {
     "base_uri": "https://localhost:8080/"
    },
    "executionInfo": {
     "elapsed": 10,
     "status": "ok",
     "timestamp": 1646877421270,
     "user": {
      "displayName": "praveen murali",
      "photoUrl": "https://lh3.googleusercontent.com/a-/AOh14GhXp0xgo3VHxR-P32YMPDYQwevsyQ4Kb1aM01KRPw=s64",
      "userId": "06155751173643335241"
     },
     "user_tz": -330
    },
    "id": "d81e6e67",
    "outputId": "45e113e5-9fa5-485b-8395-a005452ed04b"
   },
   "outputs": [
    {
     "data": {
      "text/plain": [
       "['mozzarella', 'cinderella', 'salmonella']"
      ]
     },
     "execution_count": 6,
     "metadata": {},
     "output_type": "execute_result"
    }
   ],
   "source": [
    "things=['mozzarella', 'cinderella', 'salmonella']\n",
    "things"
   ]
  },
  {
   "cell_type": "markdown",
   "id": "6e13c697",
   "metadata": {
    "id": "6e13c697"
   },
   "source": [
    "# question no -5"
   ]
  },
  {
   "cell_type": "markdown",
   "id": "f408a554",
   "metadata": {
    "id": "f408a554"
   },
   "source": [
    "Capitalize the element in things that refers to a person and then print the list. Did it change the element in the list?\n",
    "\n",
    "---\n",
    "\n",
    "answers:"
   ]
  },
  {
   "cell_type": "code",
   "execution_count": 7,
   "id": "833d456c",
   "metadata": {
    "colab": {
     "base_uri": "https://localhost:8080/"
    },
    "executionInfo": {
     "elapsed": 620,
     "status": "ok",
     "timestamp": 1646877630008,
     "user": {
      "displayName": "praveen murali",
      "photoUrl": "https://lh3.googleusercontent.com/a-/AOh14GhXp0xgo3VHxR-P32YMPDYQwevsyQ4Kb1aM01KRPw=s64",
      "userId": "06155751173643335241"
     },
     "user_tz": -330
    },
    "id": "833d456c",
    "outputId": "dbedf83c-6de5-4d22-d58e-b7256057dad8"
   },
   "outputs": [
    {
     "data": {
      "text/plain": [
       "['mozzarella', 'Cinderella', 'salmonella']"
      ]
     },
     "execution_count": 7,
     "metadata": {},
     "output_type": "execute_result"
    }
   ],
   "source": [
    "for i in range(len(things)):\n",
    "    if things[i] == 'cinderella':\n",
    "        things[i] = things[i].capitalize()\n",
    "things"
   ]
  },
  {
   "cell_type": "markdown",
   "id": "3e4ed537",
   "metadata": {
    "id": "3e4ed537"
   },
   "source": [
    "# question no -6"
   ]
  },
  {
   "cell_type": "markdown",
   "id": "5ad85700",
   "metadata": {
    "id": "5ad85700"
   },
   "source": [
    "Make a surprise list with the elements \"Groucho,\" \"Chico,\" and \"Harpo.\"\n",
    "\n",
    "---\n",
    "\n",
    "answers:"
   ]
  },
  {
   "cell_type": "code",
   "execution_count": 11,
   "id": "99cd4102",
   "metadata": {
    "colab": {
     "base_uri": "https://localhost:8080/"
    },
    "executionInfo": {
     "elapsed": 1147,
     "status": "ok",
     "timestamp": 1646877990020,
     "user": {
      "displayName": "praveen murali",
      "photoUrl": "https://lh3.googleusercontent.com/a-/AOh14GhXp0xgo3VHxR-P32YMPDYQwevsyQ4Kb1aM01KRPw=s64",
      "userId": "06155751173643335241"
     },
     "user_tz": -330
    },
    "id": "99cd4102",
    "outputId": "7f9599c9-df84-4aa9-ed91-c5a8f3c19f6d"
   },
   "outputs": [
    {
     "data": {
      "text/plain": [
       "['Groucho', 'Chico', 'Harpo']"
      ]
     },
     "execution_count": 11,
     "metadata": {},
     "output_type": "execute_result"
    }
   ],
   "source": [
    "surprise_list = ['Groucho','Chico','Harpo']\n",
    "surprise_list"
   ]
  },
  {
   "cell_type": "markdown",
   "id": "69f8a870",
   "metadata": {
    "id": "69f8a870"
   },
   "source": [
    "# question no -7"
   ]
  },
  {
   "cell_type": "markdown",
   "id": "f746d4c9",
   "metadata": {
    "id": "f746d4c9"
   },
   "source": [
    "Lowercase the last element of the surprise list, reverse it, and then capitalize it.\n",
    "\n",
    "---\n",
    "\n",
    "answers:"
   ]
  },
  {
   "cell_type": "code",
   "execution_count": 13,
   "id": "2e40cfff",
   "metadata": {
    "colab": {
     "base_uri": "https://localhost:8080/",
     "height": 35
    },
    "executionInfo": {
     "elapsed": 595,
     "status": "ok",
     "timestamp": 1646878007253,
     "user": {
      "displayName": "praveen murali",
      "photoUrl": "https://lh3.googleusercontent.com/a-/AOh14GhXp0xgo3VHxR-P32YMPDYQwevsyQ4Kb1aM01KRPw=s64",
      "userId": "06155751173643335241"
     },
     "user_tz": -330
    },
    "id": "2e40cfff",
    "outputId": "109ca75a-fd55-40fe-b16c-eb085481a225"
   },
   "outputs": [
    {
     "data": {
      "application/vnd.google.colaboratory.intrinsic+json": {
       "type": "string"
      },
      "text/plain": [
       "'Oprah'"
      ]
     },
     "execution_count": 13,
     "metadata": {},
     "output_type": "execute_result"
    }
   ],
   "source": [
    "surprise_list[-1].lower()[::-1].capitalize()"
   ]
  },
  {
   "cell_type": "markdown",
   "id": "08103a65",
   "metadata": {
    "id": "08103a65"
   },
   "source": [
    "# question no -8"
   ]
  },
  {
   "cell_type": "markdown",
   "id": "acff1334",
   "metadata": {
    "id": "acff1334"
   },
   "source": [
    "Make an English-to-French dictionary called e2f and print it. Here are your starter words: dog is chien, cat is chat, and walrus is morse.\n",
    "\n",
    "---\n",
    "\n",
    "answers:"
   ]
  },
  {
   "cell_type": "code",
   "execution_count": 15,
   "id": "e7c0dfa0",
   "metadata": {
    "colab": {
     "base_uri": "https://localhost:8080/"
    },
    "executionInfo": {
     "elapsed": 439,
     "status": "ok",
     "timestamp": 1646878130644,
     "user": {
      "displayName": "praveen murali",
      "photoUrl": "https://lh3.googleusercontent.com/a-/AOh14GhXp0xgo3VHxR-P32YMPDYQwevsyQ4Kb1aM01KRPw=s64",
      "userId": "06155751173643335241"
     },
     "user_tz": -330
    },
    "id": "e7c0dfa0",
    "outputId": "bbe4192f-857a-4044-da71-128dbbe2fd1a"
   },
   "outputs": [
    {
     "data": {
      "text/plain": [
       "{'cat': 'chat', 'dog': 'chien', 'walrus': 'morse'}"
      ]
     },
     "execution_count": 15,
     "metadata": {},
     "output_type": "execute_result"
    }
   ],
   "source": [
    "e2f = {'dog':'chien','cat':'chat','walrus':'morse'}\n",
    "e2f"
   ]
  },
  {
   "cell_type": "markdown",
   "id": "3224ef8c",
   "metadata": {
    "id": "3224ef8c"
   },
   "source": [
    "# question no -9"
   ]
  },
  {
   "cell_type": "markdown",
   "id": "c4c43ca4",
   "metadata": {
    "id": "c4c43ca4"
   },
   "source": [
    "Write the French word for walrus in your three-word dictionary e2f\n",
    "\n",
    "---\n",
    "\n",
    "answers:"
   ]
  },
  {
   "cell_type": "code",
   "execution_count": 18,
   "id": "28673946",
   "metadata": {
    "colab": {
     "base_uri": "https://localhost:8080/",
     "height": 35
    },
    "executionInfo": {
     "elapsed": 450,
     "status": "ok",
     "timestamp": 1646878337397,
     "user": {
      "displayName": "praveen murali",
      "photoUrl": "https://lh3.googleusercontent.com/a-/AOh14GhXp0xgo3VHxR-P32YMPDYQwevsyQ4Kb1aM01KRPw=s64",
      "userId": "06155751173643335241"
     },
     "user_tz": -330
    },
    "id": "28673946",
    "outputId": "1a03a8ec-47c9-403f-cf02-206d1b2ef69f"
   },
   "outputs": [
    {
     "data": {
      "application/vnd.google.colaboratory.intrinsic+json": {
       "type": "string"
      },
      "text/plain": [
       "'morse'"
      ]
     },
     "execution_count": 18,
     "metadata": {},
     "output_type": "execute_result"
    }
   ],
   "source": [
    "e2f['walrus']"
   ]
  },
  {
   "cell_type": "markdown",
   "id": "4d95c606",
   "metadata": {
    "id": "4d95c606"
   },
   "source": [
    "# question no -10"
   ]
  },
  {
   "cell_type": "markdown",
   "id": "ceef86ff",
   "metadata": {
    "id": "ceef86ff"
   },
   "source": [
    "Make a French-to-English dictionary called f2e from e2f. Use the items method.\n",
    "\n",
    "---\n",
    "\n",
    "answers:"
   ]
  },
  {
   "cell_type": "code",
   "execution_count": 19,
   "id": "8045c449",
   "metadata": {
    "colab": {
     "base_uri": "https://localhost:8080/"
    },
    "executionInfo": {
     "elapsed": 624,
     "status": "ok",
     "timestamp": 1646878462134,
     "user": {
      "displayName": "praveen murali",
      "photoUrl": "https://lh3.googleusercontent.com/a-/AOh14GhXp0xgo3VHxR-P32YMPDYQwevsyQ4Kb1aM01KRPw=s64",
      "userId": "06155751173643335241"
     },
     "user_tz": -330
    },
    "id": "8045c449",
    "outputId": "df70c65c-022f-4033-b0a3-1ce8626cfa99"
   },
   "outputs": [
    {
     "data": {
      "text/plain": [
       "{'chat': 'cat', 'chien': 'dog', 'morse': 'walrus'}"
      ]
     },
     "execution_count": 19,
     "metadata": {},
     "output_type": "execute_result"
    }
   ],
   "source": [
    "f2e = dict([i[::-1] for i in e2f.items()])\n",
    "f2e"
   ]
  },
  {
   "cell_type": "markdown",
   "id": "1c1b4d73",
   "metadata": {
    "id": "1c1b4d73"
   },
   "source": [
    "# question no -11"
   ]
  },
  {
   "cell_type": "markdown",
   "id": "6a6e321f",
   "metadata": {
    "id": "6a6e321f"
   },
   "source": [
    " Print the English version of the French word chien using f2e.\n",
    "\n",
    "\n",
    "---\n",
    "\n",
    "answers:"
   ]
  },
  {
   "cell_type": "code",
   "execution_count": 21,
   "id": "2de896c8",
   "metadata": {
    "colab": {
     "base_uri": "https://localhost:8080/"
    },
    "executionInfo": {
     "elapsed": 625,
     "status": "ok",
     "timestamp": 1646878615055,
     "user": {
      "displayName": "praveen murali",
      "photoUrl": "https://lh3.googleusercontent.com/a-/AOh14GhXp0xgo3VHxR-P32YMPDYQwevsyQ4Kb1aM01KRPw=s64",
      "userId": "06155751173643335241"
     },
     "user_tz": -330
    },
    "id": "2de896c8",
    "outputId": "9eabf3ef-f076-420a-e9e9-4e52ff07e15f"
   },
   "outputs": [
    {
     "name": "stdout",
     "output_type": "stream",
     "text": [
      "dog\n"
     ]
    }
   ],
   "source": [
    "print(f2e.get('chien'))"
   ]
  },
  {
   "cell_type": "markdown",
   "id": "16d90d7e",
   "metadata": {
    "id": "16d90d7e"
   },
   "source": [
    "# question no -12"
   ]
  },
  {
   "cell_type": "markdown",
   "id": "27928c87",
   "metadata": {
    "id": "27928c87"
   },
   "source": [
    "Make and print a set of English words from the keys in e2f.\n",
    "\n",
    "---\n",
    "\n",
    "answers:"
   ]
  },
  {
   "cell_type": "code",
   "execution_count": 22,
   "id": "7dae42b4",
   "metadata": {
    "colab": {
     "base_uri": "https://localhost:8080/"
    },
    "executionInfo": {
     "elapsed": 456,
     "status": "ok",
     "timestamp": 1646878671693,
     "user": {
      "displayName": "praveen murali",
      "photoUrl": "https://lh3.googleusercontent.com/a-/AOh14GhXp0xgo3VHxR-P32YMPDYQwevsyQ4Kb1aM01KRPw=s64",
      "userId": "06155751173643335241"
     },
     "user_tz": -330
    },
    "id": "7dae42b4",
    "outputId": "16c03b10-de88-44be-9219-30fcf5f15c66"
   },
   "outputs": [
    {
     "name": "stdout",
     "output_type": "stream",
     "text": [
      "['dog', 'cat', 'walrus']\n"
     ]
    }
   ],
   "source": [
    "print(list(e2f.keys()))"
   ]
  },
  {
   "cell_type": "markdown",
   "id": "024a8f01",
   "metadata": {
    "id": "024a8f01"
   },
   "source": [
    "# question no -13"
   ]
  },
  {
   "cell_type": "markdown",
   "id": "db3fd545",
   "metadata": {
    "id": "db3fd545"
   },
   "source": [
    "Make a multilevel dictionary called life. Use these strings for the topmost keys: 'animals', 'plants', and 'other'. Make the 'animals' key refer to another dictionary with the keys 'cats', 'octopi', and 'emus'. Make the 'cats' key refer to a list of strings with the values 'Henri', 'Grumpy', and 'Lucy'. Make all the other keys refer to empty dictionaries.\n",
    "\n",
    "---\n",
    "\n",
    "answers:"
   ]
  },
  {
   "cell_type": "code",
   "execution_count": 24,
   "id": "945a3325",
   "metadata": {
    "colab": {
     "base_uri": "https://localhost:8080/"
    },
    "executionInfo": {
     "elapsed": 680,
     "status": "ok",
     "timestamp": 1646878992473,
     "user": {
      "displayName": "praveen murali",
      "photoUrl": "https://lh3.googleusercontent.com/a-/AOh14GhXp0xgo3VHxR-P32YMPDYQwevsyQ4Kb1aM01KRPw=s64",
      "userId": "06155751173643335241"
     },
     "user_tz": -330
    },
    "id": "945a3325",
    "outputId": "5f29928d-a394-4d66-ee88-2025365115a0"
   },
   "outputs": [
    {
     "data": {
      "text/plain": [
       "{'animals': {'cats': ['Henri', 'Grumpy', 'Lucy'], 'emus': {}, 'octopi': {}},\n",
       " 'other': {},\n",
       " 'plants': {}}"
      ]
     },
     "execution_count": 24,
     "metadata": {},
     "output_type": "execute_result"
    }
   ],
   "source": [
    "life = {\n",
    "    'animals':{\n",
    "        'cats':['Henri','Grumpy','Lucy'],\n",
    "        'octopi':{},\n",
    "        'emus':{}\n",
    "    },\n",
    "    'plants':{},\n",
    "    'other':{}\n",
    "}\n",
    "life"
   ]
  },
  {
   "cell_type": "markdown",
   "id": "46c1c509",
   "metadata": {
    "id": "46c1c509"
   },
   "source": [
    "# question no -14"
   ]
  },
  {
   "cell_type": "markdown",
   "id": "a840863c",
   "metadata": {
    "id": "a840863c"
   },
   "source": [
    "Print the top-level keys of life.\n",
    "\n",
    "---\n",
    "\n",
    "answers:"
   ]
  },
  {
   "cell_type": "code",
   "execution_count": 25,
   "id": "3daaa097",
   "metadata": {
    "colab": {
     "base_uri": "https://localhost:8080/"
    },
    "executionInfo": {
     "elapsed": 932,
     "status": "ok",
     "timestamp": 1646879075225,
     "user": {
      "displayName": "praveen murali",
      "photoUrl": "https://lh3.googleusercontent.com/a-/AOh14GhXp0xgo3VHxR-P32YMPDYQwevsyQ4Kb1aM01KRPw=s64",
      "userId": "06155751173643335241"
     },
     "user_tz": -330
    },
    "id": "3daaa097",
    "outputId": "c5740e8d-8a67-4986-9ba9-c1491842044b"
   },
   "outputs": [
    {
     "name": "stdout",
     "output_type": "stream",
     "text": [
      "['animals', 'plants', 'other']\n"
     ]
    }
   ],
   "source": [
    "print(list(life.keys()))"
   ]
  },
  {
   "cell_type": "markdown",
   "id": "25fd9779",
   "metadata": {
    "id": "25fd9779"
   },
   "source": [
    "# question no -15"
   ]
  },
  {
   "cell_type": "markdown",
   "id": "e968374f",
   "metadata": {
    "id": "e968374f"
   },
   "source": [
    " Print the keys for life['animals'].\n",
    "\n",
    "---\n",
    "\n",
    "answers:"
   ]
  },
  {
   "cell_type": "code",
   "execution_count": 26,
   "id": "5952646c",
   "metadata": {
    "colab": {
     "base_uri": "https://localhost:8080/"
    },
    "executionInfo": {
     "elapsed": 404,
     "status": "ok",
     "timestamp": 1646879286030,
     "user": {
      "displayName": "praveen murali",
      "photoUrl": "https://lh3.googleusercontent.com/a-/AOh14GhXp0xgo3VHxR-P32YMPDYQwevsyQ4Kb1aM01KRPw=s64",
      "userId": "06155751173643335241"
     },
     "user_tz": -330
    },
    "id": "5952646c",
    "outputId": "b4ac23a9-f5f6-4066-db76-94817291ffb4"
   },
   "outputs": [
    {
     "name": "stdout",
     "output_type": "stream",
     "text": [
      "['cats', 'octopi', 'emus']\n"
     ]
    }
   ],
   "source": [
    "print(list(life['animals'].keys()))"
   ]
  },
  {
   "cell_type": "markdown",
   "id": "3ced341a",
   "metadata": {
    "id": "3ced341a"
   },
   "source": [
    "# question no -16"
   ]
  },
  {
   "cell_type": "markdown",
   "id": "d1b38f68",
   "metadata": {
    "id": "d1b38f68"
   },
   "source": [
    "Print the values for life['animals']['cats']\n",
    "\n",
    "---\n",
    "\n",
    "answers:"
   ]
  },
  {
   "cell_type": "code",
   "execution_count": 27,
   "id": "5284fe22",
   "metadata": {
    "colab": {
     "base_uri": "https://localhost:8080/"
    },
    "executionInfo": {
     "elapsed": 33,
     "status": "ok",
     "timestamp": 1646879295870,
     "user": {
      "displayName": "praveen murali",
      "photoUrl": "https://lh3.googleusercontent.com/a-/AOh14GhXp0xgo3VHxR-P32YMPDYQwevsyQ4Kb1aM01KRPw=s64",
      "userId": "06155751173643335241"
     },
     "user_tz": -330
    },
    "id": "5284fe22",
    "outputId": "7234062f-5587-4af8-fc06-ca277e2187ce"
   },
   "outputs": [
    {
     "name": "stdout",
     "output_type": "stream",
     "text": [
      "['Henri', 'Grumpy', 'Lucy']\n"
     ]
    }
   ],
   "source": [
    "print(life['animals']['cats'])"
   ]
  }
 ],
 "metadata": {
  "colab": {
   "collapsed_sections": [],
   "name": "Copy of assignment.ipynb",
   "provenance": [
    {
     "file_id": "1ZJf5300-122u99w_hHpfySc_QViyAuXF",
     "timestamp": 1646879391168
    }
   ]
  },
  "kernelspec": {
   "display_name": "Python 3",
   "language": "python",
   "name": "python3"
  },
  "language_info": {
   "codemirror_mode": {
    "name": "ipython",
    "version": 3
   },
   "file_extension": ".py",
   "mimetype": "text/x-python",
   "name": "python",
   "nbconvert_exporter": "python",
   "pygments_lexer": "ipython3",
   "version": "3.8.8"
  }
 },
 "nbformat": 4,
 "nbformat_minor": 5
}
