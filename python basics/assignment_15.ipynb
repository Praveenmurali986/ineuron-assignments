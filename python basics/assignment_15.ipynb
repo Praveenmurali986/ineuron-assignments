{
 "cells": [
  {
   "cell_type": "markdown",
   "id": "3238c2d9",
   "metadata": {
    "id": "3238c2d9"
   },
   "source": [
    "# question no -1"
   ]
  },
  {
   "cell_type": "markdown",
   "id": "b8d279e5",
   "metadata": {
    "id": "b8d279e5"
   },
   "source": [
    "How many seconds are in an hour? Use the interactive interpreter as a calculator and multiply the number of seconds in a minute (60) by the number of minutes in an hour (also 60).\n",
    "\n",
    "---\n",
    "\n",
    "answers:"
   ]
  },
  {
   "cell_type": "code",
   "execution_count": null,
   "id": "1aee31ce",
   "metadata": {
    "colab": {
     "base_uri": "https://localhost:8080/"
    },
    "executionInfo": {
     "elapsed": 14,
     "status": "ok",
     "timestamp": 1646792000095,
     "user": {
      "displayName": "praveen murali",
      "photoUrl": "https://lh3.googleusercontent.com/a-/AOh14GhXp0xgo3VHxR-P32YMPDYQwevsyQ4Kb1aM01KRPw=s64",
      "userId": "06155751173643335241"
     },
     "user_tz": -330
    },
    "id": "1aee31ce",
    "outputId": "b230c0a2-5c4e-47e9-b9ae-99fa7234b221"
   },
   "outputs": [
    {
     "name": "stdout",
     "output_type": "stream",
     "text": [
      "3600\n"
     ]
    }
   ],
   "source": [
    "print(60*60)"
   ]
  },
  {
   "cell_type": "markdown",
   "id": "c5a7a6ce",
   "metadata": {
    "id": "c5a7a6ce"
   },
   "source": [
    "# question no -2"
   ]
  },
  {
   "cell_type": "markdown",
   "id": "dda8fcea",
   "metadata": {
    "id": "dda8fcea"
   },
   "source": [
    "Assign the result from the previous task (seconds in an hour) to a variable called seconds_per_hour.\n",
    "\n",
    "---\n",
    "\n",
    "answers:"
   ]
  },
  {
   "cell_type": "code",
   "execution_count": null,
   "id": "ce2382ad",
   "metadata": {
    "colab": {
     "base_uri": "https://localhost:8080/"
    },
    "executionInfo": {
     "elapsed": 617,
     "status": "ok",
     "timestamp": 1646792056727,
     "user": {
      "displayName": "praveen murali",
      "photoUrl": "https://lh3.googleusercontent.com/a-/AOh14GhXp0xgo3VHxR-P32YMPDYQwevsyQ4Kb1aM01KRPw=s64",
      "userId": "06155751173643335241"
     },
     "user_tz": -330
    },
    "id": "ce2382ad",
    "outputId": "8bae002a-4f57-412e-c0b2-7ddeb3f30610"
   },
   "outputs": [
    {
     "name": "stdout",
     "output_type": "stream",
     "text": [
      "3600\n"
     ]
    }
   ],
   "source": [
    "seconds_per_hour = 60*60\n",
    "print(seconds_per_hour)"
   ]
  },
  {
   "cell_type": "markdown",
   "id": "d0c85c4f",
   "metadata": {
    "id": "d0c85c4f"
   },
   "source": [
    "# question no -3"
   ]
  },
  {
   "cell_type": "markdown",
   "id": "933ac3ee",
   "metadata": {
    "id": "933ac3ee"
   },
   "source": [
    "How many seconds do you think there are in a day? Make use of the variables seconds per hour and minutes per hour.\n",
    "\n",
    "---\n",
    "\n",
    "answers:"
   ]
  },
  {
   "cell_type": "code",
   "execution_count": null,
   "id": "15939c12",
   "metadata": {
    "colab": {
     "base_uri": "https://localhost:8080/"
    },
    "executionInfo": {
     "elapsed": 751,
     "status": "ok",
     "timestamp": 1646792380275,
     "user": {
      "displayName": "praveen murali",
      "photoUrl": "https://lh3.googleusercontent.com/a-/AOh14GhXp0xgo3VHxR-P32YMPDYQwevsyQ4Kb1aM01KRPw=s64",
      "userId": "06155751173643335241"
     },
     "user_tz": -330
    },
    "id": "15939c12",
    "outputId": "12b65e4d-346d-4743-ddef-41a63f173443"
   },
   "outputs": [
    {
     "name": "stdout",
     "output_type": "stream",
     "text": [
      "86400\n",
      "86400\n"
     ]
    }
   ],
   "source": [
    "minutes_per_hour = 60\n",
    "print(seconds_per_hour*24)\n",
    "print(minutes_per_hour*24*60)"
   ]
  },
  {
   "cell_type": "markdown",
   "id": "e2acfa64",
   "metadata": {
    "id": "e2acfa64"
   },
   "source": [
    "# question no -4"
   ]
  },
  {
   "cell_type": "markdown",
   "id": "4fc78339",
   "metadata": {
    "id": "4fc78339"
   },
   "source": [
    "Calculate seconds per day again, but this time save the result in a variable called seconds_per_day\n",
    "\n",
    "---\n",
    "\n",
    "answers:"
   ]
  },
  {
   "cell_type": "code",
   "execution_count": null,
   "id": "d81e6e67",
   "metadata": {
    "colab": {
     "base_uri": "https://localhost:8080/"
    },
    "executionInfo": {
     "elapsed": 556,
     "status": "ok",
     "timestamp": 1646792518620,
     "user": {
      "displayName": "praveen murali",
      "photoUrl": "https://lh3.googleusercontent.com/a-/AOh14GhXp0xgo3VHxR-P32YMPDYQwevsyQ4Kb1aM01KRPw=s64",
      "userId": "06155751173643335241"
     },
     "user_tz": -330
    },
    "id": "d81e6e67",
    "outputId": "93b08285-b869-4f7a-cd65-5655a3a8b1b8"
   },
   "outputs": [
    {
     "name": "stdout",
     "output_type": "stream",
     "text": [
      "86400\n"
     ]
    }
   ],
   "source": [
    "seconds_per_day=seconds_per_hour*24\n",
    "print(seconds_per_day)"
   ]
  },
  {
   "cell_type": "markdown",
   "id": "6e13c697",
   "metadata": {
    "id": "6e13c697"
   },
   "source": [
    "# question no -5"
   ]
  },
  {
   "cell_type": "markdown",
   "id": "f408a554",
   "metadata": {
    "id": "f408a554"
   },
   "source": [
    "Divide seconds_per_day by seconds_per_hour. Use floating-point (/) division.\n",
    "\n",
    "---\n",
    "\n",
    "answers:"
   ]
  },
  {
   "cell_type": "code",
   "execution_count": null,
   "id": "833d456c",
   "metadata": {
    "colab": {
     "base_uri": "https://localhost:8080/"
    },
    "executionInfo": {
     "elapsed": 555,
     "status": "ok",
     "timestamp": 1646792581297,
     "user": {
      "displayName": "praveen murali",
      "photoUrl": "https://lh3.googleusercontent.com/a-/AOh14GhXp0xgo3VHxR-P32YMPDYQwevsyQ4Kb1aM01KRPw=s64",
      "userId": "06155751173643335241"
     },
     "user_tz": -330
    },
    "id": "833d456c",
    "outputId": "b4c8f412-0584-48d2-bbc2-55cf78f05758"
   },
   "outputs": [
    {
     "name": "stdout",
     "output_type": "stream",
     "text": [
      "24.0\n"
     ]
    }
   ],
   "source": [
    "print(seconds_per_day/seconds_per_hour)"
   ]
  },
  {
   "cell_type": "markdown",
   "id": "3e4ed537",
   "metadata": {
    "id": "3e4ed537"
   },
   "source": [
    "# question no -6"
   ]
  },
  {
   "cell_type": "markdown",
   "id": "5ad85700",
   "metadata": {
    "id": "5ad85700"
   },
   "source": [
    "Divide seconds_per_day by seconds_per_hour, using integer (//) division. Did this number agree with the floating-point value from the previous question, aside from the final .0?\n",
    "\n",
    "---\n",
    "\n",
    "answers:\n",
    "\n",
    "yes this values agree with the floating point value from the previous question"
   ]
  },
  {
   "cell_type": "code",
   "execution_count": null,
   "id": "99cd4102",
   "metadata": {
    "colab": {
     "base_uri": "https://localhost:8080/"
    },
    "executionInfo": {
     "elapsed": 660,
     "status": "ok",
     "timestamp": 1646792844044,
     "user": {
      "displayName": "praveen murali",
      "photoUrl": "https://lh3.googleusercontent.com/a-/AOh14GhXp0xgo3VHxR-P32YMPDYQwevsyQ4Kb1aM01KRPw=s64",
      "userId": "06155751173643335241"
     },
     "user_tz": -330
    },
    "id": "99cd4102",
    "outputId": "2b26791a-3974-402b-9400-820bc86f294b"
   },
   "outputs": [
    {
     "name": "stdout",
     "output_type": "stream",
     "text": [
      "24\n"
     ]
    }
   ],
   "source": [
    "print(seconds_per_day//seconds_per_hour)"
   ]
  },
  {
   "cell_type": "markdown",
   "id": "69f8a870",
   "metadata": {
    "id": "69f8a870"
   },
   "source": [
    "# question no -7"
   ]
  },
  {
   "cell_type": "markdown",
   "id": "f746d4c9",
   "metadata": {
    "id": "f746d4c9"
   },
   "source": [
    "Write a generator, genPrimes, that returns the sequence of prime numbers on successive calls to its next() method: 2, 3, 5, 7, 11, ...\n",
    "\n",
    "---\n",
    "\n",
    "answers:"
   ]
  },
  {
   "cell_type": "code",
   "execution_count": null,
   "id": "2e40cfff",
   "metadata": {
    "colab": {
     "base_uri": "https://localhost:8080/"
    },
    "executionInfo": {
     "elapsed": 972,
     "status": "ok",
     "timestamp": 1646793298999,
     "user": {
      "displayName": "praveen murali",
      "photoUrl": "https://lh3.googleusercontent.com/a-/AOh14GhXp0xgo3VHxR-P32YMPDYQwevsyQ4Kb1aM01KRPw=s64",
      "userId": "06155751173643335241"
     },
     "user_tz": -330
    },
    "id": "2e40cfff",
    "outputId": "6461fac5-5e9b-48a1-96ce-eee5d1b84232"
   },
   "outputs": [
    {
     "name": "stdout",
     "output_type": "stream",
     "text": [
      "2\n",
      "3\n",
      "5\n",
      "7\n",
      "11\n"
     ]
    }
   ],
   "source": [
    "def genPrimes():\n",
    "    n = 0\n",
    "    while True:\n",
    "        if n == 2 or n == 3 :\n",
    "            yield n\n",
    "        elif ((n-1)%6 == 0 or (n+1)%6 == 0) and n !=1:\n",
    "            yield n\n",
    "        n = n+1\n",
    "\n",
    "gen_out= genPrimes()\n",
    "for i in range(5):\n",
    "    print(next(gen_out))"
   ]
  }
 ],
 "metadata": {
  "colab": {
   "collapsed_sections": [],
   "name": "assignment_15.ipynb",
   "provenance": [
    {
     "file_id": "1_FMxradwEHxYMg0bVwvcEsj1kLsYiJE9",
     "timestamp": 1646793449959
    }
   ]
  },
  "kernelspec": {
   "display_name": "Python 3",
   "language": "python",
   "name": "python3"
  },
  "language_info": {
   "codemirror_mode": {
    "name": "ipython",
    "version": 3
   },
   "file_extension": ".py",
   "mimetype": "text/x-python",
   "name": "python",
   "nbconvert_exporter": "python",
   "pygments_lexer": "ipython3",
   "version": "3.8.8"
  }
 },
 "nbformat": 4,
 "nbformat_minor": 5
}
