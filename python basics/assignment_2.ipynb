{
 "cells": [
  {
   "cell_type": "markdown",
   "id": "4956f241",
   "metadata": {},
   "source": [
    "# question no - 1"
   ]
  },
  {
   "cell_type": "markdown",
   "id": "556e8af4",
   "metadata": {},
   "source": [
    "What are the two values of the Boolean data type? How do you write them?\n",
    "\n",
    "--------------------------------------------------------------------------------\n",
    "\n",
    "answers :\n",
    "\n",
    "\n",
    "`True`,`False` are the two values of boolean data type.They are writen like the first letters are capital letter and the rest is small letters "
   ]
  },
  {
   "cell_type": "markdown",
   "id": "a2f9ca16",
   "metadata": {},
   "source": [
    "# question no - 2"
   ]
  },
  {
   "cell_type": "markdown",
   "id": "147494c0",
   "metadata": {},
   "source": [
    "What are the three different types of Boolean operators?\n",
    "\n",
    "-------------------------------------------------------------\n",
    "\n",
    "answers :\n",
    "\n",
    "`and` , `or` and `not` are the three type of boolean operators"
   ]
  },
  {
   "cell_type": "code",
   "execution_count": 1,
   "id": "33e36668",
   "metadata": {},
   "outputs": [
    {
     "data": {
      "text/plain": [
       "True"
      ]
     },
     "execution_count": 1,
     "metadata": {},
     "output_type": "execute_result"
    }
   ],
   "source": [
    "1<3 and 3>1"
   ]
  },
  {
   "cell_type": "code",
   "execution_count": 2,
   "id": "20ff99aa",
   "metadata": {},
   "outputs": [
    {
     "data": {
      "text/plain": [
       "False"
      ]
     },
     "execution_count": 2,
     "metadata": {},
     "output_type": "execute_result"
    }
   ],
   "source": [
    "1>3 or 3>5"
   ]
  },
  {
   "cell_type": "code",
   "execution_count": 3,
   "id": "529f311e",
   "metadata": {},
   "outputs": [
    {
     "data": {
      "text/plain": [
       "True"
      ]
     },
     "execution_count": 3,
     "metadata": {},
     "output_type": "execute_result"
    }
   ],
   "source": [
    "not 6>7"
   ]
  },
  {
   "cell_type": "markdown",
   "id": "042e1503",
   "metadata": {},
   "source": [
    "# question no - 3"
   ]
  },
  {
   "cell_type": "markdown",
   "id": "21b13563",
   "metadata": {},
   "source": [
    " Make a list of each Boolean operator's truth tables (i.e. every possible combination of Boolean values for the operator and what it evaluate) ?\n",
    " \n",
    " ------------------------------------------------------------------------------\n",
    " \n",
    " answers:\n",
    " \n",
    " \n",
    " * `and`\n",
    " \n",
    " \n",
    "True and True = True\n",
    "\n",
    "True and False = False\n",
    "\n",
    "False and True = False\n",
    "\n",
    "False and False = False\n",
    "\n",
    "\n",
    "* `r`\n",
    "\n",
    "\n",
    "True or True = True  \n",
    "\n",
    "True or False = True \n",
    "\n",
    "False or True = True  \n",
    "\n",
    "False or False = False\n",
    "\n",
    "* `not`\n",
    "\n",
    "\n",
    "not True = False \n",
    "\n",
    "not False = True"
   ]
  },
  {
   "cell_type": "markdown",
   "id": "4e7c9a60",
   "metadata": {},
   "source": [
    "# question no - 4"
   ]
  },
  {
   "cell_type": "markdown",
   "id": "6ea20dfe",
   "metadata": {},
   "source": [
    "What are the values of the following expressions?\n",
    "`(5 > 4) and (3 == 5)`\n",
    "\n",
    "`not (5 > 4)`\n",
    "\n",
    "`(5 > 4) or (3 == 5)`\n",
    "\n",
    "`not ((5 > 4) or (3 == 5))`\n",
    "\n",
    "`(True and True) and (True == False)`\n",
    "\n",
    "`(not False) or (not True)`\n",
    "\n",
    "--------------------------------------------------------------\n",
    "\n",
    "answers:\n",
    "\n",
    "`(5 > 4) and (3 == 5) `      -->  False\n",
    "\n",
    "`not (5 > 4)`                -->  False\n",
    "\n",
    "`(5 > 4) or (3 == 5) `       -->  True\n",
    "\n",
    "`not ((5 > 4) or (3 == 5)) ` -->  False\n",
    "\n",
    "`(True and True) and (True == False) `  --> False\n",
    "\n",
    "`(not False) or (not True)`  -->  True"
   ]
  },
  {
   "cell_type": "code",
   "execution_count": 6,
   "id": "a27c3578",
   "metadata": {},
   "outputs": [
    {
     "data": {
      "text/plain": [
       "False"
      ]
     },
     "execution_count": 6,
     "metadata": {},
     "output_type": "execute_result"
    }
   ],
   "source": [
    "(5 > 4) and (3 == 5) "
   ]
  },
  {
   "cell_type": "code",
   "execution_count": 7,
   "id": "ec2dece4",
   "metadata": {},
   "outputs": [
    {
     "data": {
      "text/plain": [
       "False"
      ]
     },
     "execution_count": 7,
     "metadata": {},
     "output_type": "execute_result"
    }
   ],
   "source": [
    "not (5 > 4)"
   ]
  },
  {
   "cell_type": "code",
   "execution_count": 8,
   "id": "ae7cd35a",
   "metadata": {},
   "outputs": [
    {
     "data": {
      "text/plain": [
       "True"
      ]
     },
     "execution_count": 8,
     "metadata": {},
     "output_type": "execute_result"
    }
   ],
   "source": [
    "(5 > 4) or (3 == 5)"
   ]
  },
  {
   "cell_type": "code",
   "execution_count": 9,
   "id": "aed9c758",
   "metadata": {},
   "outputs": [
    {
     "data": {
      "text/plain": [
       "False"
      ]
     },
     "execution_count": 9,
     "metadata": {},
     "output_type": "execute_result"
    }
   ],
   "source": [
    "not ((5 > 4) or (3 == 5))"
   ]
  },
  {
   "cell_type": "code",
   "execution_count": 10,
   "id": "41b3fb60",
   "metadata": {},
   "outputs": [
    {
     "data": {
      "text/plain": [
       "False"
      ]
     },
     "execution_count": 10,
     "metadata": {},
     "output_type": "execute_result"
    }
   ],
   "source": [
    "(True and True) and (True == False)"
   ]
  },
  {
   "cell_type": "code",
   "execution_count": 11,
   "id": "fd417e23",
   "metadata": {},
   "outputs": [
    {
     "data": {
      "text/plain": [
       "True"
      ]
     },
     "execution_count": 11,
     "metadata": {},
     "output_type": "execute_result"
    }
   ],
   "source": [
    "(not False) or (not True)"
   ]
  },
  {
   "cell_type": "markdown",
   "id": "88b739ff",
   "metadata": {},
   "source": [
    "# question no - 5"
   ]
  },
  {
   "cell_type": "markdown",
   "id": "3da8f31d",
   "metadata": {},
   "source": [
    "What are the six comparison operators?\n",
    "\n",
    "----------------------------------------------------------------\n",
    "\n",
    "answers:\n",
    "    \n",
    "`==`,`!=`,`<`,`>`,`<=`,`>=`  are the six comparison operators "
   ]
  },
  {
   "cell_type": "markdown",
   "id": "83feb169",
   "metadata": {},
   "source": [
    "# question no - 6"
   ]
  },
  {
   "cell_type": "markdown",
   "id": "e6a5c896",
   "metadata": {},
   "source": [
    "How do you tell the difference between the equal to and assignment operators?Describe a\n",
    "condition and when you would use one.\n",
    "\n",
    "-------------------------------------------------------------------------------------------\n",
    "\n",
    "answers:\n",
    "\n",
    "equal to `==` is the operator which is used to compare the values and gives our as boolean \n",
    "by using `a==10` python compare the value of a to 10 and gives correspondig boolian value\n",
    "\n",
    "assignment operator `=` is the operator which is used to store values to the variable\n",
    "when using `a=10` python save the value 10 t0 the variable a "
   ]
  },
  {
   "cell_type": "code",
   "execution_count": 14,
   "id": "0e9da7f0",
   "metadata": {},
   "outputs": [],
   "source": [
    "a=10"
   ]
  },
  {
   "cell_type": "code",
   "execution_count": 15,
   "id": "d24c4071",
   "metadata": {},
   "outputs": [
    {
     "name": "stdout",
     "output_type": "stream",
     "text": [
      "True\n"
     ]
    }
   ],
   "source": [
    "if a==10:\n",
    "    print(a==10)"
   ]
  },
  {
   "cell_type": "markdown",
   "id": "042beeae",
   "metadata": {},
   "source": [
    "# question no - 7"
   ]
  },
  {
   "cell_type": "markdown",
   "id": "fedca681",
   "metadata": {},
   "source": [
    "Identify the three blocks in this code:\n",
    "\n",
    "\n",
    "`spam = 0\n",
    "if spam == 10:\n",
    "    print('eggs')\n",
    "if spam > 5:\n",
    "    print('bacon')\n",
    "else:\n",
    "    print('ham')\n",
    "    print('spam')\n",
    "    print('spam')`\n",
    "\n",
    "------------------------------------------------------------\n",
    "\n",
    "answers:\n",
    "\n",
    "blocks are the codes of similar indentation, here "
   ]
  },
  {
   "cell_type": "code",
   "execution_count": 16,
   "id": "04bb76d2",
   "metadata": {},
   "outputs": [
    {
     "name": "stdout",
     "output_type": "stream",
     "text": [
      "ham\n",
      "spam\n",
      "spam\n"
     ]
    }
   ],
   "source": [
    "spam = 0\n",
    "if spam == 10:\n",
    "    print('eggs')      #--> block  1\n",
    "if spam > 5:\n",
    "    print('bacon')     #--> block 2\n",
    "else:\n",
    "    print('ham')       #--> block 3\n",
    "    print('spam')\n",
    "    print('spam')"
   ]
  },
  {
   "cell_type": "markdown",
   "id": "52928fef",
   "metadata": {},
   "source": [
    "# question no -8"
   ]
  },
  {
   "cell_type": "markdown",
   "id": "588aba6b",
   "metadata": {},
   "source": [
    "Write code that prints Hello if 1 is stored in spam, prints Howdy if 2 is stored in spam, and prints\n",
    "Greetings! if anything else is stored in spam.\n",
    "\n",
    "---------------------------------------------------------------------\n",
    "\n",
    "answers:\n",
    "\n"
   ]
  },
  {
   "cell_type": "code",
   "execution_count": 2,
   "id": "5a3aa81b",
   "metadata": {},
   "outputs": [],
   "source": [
    "def spam(spam):\n",
    "    if spam==1:\n",
    "        print('Hello')\n",
    "    elif spam==2:\n",
    "        print('Howdy')\n",
    "    else:\n",
    "        print('Greetings!')        "
   ]
  },
  {
   "cell_type": "code",
   "execution_count": 3,
   "id": "f86d09a8",
   "metadata": {},
   "outputs": [
    {
     "name": "stdout",
     "output_type": "stream",
     "text": [
      "Hello\n",
      "Howdy\n",
      "Greetings!\n"
     ]
    }
   ],
   "source": [
    "spam(1)\n",
    "spam(2)\n",
    "spam(3)"
   ]
  },
  {
   "cell_type": "markdown",
   "id": "3311d6ce",
   "metadata": {},
   "source": [
    "# question no - 9"
   ]
  },
  {
   "cell_type": "markdown",
   "id": "ac81cef6",
   "metadata": {},
   "source": [
    "If your programme is stuck in an endless loop, what keys you’ll press?\n",
    "\n",
    "-----------------------------------------------------------------\n",
    "\n",
    "answers:\n",
    "\n",
    "press `ctrl+c` to terminater infinit loop"
   ]
  },
  {
   "cell_type": "markdown",
   "id": "35e8820f",
   "metadata": {},
   "source": [
    "# question no - 10"
   ]
  },
  {
   "cell_type": "markdown",
   "id": "27042ef1",
   "metadata": {},
   "source": [
    "How can you tell the difference between break and continue?\n",
    "\n",
    "-----------------------------------------------------------------\n",
    "\n",
    "\n",
    "answers:\n",
    "\n",
    "The `break` statement will break the loop and goes on to the code outside the loop.but `continue` statement helps to run the code from the start of the loop."
   ]
  },
  {
   "cell_type": "markdown",
   "id": "f802d10f",
   "metadata": {},
   "source": [
    "# question no - 11"
   ]
  },
  {
   "cell_type": "markdown",
   "id": "3792c0a6",
   "metadata": {},
   "source": [
    "In a for loop, what is the difference between range(10), range(0, 10), and range(0, 10, 1)?\n",
    "\n",
    "-------------------------------------------------------------------------------------------------\n",
    "\n",
    "answers:\n",
    "\n",
    "the differences are \n",
    "in range(10)  --> loop takes values from 0 to 9 \n",
    "in range(0,10) --> loop takes values from 0 to 9 but telling to start from 0 exactly\n",
    "in range(0,10,1) --> loop takes values from 0 to 9 but telling to start from 0 and incriment by 1 exactly"
   ]
  },
  {
   "cell_type": "code",
   "execution_count": 10,
   "id": "6b1ecdba",
   "metadata": {},
   "outputs": [
    {
     "name": "stdout",
     "output_type": "stream",
     "text": [
      "range(0, 10) range(0, 10) range(0, 10)\n"
     ]
    }
   ],
   "source": [
    "print(range(10),\n",
    "    range(0, 10) ,\n",
    "    range(0, 10, 1))"
   ]
  },
  {
   "cell_type": "markdown",
   "id": "296a7f3c",
   "metadata": {},
   "source": [
    "# question no -12"
   ]
  },
  {
   "cell_type": "markdown",
   "id": "c84cdf8a",
   "metadata": {},
   "source": [
    "Write a short program that prints the numbers 1 to 10 using a for loop. Then write an equivalent\n",
    "program that prints the numbers 1 to 10 using a while loop.\n",
    "\n",
    "-----------------------------------------------------------------------------------------------------\n",
    "\n",
    "answers:"
   ]
  },
  {
   "cell_type": "code",
   "execution_count": 12,
   "id": "7125b271",
   "metadata": {},
   "outputs": [
    {
     "name": "stdout",
     "output_type": "stream",
     "text": [
      "1 2 3 4 5 6 7 8 9 10 "
     ]
    }
   ],
   "source": [
    "# using for loop \n",
    "for i in range(1,11):\n",
    "    print(i,end=' ')\n",
    "    "
   ]
  },
  {
   "cell_type": "code",
   "execution_count": 14,
   "id": "f1a87e1b",
   "metadata": {},
   "outputs": [
    {
     "name": "stdout",
     "output_type": "stream",
     "text": [
      "1 2 3 4 5 6 7 8 9 10 "
     ]
    }
   ],
   "source": [
    "# using while loop\n",
    "x=1\n",
    "while x<=10:\n",
    "    print(x , end=' ')\n",
    "    x+=1"
   ]
  },
  {
   "cell_type": "markdown",
   "id": "988e6796",
   "metadata": {},
   "source": [
    "# question no - 13"
   ]
  },
  {
   "cell_type": "markdown",
   "id": "74073af1",
   "metadata": {},
   "source": [
    "If you had a function named bacon() inside a module named spam, how would you call it after\n",
    "importing spam?\n",
    "\n",
    "------------------------------------------------------------------------------------------------\n",
    "\n",
    "answers :\n",
    "    \n",
    "   the funtion will be called as `spam.bacon()`"
   ]
  },
  {
   "cell_type": "code",
   "execution_count": null,
   "id": "85636351",
   "metadata": {},
   "outputs": [],
   "source": []
  }
 ],
 "metadata": {
  "kernelspec": {
   "display_name": "Python 3",
   "language": "python",
   "name": "python3"
  },
  "language_info": {
   "codemirror_mode": {
    "name": "ipython",
    "version": 3
   },
   "file_extension": ".py",
   "mimetype": "text/x-python",
   "name": "python",
   "nbconvert_exporter": "python",
   "pygments_lexer": "ipython3",
   "version": "3.8.8"
  }
 },
 "nbformat": 4,
 "nbformat_minor": 5
}
